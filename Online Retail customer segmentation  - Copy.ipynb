{
 "cells": [
  {
   "cell_type": "code",
   "execution_count": 1,
   "id": "67e769c5",
   "metadata": {},
   "outputs": [],
   "source": [
    "# "
   ]
  },
  {
   "cell_type": "markdown",
   "id": "2094cd78",
   "metadata": {},
   "source": [
    "# ONLINE RETAIL DATASET"
   ]
  },
  {
   "cell_type": "code",
   "execution_count": null,
   "id": "8d28bfba",
   "metadata": {},
   "outputs": [],
   "source": []
  },
  {
   "cell_type": "markdown",
   "id": "1298128e",
   "metadata": {},
   "source": [
    "# Data description\n",
    "\n",
    "The \"Online Retail Transaction\" dataset contains information on transactions made by customers through an online retail platform. The dataset includes data on the products that were purchased, the quantity of each product, the date and time of each transaction, the price of each product, the unique identifier for each customer who made a purchase, and the country where each customer is located. This dataset can be used to analyze customer behavior and preferences, identify popular products, and optimize pricing and marketing strategies. The dataset is well-suited for data analysis and machine learning applications, as it contains a large volume of transactional data that can be used to train predictive models and make data-driven decisions.\n",
    "\n",
    "\n",
    "\n",
    "# Column Descriptors\n",
    "\n",
    " - StockCode: A code used to identify the product that was purchased\n",
    " - Description: A brief description of the product that was purchased\n",
    " - Quantity: The quantity of the product that was purchased\n",
    " - InvoiceDate: The date and time that the purchase was made\n",
    " - UnitPrice: The price of one unit of the product that was purchased\n",
    " - CustomerID: The unique identifier for the customer who made the purchase\n",
    " - Country: The country where the customer who made the purchase is located"
   ]
  },
  {
   "cell_type": "code",
   "execution_count": null,
   "id": "60028444",
   "metadata": {},
   "outputs": [],
   "source": []
  },
  {
   "cell_type": "code",
   "execution_count": 2,
   "id": "aaabd7e4",
   "metadata": {},
   "outputs": [],
   "source": [
    "import numpy as np\n",
    "import pandas as pd\n",
    "import matplotlib.pyplot as plt\n",
    "import seaborn as sns\n",
    "import nltk\n",
    "from nltk.corpus import stopwords\n",
    "from nltk.tokenize import word_tokenize\n",
    "from nltk.stem import PorterStemmer\n",
    "from sklearn.feature_extraction.text import CountVectorizer, TfidfVectorizer\n",
    "import matplotlib.pyplot as plt\n",
    "from wordcloud import WordCloud\n",
    "\n",
    "from scipy.cluster.hierarchy import linkage\n",
    "from scipy.cluster.hierarchy import dendrogram\n",
    "from sklearn.cluster import AgglomerativeClustering"
   ]
  },
  {
   "cell_type": "code",
   "execution_count": 3,
   "id": "b6bdf58a",
   "metadata": {},
   "outputs": [],
   "source": [
    "df=pd.read_csv(r\"D:\\DATASET\\Online Retail transactions Dataset\\Online Retail.csv\")"
   ]
  },
  {
   "cell_type": "code",
   "execution_count": 4,
   "id": "3eba8ab3",
   "metadata": {},
   "outputs": [
    {
     "data": {
      "text/html": [
       "<div>\n",
       "<style scoped>\n",
       "    .dataframe tbody tr th:only-of-type {\n",
       "        vertical-align: middle;\n",
       "    }\n",
       "\n",
       "    .dataframe tbody tr th {\n",
       "        vertical-align: top;\n",
       "    }\n",
       "\n",
       "    .dataframe thead th {\n",
       "        text-align: right;\n",
       "    }\n",
       "</style>\n",
       "<table border=\"1\" class=\"dataframe\">\n",
       "  <thead>\n",
       "    <tr style=\"text-align: right;\">\n",
       "      <th></th>\n",
       "      <th>InvoiceNo</th>\n",
       "      <th>StockCode</th>\n",
       "      <th>Description</th>\n",
       "      <th>Quantity</th>\n",
       "      <th>InvoiceDate</th>\n",
       "      <th>UnitPrice</th>\n",
       "      <th>CustomerID</th>\n",
       "      <th>Country</th>\n",
       "    </tr>\n",
       "  </thead>\n",
       "  <tbody>\n",
       "    <tr>\n",
       "      <th>0</th>\n",
       "      <td>536365</td>\n",
       "      <td>85123A</td>\n",
       "      <td>WHITE HANGING HEART T-LIGHT HOLDER</td>\n",
       "      <td>6</td>\n",
       "      <td>2010-12-01 08:26:00</td>\n",
       "      <td>2.55</td>\n",
       "      <td>17850</td>\n",
       "      <td>United Kingdom</td>\n",
       "    </tr>\n",
       "    <tr>\n",
       "      <th>1</th>\n",
       "      <td>536365</td>\n",
       "      <td>71053</td>\n",
       "      <td>WHITE METAL LANTERN</td>\n",
       "      <td>6</td>\n",
       "      <td>2010-12-01 08:26:00</td>\n",
       "      <td>3.39</td>\n",
       "      <td>17850</td>\n",
       "      <td>United Kingdom</td>\n",
       "    </tr>\n",
       "    <tr>\n",
       "      <th>2</th>\n",
       "      <td>536365</td>\n",
       "      <td>84406B</td>\n",
       "      <td>CREAM CUPID HEARTS COAT HANGER</td>\n",
       "      <td>8</td>\n",
       "      <td>2010-12-01 08:26:00</td>\n",
       "      <td>2.75</td>\n",
       "      <td>17850</td>\n",
       "      <td>United Kingdom</td>\n",
       "    </tr>\n",
       "    <tr>\n",
       "      <th>3</th>\n",
       "      <td>536365</td>\n",
       "      <td>84029G</td>\n",
       "      <td>KNITTED UNION FLAG HOT WATER BOTTLE</td>\n",
       "      <td>6</td>\n",
       "      <td>2010-12-01 08:26:00</td>\n",
       "      <td>3.39</td>\n",
       "      <td>17850</td>\n",
       "      <td>United Kingdom</td>\n",
       "    </tr>\n",
       "    <tr>\n",
       "      <th>4</th>\n",
       "      <td>536365</td>\n",
       "      <td>84029E</td>\n",
       "      <td>RED WOOLLY HOTTIE WHITE HEART.</td>\n",
       "      <td>6</td>\n",
       "      <td>2010-12-01 08:26:00</td>\n",
       "      <td>3.39</td>\n",
       "      <td>17850</td>\n",
       "      <td>United Kingdom</td>\n",
       "    </tr>\n",
       "  </tbody>\n",
       "</table>\n",
       "</div>"
      ],
      "text/plain": [
       "  InvoiceNo StockCode                          Description  Quantity  \\\n",
       "0    536365    85123A   WHITE HANGING HEART T-LIGHT HOLDER         6   \n",
       "1    536365     71053                  WHITE METAL LANTERN         6   \n",
       "2    536365    84406B       CREAM CUPID HEARTS COAT HANGER         8   \n",
       "3    536365    84029G  KNITTED UNION FLAG HOT WATER BOTTLE         6   \n",
       "4    536365    84029E       RED WOOLLY HOTTIE WHITE HEART.         6   \n",
       "\n",
       "           InvoiceDate  UnitPrice  CustomerID         Country  \n",
       "0  2010-12-01 08:26:00       2.55       17850  United Kingdom  \n",
       "1  2010-12-01 08:26:00       3.39       17850  United Kingdom  \n",
       "2  2010-12-01 08:26:00       2.75       17850  United Kingdom  \n",
       "3  2010-12-01 08:26:00       3.39       17850  United Kingdom  \n",
       "4  2010-12-01 08:26:00       3.39       17850  United Kingdom  "
      ]
     },
     "execution_count": 4,
     "metadata": {},
     "output_type": "execute_result"
    }
   ],
   "source": [
    "df.head()"
   ]
  },
  {
   "cell_type": "code",
   "execution_count": null,
   "id": "05b3476b",
   "metadata": {},
   "outputs": [],
   "source": []
  },
  {
   "cell_type": "code",
   "execution_count": 5,
   "id": "3a724e2e",
   "metadata": {},
   "outputs": [
    {
     "data": {
      "text/plain": [
       "(541909, 8)"
      ]
     },
     "execution_count": 5,
     "metadata": {},
     "output_type": "execute_result"
    }
   ],
   "source": [
    "df.shape"
   ]
  },
  {
   "cell_type": "code",
   "execution_count": 6,
   "id": "77ba4d7b",
   "metadata": {},
   "outputs": [
    {
     "name": "stdout",
     "output_type": "stream",
     "text": [
      "<class 'pandas.core.frame.DataFrame'>\n",
      "RangeIndex: 541909 entries, 0 to 541908\n",
      "Data columns (total 8 columns):\n",
      " #   Column       Non-Null Count   Dtype  \n",
      "---  ------       --------------   -----  \n",
      " 0   InvoiceNo    541909 non-null  object \n",
      " 1   StockCode    541909 non-null  object \n",
      " 2   Description  540455 non-null  object \n",
      " 3   Quantity     541909 non-null  int64  \n",
      " 4   InvoiceDate  541909 non-null  object \n",
      " 5   UnitPrice    541909 non-null  float64\n",
      " 6   CustomerID   541909 non-null  int64  \n",
      " 7   Country      541909 non-null  object \n",
      "dtypes: float64(1), int64(2), object(5)\n",
      "memory usage: 33.1+ MB\n"
     ]
    }
   ],
   "source": [
    "df.info()"
   ]
  },
  {
   "cell_type": "code",
   "execution_count": 7,
   "id": "f2171e15",
   "metadata": {},
   "outputs": [],
   "source": [
    "# change the datatype of invoice into int\n",
    "# invoice date is  change from object to int"
   ]
  },
  {
   "cell_type": "code",
   "execution_count": 8,
   "id": "eebc1454",
   "metadata": {},
   "outputs": [
    {
     "data": {
      "text/plain": [
       "dtype('int64')"
      ]
     },
     "execution_count": 8,
     "metadata": {},
     "output_type": "execute_result"
    }
   ],
   "source": [
    "df['CustomerID'].dtypes"
   ]
  },
  {
   "cell_type": "code",
   "execution_count": 9,
   "id": "b322dcaf",
   "metadata": {},
   "outputs": [
    {
     "data": {
      "text/plain": [
       "5268"
      ]
     },
     "execution_count": 9,
     "metadata": {},
     "output_type": "execute_result"
    }
   ],
   "source": [
    "# duplicated rows\n",
    "df.duplicated().sum()"
   ]
  },
  {
   "cell_type": "code",
   "execution_count": 10,
   "id": "7a657a7c",
   "metadata": {},
   "outputs": [
    {
     "data": {
      "text/plain": [
       "0"
      ]
     },
     "execution_count": 10,
     "metadata": {},
     "output_type": "execute_result"
    }
   ],
   "source": [
    "# Drop duplicate value\n",
    "df = df.drop_duplicates()\n",
    "# Check is there any duplicate value\n",
    "df.duplicated().sum()"
   ]
  },
  {
   "cell_type": "code",
   "execution_count": 11,
   "id": "0d0f1b92",
   "metadata": {},
   "outputs": [
    {
     "data": {
      "text/html": [
       "<div>\n",
       "<style scoped>\n",
       "    .dataframe tbody tr th:only-of-type {\n",
       "        vertical-align: middle;\n",
       "    }\n",
       "\n",
       "    .dataframe tbody tr th {\n",
       "        vertical-align: top;\n",
       "    }\n",
       "\n",
       "    .dataframe thead th {\n",
       "        text-align: right;\n",
       "    }\n",
       "</style>\n",
       "<table border=\"1\" class=\"dataframe\">\n",
       "  <thead>\n",
       "    <tr style=\"text-align: right;\">\n",
       "      <th></th>\n",
       "      <th>Quantity</th>\n",
       "      <th>UnitPrice</th>\n",
       "      <th>CustomerID</th>\n",
       "    </tr>\n",
       "  </thead>\n",
       "  <tbody>\n",
       "    <tr>\n",
       "      <th>count</th>\n",
       "      <td>536641.000000</td>\n",
       "      <td>536641.000000</td>\n",
       "      <td>536641.000000</td>\n",
       "    </tr>\n",
       "    <tr>\n",
       "      <th>mean</th>\n",
       "      <td>9.620029</td>\n",
       "      <td>4.632656</td>\n",
       "      <td>15282.630153</td>\n",
       "    </tr>\n",
       "    <tr>\n",
       "      <th>std</th>\n",
       "      <td>219.130156</td>\n",
       "      <td>97.233118</td>\n",
       "      <td>1482.756881</td>\n",
       "    </tr>\n",
       "    <tr>\n",
       "      <th>min</th>\n",
       "      <td>-80995.000000</td>\n",
       "      <td>-11062.060000</td>\n",
       "      <td>12346.000000</td>\n",
       "    </tr>\n",
       "    <tr>\n",
       "      <th>25%</th>\n",
       "      <td>1.000000</td>\n",
       "      <td>1.250000</td>\n",
       "      <td>14367.000000</td>\n",
       "    </tr>\n",
       "    <tr>\n",
       "      <th>50%</th>\n",
       "      <td>3.000000</td>\n",
       "      <td>2.080000</td>\n",
       "      <td>15287.000000</td>\n",
       "    </tr>\n",
       "    <tr>\n",
       "      <th>75%</th>\n",
       "      <td>10.000000</td>\n",
       "      <td>4.130000</td>\n",
       "      <td>16241.000000</td>\n",
       "    </tr>\n",
       "    <tr>\n",
       "      <th>max</th>\n",
       "      <td>80995.000000</td>\n",
       "      <td>38970.000000</td>\n",
       "      <td>18287.000000</td>\n",
       "    </tr>\n",
       "  </tbody>\n",
       "</table>\n",
       "</div>"
      ],
      "text/plain": [
       "            Quantity      UnitPrice     CustomerID\n",
       "count  536641.000000  536641.000000  536641.000000\n",
       "mean        9.620029       4.632656   15282.630153\n",
       "std       219.130156      97.233118    1482.756881\n",
       "min    -80995.000000  -11062.060000   12346.000000\n",
       "25%         1.000000       1.250000   14367.000000\n",
       "50%         3.000000       2.080000   15287.000000\n",
       "75%        10.000000       4.130000   16241.000000\n",
       "max     80995.000000   38970.000000   18287.000000"
      ]
     },
     "execution_count": 11,
     "metadata": {},
     "output_type": "execute_result"
    }
   ],
   "source": [
    "df.describe()"
   ]
  },
  {
   "cell_type": "markdown",
   "id": "e34f3d51",
   "metadata": {},
   "source": [
    " - In quantity and unit price there is large difference b/w 75% and max ok these column\n",
    " - unitPrice and quantity column has negative value.\n",
    " - but in actual unitPrice and Quantity cant be negative\n",
    "\n",
    " - We can observe from the preceding output that Quantity and UnitPrice are having negative values, which may mean that we may have some return transactions in our data also. As our goal is customer segmentation and market basket analysis, it is important that these records are removed."
   ]
  },
  {
   "cell_type": "code",
   "execution_count": 12,
   "id": "b7f04a84",
   "metadata": {},
   "outputs": [
    {
     "name": "stdout",
     "output_type": "stream",
     "text": [
      "Check if we had negative quantity and prices at same customerid:\n",
      "no\n"
     ]
    }
   ],
   "source": [
    "print('Check if we had negative quantity and prices at same customerid:')\n",
    "if df[(df['Quantity'] < 0) & (df['UnitPrice'] < 0)].shape[0]==0:\n",
    "    print('no')\n",
    "else:\n",
    "    print('yes')\n"
   ]
  },
  {
   "cell_type": "code",
   "execution_count": 13,
   "id": "752bd84a",
   "metadata": {},
   "outputs": [
    {
     "name": "stdout",
     "output_type": "stream",
     "text": [
      "No. of customer with quantity purchased is in negative AND unit price is zero  are :- 1336 \n",
      "\n",
      "No. of customer with quantity purchased is in negative 'AND' unit price is also in negative  are :- 0 \n",
      "\n",
      "No. of customer with quantity purchased is in nagative 'OR' unit price is negative  are :- 10589 \n",
      "\n",
      "No. of customer with quantity purchased is in negative :- 10587 \n",
      "\n",
      "No. of customer with quantity purchased is in positive AND unit price is negative  are :- 2 \n"
     ]
    }
   ],
   "source": [
    "df_quant_minus_unit_zero=df[(df['Quantity'] < 0) & (df['UnitPrice'] == 0)].shape[0]\n",
    "print(f\"No. of customer with quantity purchased is in negative AND unit price is zero  are :- {df_quant_minus_unit_zero} \")\n",
    "\n",
    "print()\n",
    "\n",
    "\n",
    "df_quant_minus_unit_minus=df[(df['Quantity'] < 0) & (df['UnitPrice']< 0)].shape[0]\n",
    "print(f\"No. of customer with quantity purchased is in negative 'AND' unit price is also in negative  are :- {df_quant_minus_unit_minus} \")\n",
    "\n",
    "print()\n",
    "\n",
    "df_quant_neg_OR_unitprice_neg=df[(df['Quantity'] < 0) | (df['UnitPrice']< 0)].shape[0]\n",
    "print(f\"No. of customer with quantity purchased is in nagative 'OR' unit price is negative  are :- {df_quant_neg_OR_unitprice_neg} \")\n",
    "\n",
    "print()\n",
    "\n",
    "df_quant_neg=df[(df['Quantity'] < 0)].shape[0]\n",
    "print(f\"No. of customer with quantity purchased is in negative :- {df_quant_neg} \")\n",
    "\n",
    "print()\n",
    "\n",
    "df_quant_pos_unit_neg=df[(df['Quantity']> 0) & (df['UnitPrice'] <0)].shape[0]\n",
    "print(f\"No. of customer with quantity purchased is in positive AND unit price is negative  are :- {df_quant_pos_unit_neg} \")"
   ]
  },
  {
   "cell_type": "markdown",
   "id": "b292d416",
   "metadata": {},
   "source": [
    "####  1336 rows where quantity is -ve and unit price is 0  , maximum chance are there that these items are returned"
   ]
  },
  {
   "cell_type": "code",
   "execution_count": 14,
   "id": "57cb1a66",
   "metadata": {},
   "outputs": [
    {
     "data": {
      "text/html": [
       "<div>\n",
       "<style scoped>\n",
       "    .dataframe tbody tr th:only-of-type {\n",
       "        vertical-align: middle;\n",
       "    }\n",
       "\n",
       "    .dataframe tbody tr th {\n",
       "        vertical-align: top;\n",
       "    }\n",
       "\n",
       "    .dataframe thead th {\n",
       "        text-align: right;\n",
       "    }\n",
       "</style>\n",
       "<table border=\"1\" class=\"dataframe\">\n",
       "  <thead>\n",
       "    <tr style=\"text-align: right;\">\n",
       "      <th></th>\n",
       "      <th>InvoiceNo</th>\n",
       "      <th>StockCode</th>\n",
       "      <th>Description</th>\n",
       "      <th>Quantity</th>\n",
       "      <th>InvoiceDate</th>\n",
       "      <th>UnitPrice</th>\n",
       "      <th>CustomerID</th>\n",
       "      <th>Country</th>\n",
       "    </tr>\n",
       "  </thead>\n",
       "  <tbody>\n",
       "    <tr>\n",
       "      <th>141</th>\n",
       "      <td>C536379</td>\n",
       "      <td>D</td>\n",
       "      <td>Discount</td>\n",
       "      <td>-1</td>\n",
       "      <td>2010-12-01 09:41:00</td>\n",
       "      <td>27.50</td>\n",
       "      <td>14527</td>\n",
       "      <td>United Kingdom</td>\n",
       "    </tr>\n",
       "    <tr>\n",
       "      <th>154</th>\n",
       "      <td>C536383</td>\n",
       "      <td>35004C</td>\n",
       "      <td>SET OF 3 COLOURED  FLYING DUCKS</td>\n",
       "      <td>-1</td>\n",
       "      <td>2010-12-01 09:49:00</td>\n",
       "      <td>4.65</td>\n",
       "      <td>15311</td>\n",
       "      <td>United Kingdom</td>\n",
       "    </tr>\n",
       "    <tr>\n",
       "      <th>235</th>\n",
       "      <td>C536391</td>\n",
       "      <td>22556</td>\n",
       "      <td>PLASTERS IN TIN CIRCUS PARADE</td>\n",
       "      <td>-12</td>\n",
       "      <td>2010-12-01 10:24:00</td>\n",
       "      <td>1.65</td>\n",
       "      <td>17548</td>\n",
       "      <td>United Kingdom</td>\n",
       "    </tr>\n",
       "    <tr>\n",
       "      <th>236</th>\n",
       "      <td>C536391</td>\n",
       "      <td>21984</td>\n",
       "      <td>PACK OF 12 PINK PAISLEY TISSUES</td>\n",
       "      <td>-24</td>\n",
       "      <td>2010-12-01 10:24:00</td>\n",
       "      <td>0.29</td>\n",
       "      <td>17548</td>\n",
       "      <td>United Kingdom</td>\n",
       "    </tr>\n",
       "    <tr>\n",
       "      <th>237</th>\n",
       "      <td>C536391</td>\n",
       "      <td>21983</td>\n",
       "      <td>PACK OF 12 BLUE PAISLEY TISSUES</td>\n",
       "      <td>-24</td>\n",
       "      <td>2010-12-01 10:24:00</td>\n",
       "      <td>0.29</td>\n",
       "      <td>17548</td>\n",
       "      <td>United Kingdom</td>\n",
       "    </tr>\n",
       "    <tr>\n",
       "      <th>...</th>\n",
       "      <td>...</td>\n",
       "      <td>...</td>\n",
       "      <td>...</td>\n",
       "      <td>...</td>\n",
       "      <td>...</td>\n",
       "      <td>...</td>\n",
       "      <td>...</td>\n",
       "      <td>...</td>\n",
       "    </tr>\n",
       "    <tr>\n",
       "      <th>540449</th>\n",
       "      <td>C581490</td>\n",
       "      <td>23144</td>\n",
       "      <td>ZINC T-LIGHT HOLDER STARS SMALL</td>\n",
       "      <td>-11</td>\n",
       "      <td>2011-12-09 09:57:00</td>\n",
       "      <td>0.83</td>\n",
       "      <td>14397</td>\n",
       "      <td>United Kingdom</td>\n",
       "    </tr>\n",
       "    <tr>\n",
       "      <th>541541</th>\n",
       "      <td>C581499</td>\n",
       "      <td>M</td>\n",
       "      <td>Manual</td>\n",
       "      <td>-1</td>\n",
       "      <td>2011-12-09 10:28:00</td>\n",
       "      <td>224.69</td>\n",
       "      <td>15498</td>\n",
       "      <td>United Kingdom</td>\n",
       "    </tr>\n",
       "    <tr>\n",
       "      <th>541715</th>\n",
       "      <td>C581568</td>\n",
       "      <td>21258</td>\n",
       "      <td>VICTORIAN SEWING BOX LARGE</td>\n",
       "      <td>-5</td>\n",
       "      <td>2011-12-09 11:57:00</td>\n",
       "      <td>10.95</td>\n",
       "      <td>15311</td>\n",
       "      <td>United Kingdom</td>\n",
       "    </tr>\n",
       "    <tr>\n",
       "      <th>541716</th>\n",
       "      <td>C581569</td>\n",
       "      <td>84978</td>\n",
       "      <td>HANGING HEART JAR T-LIGHT HOLDER</td>\n",
       "      <td>-1</td>\n",
       "      <td>2011-12-09 11:58:00</td>\n",
       "      <td>1.25</td>\n",
       "      <td>17315</td>\n",
       "      <td>United Kingdom</td>\n",
       "    </tr>\n",
       "    <tr>\n",
       "      <th>541717</th>\n",
       "      <td>C581569</td>\n",
       "      <td>20979</td>\n",
       "      <td>36 PENCILS TUBE RED RETROSPOT</td>\n",
       "      <td>-5</td>\n",
       "      <td>2011-12-09 11:58:00</td>\n",
       "      <td>1.25</td>\n",
       "      <td>17315</td>\n",
       "      <td>United Kingdom</td>\n",
       "    </tr>\n",
       "  </tbody>\n",
       "</table>\n",
       "<p>9251 rows × 8 columns</p>\n",
       "</div>"
      ],
      "text/plain": [
       "       InvoiceNo StockCode                       Description  Quantity  \\\n",
       "141      C536379         D                          Discount        -1   \n",
       "154      C536383    35004C   SET OF 3 COLOURED  FLYING DUCKS        -1   \n",
       "235      C536391     22556    PLASTERS IN TIN CIRCUS PARADE        -12   \n",
       "236      C536391     21984  PACK OF 12 PINK PAISLEY TISSUES        -24   \n",
       "237      C536391     21983  PACK OF 12 BLUE PAISLEY TISSUES        -24   \n",
       "...          ...       ...                               ...       ...   \n",
       "540449   C581490     23144   ZINC T-LIGHT HOLDER STARS SMALL       -11   \n",
       "541541   C581499         M                            Manual        -1   \n",
       "541715   C581568     21258        VICTORIAN SEWING BOX LARGE        -5   \n",
       "541716   C581569     84978  HANGING HEART JAR T-LIGHT HOLDER        -1   \n",
       "541717   C581569     20979     36 PENCILS TUBE RED RETROSPOT        -5   \n",
       "\n",
       "                InvoiceDate  UnitPrice  CustomerID         Country  \n",
       "141     2010-12-01 09:41:00      27.50       14527  United Kingdom  \n",
       "154     2010-12-01 09:49:00       4.65       15311  United Kingdom  \n",
       "235     2010-12-01 10:24:00       1.65       17548  United Kingdom  \n",
       "236     2010-12-01 10:24:00       0.29       17548  United Kingdom  \n",
       "237     2010-12-01 10:24:00       0.29       17548  United Kingdom  \n",
       "...                     ...        ...         ...             ...  \n",
       "540449  2011-12-09 09:57:00       0.83       14397  United Kingdom  \n",
       "541541  2011-12-09 10:28:00     224.69       15498  United Kingdom  \n",
       "541715  2011-12-09 11:57:00      10.95       15311  United Kingdom  \n",
       "541716  2011-12-09 11:58:00       1.25       17315  United Kingdom  \n",
       "541717  2011-12-09 11:58:00       1.25       17315  United Kingdom  \n",
       "\n",
       "[9251 rows x 8 columns]"
      ]
     },
     "execution_count": 14,
     "metadata": {},
     "output_type": "execute_result"
    }
   ],
   "source": [
    "df[df['InvoiceNo'].str.startswith('C')]"
   ]
  },
  {
   "cell_type": "code",
   "execution_count": 15,
   "id": "e3d77300",
   "metadata": {},
   "outputs": [
    {
     "data": {
      "text/plain": [
       "9251"
      ]
     },
     "execution_count": 15,
     "metadata": {},
     "output_type": "execute_result"
    }
   ],
   "source": [
    "df[df['InvoiceNo'].str.startswith('C')].shape[0]"
   ]
  },
  {
   "cell_type": "code",
   "execution_count": 16,
   "id": "4f243d13",
   "metadata": {},
   "outputs": [],
   "source": [
    "# Invoice start with C , it repesent the order is retured or cancel"
   ]
  },
  {
   "cell_type": "code",
   "execution_count": 17,
   "id": "22e3dd37",
   "metadata": {},
   "outputs": [
    {
     "data": {
      "text/plain": [
       "10589"
      ]
     },
     "execution_count": 17,
     "metadata": {},
     "output_type": "execute_result"
    }
   ],
   "source": [
    "df[(df['Quantity'] < 0) | (df['UnitPrice']< 0)].shape[0]\n",
    "\n",
    "# quantity is in -ve or unit price is less than 0"
   ]
  },
  {
   "cell_type": "code",
   "execution_count": 18,
   "id": "0b891624",
   "metadata": {},
   "outputs": [
    {
     "data": {
      "text/plain": [
       "10587"
      ]
     },
     "execution_count": 18,
     "metadata": {},
     "output_type": "execute_result"
    }
   ],
   "source": [
    "del_rows=df[(df['Quantity'] < 0)].shape[0]\n",
    "del_rows\n",
    "\n",
    "# del. rows where quantity is negative, bcz these are returned order,  and it will not help in our analysis"
   ]
  },
  {
   "cell_type": "markdown",
   "id": "8f7912d8",
   "metadata": {},
   "source": [
    "#### 10587 quantity are -ve , either these quantity are returned or there are some human error while entering data"
   ]
  },
  {
   "cell_type": "code",
   "execution_count": 19,
   "id": "6f6c3f7b",
   "metadata": {},
   "outputs": [],
   "source": [
    "del_rows = df[df['Quantity'] < 0].index\n",
    "\n",
    "# Drop the rows from the DataFrame\n",
    "df.drop(del_rows, inplace=True)"
   ]
  },
  {
   "cell_type": "code",
   "execution_count": 20,
   "id": "97c6653c",
   "metadata": {},
   "outputs": [
    {
     "data": {
      "text/plain": [
       "(526054, 8)"
      ]
     },
     "execution_count": 20,
     "metadata": {},
     "output_type": "execute_result"
    }
   ],
   "source": [
    "df.shape"
   ]
  },
  {
   "cell_type": "code",
   "execution_count": 21,
   "id": "5d351566",
   "metadata": {},
   "outputs": [
    {
     "data": {
      "text/html": [
       "<div>\n",
       "<style scoped>\n",
       "    .dataframe tbody tr th:only-of-type {\n",
       "        vertical-align: middle;\n",
       "    }\n",
       "\n",
       "    .dataframe tbody tr th {\n",
       "        vertical-align: top;\n",
       "    }\n",
       "\n",
       "    .dataframe thead th {\n",
       "        text-align: right;\n",
       "    }\n",
       "</style>\n",
       "<table border=\"1\" class=\"dataframe\">\n",
       "  <thead>\n",
       "    <tr style=\"text-align: right;\">\n",
       "      <th></th>\n",
       "      <th>InvoiceNo</th>\n",
       "      <th>StockCode</th>\n",
       "      <th>Description</th>\n",
       "      <th>Quantity</th>\n",
       "      <th>InvoiceDate</th>\n",
       "      <th>UnitPrice</th>\n",
       "      <th>CustomerID</th>\n",
       "      <th>Country</th>\n",
       "    </tr>\n",
       "  </thead>\n",
       "  <tbody>\n",
       "    <tr>\n",
       "      <th>299983</th>\n",
       "      <td>A563186</td>\n",
       "      <td>B</td>\n",
       "      <td>Adjust bad debt</td>\n",
       "      <td>1</td>\n",
       "      <td>2011-08-12 14:51:00</td>\n",
       "      <td>-11062.06</td>\n",
       "      <td>15287</td>\n",
       "      <td>United Kingdom</td>\n",
       "    </tr>\n",
       "    <tr>\n",
       "      <th>299984</th>\n",
       "      <td>A563187</td>\n",
       "      <td>B</td>\n",
       "      <td>Adjust bad debt</td>\n",
       "      <td>1</td>\n",
       "      <td>2011-08-12 14:52:00</td>\n",
       "      <td>-11062.06</td>\n",
       "      <td>15287</td>\n",
       "      <td>United Kingdom</td>\n",
       "    </tr>\n",
       "  </tbody>\n",
       "</table>\n",
       "</div>"
      ],
      "text/plain": [
       "       InvoiceNo StockCode      Description  Quantity          InvoiceDate  \\\n",
       "299983   A563186         B  Adjust bad debt         1  2011-08-12 14:51:00   \n",
       "299984   A563187         B  Adjust bad debt         1  2011-08-12 14:52:00   \n",
       "\n",
       "        UnitPrice  CustomerID         Country  \n",
       "299983  -11062.06       15287  United Kingdom  \n",
       "299984  -11062.06       15287  United Kingdom  "
      ]
     },
     "execution_count": 21,
     "metadata": {},
     "output_type": "execute_result"
    }
   ],
   "source": [
    "df[(df['Quantity']> 0) & (df['UnitPrice'] <0)]\n",
    "\n",
    "# these are the 2 rows where unit price is -ve,  means the money is refunded back for the canceled order or returned order"
   ]
  },
  {
   "cell_type": "code",
   "execution_count": 22,
   "id": "bc350a6f",
   "metadata": {},
   "outputs": [],
   "source": [
    "# here the unit price is -ve and quatity is 1,, description mention 'Adust bad debt'  and the Customerid is same"
   ]
  },
  {
   "cell_type": "code",
   "execution_count": 23,
   "id": "bbfb89c2",
   "metadata": {},
   "outputs": [
    {
     "data": {
      "text/html": [
       "<div>\n",
       "<style scoped>\n",
       "    .dataframe tbody tr th:only-of-type {\n",
       "        vertical-align: middle;\n",
       "    }\n",
       "\n",
       "    .dataframe tbody tr th {\n",
       "        vertical-align: top;\n",
       "    }\n",
       "\n",
       "    .dataframe thead th {\n",
       "        text-align: right;\n",
       "    }\n",
       "</style>\n",
       "<table border=\"1\" class=\"dataframe\">\n",
       "  <thead>\n",
       "    <tr style=\"text-align: right;\">\n",
       "      <th></th>\n",
       "      <th>InvoiceNo</th>\n",
       "      <th>StockCode</th>\n",
       "      <th>Description</th>\n",
       "      <th>Quantity</th>\n",
       "      <th>InvoiceDate</th>\n",
       "      <th>UnitPrice</th>\n",
       "      <th>CustomerID</th>\n",
       "      <th>Country</th>\n",
       "    </tr>\n",
       "  </thead>\n",
       "  <tbody>\n",
       "    <tr>\n",
       "      <th>299983</th>\n",
       "      <td>A563186</td>\n",
       "      <td>B</td>\n",
       "      <td>Adjust bad debt</td>\n",
       "      <td>1</td>\n",
       "      <td>2011-08-12 14:51:00</td>\n",
       "      <td>-11062.06</td>\n",
       "      <td>15287</td>\n",
       "      <td>United Kingdom</td>\n",
       "    </tr>\n",
       "    <tr>\n",
       "      <th>299984</th>\n",
       "      <td>A563187</td>\n",
       "      <td>B</td>\n",
       "      <td>Adjust bad debt</td>\n",
       "      <td>1</td>\n",
       "      <td>2011-08-12 14:52:00</td>\n",
       "      <td>-11062.06</td>\n",
       "      <td>15287</td>\n",
       "      <td>United Kingdom</td>\n",
       "    </tr>\n",
       "  </tbody>\n",
       "</table>\n",
       "</div>"
      ],
      "text/plain": [
       "       InvoiceNo StockCode      Description  Quantity          InvoiceDate  \\\n",
       "299983   A563186         B  Adjust bad debt         1  2011-08-12 14:51:00   \n",
       "299984   A563187         B  Adjust bad debt         1  2011-08-12 14:52:00   \n",
       "\n",
       "        UnitPrice  CustomerID         Country  \n",
       "299983  -11062.06       15287  United Kingdom  \n",
       "299984  -11062.06       15287  United Kingdom  "
      ]
     },
     "execution_count": 23,
     "metadata": {},
     "output_type": "execute_result"
    }
   ],
   "source": [
    "df[df['UnitPrice'] < 0 ]"
   ]
  },
  {
   "cell_type": "code",
   "execution_count": 24,
   "id": "a3f2fe01",
   "metadata": {},
   "outputs": [],
   "source": [
    "df.drop([299983, 299984], inplace=True)\n",
    "\n",
    "# dropping those rows where the unit price is in -ve"
   ]
  },
  {
   "cell_type": "code",
   "execution_count": 25,
   "id": "81915f3c",
   "metadata": {},
   "outputs": [
    {
     "data": {
      "text/plain": [
       "(526052, 8)"
      ]
     },
     "execution_count": 25,
     "metadata": {},
     "output_type": "execute_result"
    }
   ],
   "source": [
    "df.shape"
   ]
  },
  {
   "cell_type": "code",
   "execution_count": 26,
   "id": "19d38464",
   "metadata": {},
   "outputs": [
    {
     "name": "stdout",
     "output_type": "stream",
     "text": [
      "Finding\n",
      "1.  unit price is 0 in :- 1174 rows\n",
      "\n",
      "2.  unit price is 0 and customer id is 15287 is :- 1134  rows\n",
      "\n",
      "3.  unit price is 0  , customer id is 15287  and  country name United Kingdom :-  1132  rows\n"
     ]
    }
   ],
   "source": [
    "print('Finding')\n",
    "\n",
    "print(f\"1.  unit price is 0 in :- {df[df['UnitPrice']==0 ].shape[0]} rows\")\n",
    "print()\n",
    "print(f\"2.  unit price is 0 and customer id is 15287 is :- {df[(df['UnitPrice']==0) & (df['CustomerID']==15287) ].shape[0]}  rows\")\n",
    "print()\n",
    "print(f\"3.  unit price is 0  , customer id is 15287  and  country name United Kingdom :-  {df[(df['UnitPrice']==0) & (df['CustomerID']==15287) &(df['Country']=='United Kingdom') ].shape[0]}  rows\")"
   ]
  },
  {
   "cell_type": "markdown",
   "id": "8680f7a7",
   "metadata": {},
   "source": [
    "#### finding -  1132 rows are belongs to same customerID with same country and unit price is 0"
   ]
  },
  {
   "cell_type": "code",
   "execution_count": null,
   "id": "f239e39c",
   "metadata": {},
   "outputs": [],
   "source": []
  },
  {
   "cell_type": "code",
   "execution_count": 27,
   "id": "15a4f261",
   "metadata": {},
   "outputs": [
    {
     "data": {
      "text/html": [
       "<div>\n",
       "<style scoped>\n",
       "    .dataframe tbody tr th:only-of-type {\n",
       "        vertical-align: middle;\n",
       "    }\n",
       "\n",
       "    .dataframe tbody tr th {\n",
       "        vertical-align: top;\n",
       "    }\n",
       "\n",
       "    .dataframe thead th {\n",
       "        text-align: right;\n",
       "    }\n",
       "</style>\n",
       "<table border=\"1\" class=\"dataframe\">\n",
       "  <thead>\n",
       "    <tr style=\"text-align: right;\">\n",
       "      <th></th>\n",
       "      <th>InvoiceNo</th>\n",
       "      <th>StockCode</th>\n",
       "      <th>Description</th>\n",
       "      <th>Quantity</th>\n",
       "      <th>InvoiceDate</th>\n",
       "      <th>UnitPrice</th>\n",
       "      <th>CustomerID</th>\n",
       "      <th>Country</th>\n",
       "    </tr>\n",
       "  </thead>\n",
       "  <tbody>\n",
       "    <tr>\n",
       "      <th>622</th>\n",
       "      <td>536414</td>\n",
       "      <td>22139</td>\n",
       "      <td>NaN</td>\n",
       "      <td>56</td>\n",
       "      <td>2010-12-01 11:52:00</td>\n",
       "      <td>0.0</td>\n",
       "      <td>15287</td>\n",
       "      <td>United Kingdom</td>\n",
       "    </tr>\n",
       "    <tr>\n",
       "      <th>1970</th>\n",
       "      <td>536545</td>\n",
       "      <td>21134</td>\n",
       "      <td>NaN</td>\n",
       "      <td>1</td>\n",
       "      <td>2010-12-01 14:32:00</td>\n",
       "      <td>0.0</td>\n",
       "      <td>15287</td>\n",
       "      <td>United Kingdom</td>\n",
       "    </tr>\n",
       "    <tr>\n",
       "      <th>1971</th>\n",
       "      <td>536546</td>\n",
       "      <td>22145</td>\n",
       "      <td>NaN</td>\n",
       "      <td>1</td>\n",
       "      <td>2010-12-01 14:33:00</td>\n",
       "      <td>0.0</td>\n",
       "      <td>15287</td>\n",
       "      <td>United Kingdom</td>\n",
       "    </tr>\n",
       "    <tr>\n",
       "      <th>1972</th>\n",
       "      <td>536547</td>\n",
       "      <td>37509</td>\n",
       "      <td>NaN</td>\n",
       "      <td>1</td>\n",
       "      <td>2010-12-01 14:33:00</td>\n",
       "      <td>0.0</td>\n",
       "      <td>15287</td>\n",
       "      <td>United Kingdom</td>\n",
       "    </tr>\n",
       "    <tr>\n",
       "      <th>1987</th>\n",
       "      <td>536549</td>\n",
       "      <td>85226A</td>\n",
       "      <td>NaN</td>\n",
       "      <td>1</td>\n",
       "      <td>2010-12-01 14:34:00</td>\n",
       "      <td>0.0</td>\n",
       "      <td>15287</td>\n",
       "      <td>United Kingdom</td>\n",
       "    </tr>\n",
       "    <tr>\n",
       "      <th>...</th>\n",
       "      <td>...</td>\n",
       "      <td>...</td>\n",
       "      <td>...</td>\n",
       "      <td>...</td>\n",
       "      <td>...</td>\n",
       "      <td>...</td>\n",
       "      <td>...</td>\n",
       "      <td>...</td>\n",
       "    </tr>\n",
       "    <tr>\n",
       "      <th>533712</th>\n",
       "      <td>581103</td>\n",
       "      <td>22689</td>\n",
       "      <td>NaN</td>\n",
       "      <td>4</td>\n",
       "      <td>2011-12-07 11:58:00</td>\n",
       "      <td>0.0</td>\n",
       "      <td>15287</td>\n",
       "      <td>United Kingdom</td>\n",
       "    </tr>\n",
       "    <tr>\n",
       "      <th>535326</th>\n",
       "      <td>581203</td>\n",
       "      <td>23406</td>\n",
       "      <td>NaN</td>\n",
       "      <td>15</td>\n",
       "      <td>2011-12-07 18:31:00</td>\n",
       "      <td>0.0</td>\n",
       "      <td>15287</td>\n",
       "      <td>United Kingdom</td>\n",
       "    </tr>\n",
       "    <tr>\n",
       "      <th>535332</th>\n",
       "      <td>581209</td>\n",
       "      <td>21620</td>\n",
       "      <td>NaN</td>\n",
       "      <td>6</td>\n",
       "      <td>2011-12-07 18:35:00</td>\n",
       "      <td>0.0</td>\n",
       "      <td>15287</td>\n",
       "      <td>United Kingdom</td>\n",
       "    </tr>\n",
       "    <tr>\n",
       "      <th>536981</th>\n",
       "      <td>581234</td>\n",
       "      <td>72817</td>\n",
       "      <td>NaN</td>\n",
       "      <td>27</td>\n",
       "      <td>2011-12-08 10:33:00</td>\n",
       "      <td>0.0</td>\n",
       "      <td>15287</td>\n",
       "      <td>United Kingdom</td>\n",
       "    </tr>\n",
       "    <tr>\n",
       "      <th>538554</th>\n",
       "      <td>581408</td>\n",
       "      <td>85175</td>\n",
       "      <td>NaN</td>\n",
       "      <td>20</td>\n",
       "      <td>2011-12-08 14:06:00</td>\n",
       "      <td>0.0</td>\n",
       "      <td>15287</td>\n",
       "      <td>United Kingdom</td>\n",
       "    </tr>\n",
       "  </tbody>\n",
       "</table>\n",
       "<p>592 rows × 8 columns</p>\n",
       "</div>"
      ],
      "text/plain": [
       "       InvoiceNo StockCode Description  Quantity          InvoiceDate  \\\n",
       "622       536414     22139         NaN        56  2010-12-01 11:52:00   \n",
       "1970      536545     21134         NaN         1  2010-12-01 14:32:00   \n",
       "1971      536546     22145         NaN         1  2010-12-01 14:33:00   \n",
       "1972      536547     37509         NaN         1  2010-12-01 14:33:00   \n",
       "1987      536549    85226A         NaN         1  2010-12-01 14:34:00   \n",
       "...          ...       ...         ...       ...                  ...   \n",
       "533712    581103     22689         NaN         4  2011-12-07 11:58:00   \n",
       "535326    581203     23406         NaN        15  2011-12-07 18:31:00   \n",
       "535332    581209     21620         NaN         6  2011-12-07 18:35:00   \n",
       "536981    581234     72817         NaN        27  2011-12-08 10:33:00   \n",
       "538554    581408     85175         NaN        20  2011-12-08 14:06:00   \n",
       "\n",
       "        UnitPrice  CustomerID         Country  \n",
       "622           0.0       15287  United Kingdom  \n",
       "1970          0.0       15287  United Kingdom  \n",
       "1971          0.0       15287  United Kingdom  \n",
       "1972          0.0       15287  United Kingdom  \n",
       "1987          0.0       15287  United Kingdom  \n",
       "...           ...         ...             ...  \n",
       "533712        0.0       15287  United Kingdom  \n",
       "535326        0.0       15287  United Kingdom  \n",
       "535332        0.0       15287  United Kingdom  \n",
       "536981        0.0       15287  United Kingdom  \n",
       "538554        0.0       15287  United Kingdom  \n",
       "\n",
       "[592 rows x 8 columns]"
      ]
     },
     "execution_count": 27,
     "metadata": {},
     "output_type": "execute_result"
    }
   ],
   "source": [
    "df[(df['UnitPrice']==0) & (df['CustomerID']==15287)  & (df['Description'].isnull())]"
   ]
  },
  {
   "cell_type": "code",
   "execution_count": 28,
   "id": "c39b830d",
   "metadata": {},
   "outputs": [],
   "source": [
    "# 592 rows have same customerid , and no description is mentioned, even unit price is 0"
   ]
  },
  {
   "cell_type": "code",
   "execution_count": 29,
   "id": "7f53aead",
   "metadata": {},
   "outputs": [
    {
     "data": {
      "text/html": [
       "<div>\n",
       "<style scoped>\n",
       "    .dataframe tbody tr th:only-of-type {\n",
       "        vertical-align: middle;\n",
       "    }\n",
       "\n",
       "    .dataframe tbody tr th {\n",
       "        vertical-align: top;\n",
       "    }\n",
       "\n",
       "    .dataframe thead th {\n",
       "        text-align: right;\n",
       "    }\n",
       "</style>\n",
       "<table border=\"1\" class=\"dataframe\">\n",
       "  <thead>\n",
       "    <tr style=\"text-align: right;\">\n",
       "      <th></th>\n",
       "      <th>InvoiceNo</th>\n",
       "      <th>StockCode</th>\n",
       "      <th>Description</th>\n",
       "      <th>Quantity</th>\n",
       "      <th>InvoiceDate</th>\n",
       "      <th>UnitPrice</th>\n",
       "      <th>CustomerID</th>\n",
       "      <th>Country</th>\n",
       "    </tr>\n",
       "  </thead>\n",
       "  <tbody>\n",
       "    <tr>\n",
       "      <th>0</th>\n",
       "      <td>536365</td>\n",
       "      <td>85123A</td>\n",
       "      <td>WHITE HANGING HEART T-LIGHT HOLDER</td>\n",
       "      <td>6</td>\n",
       "      <td>2010-12-01 08:26:00</td>\n",
       "      <td>2.55</td>\n",
       "      <td>17850</td>\n",
       "      <td>United Kingdom</td>\n",
       "    </tr>\n",
       "    <tr>\n",
       "      <th>1</th>\n",
       "      <td>536365</td>\n",
       "      <td>71053</td>\n",
       "      <td>WHITE METAL LANTERN</td>\n",
       "      <td>6</td>\n",
       "      <td>2010-12-01 08:26:00</td>\n",
       "      <td>3.39</td>\n",
       "      <td>17850</td>\n",
       "      <td>United Kingdom</td>\n",
       "    </tr>\n",
       "    <tr>\n",
       "      <th>2</th>\n",
       "      <td>536365</td>\n",
       "      <td>84406B</td>\n",
       "      <td>CREAM CUPID HEARTS COAT HANGER</td>\n",
       "      <td>8</td>\n",
       "      <td>2010-12-01 08:26:00</td>\n",
       "      <td>2.75</td>\n",
       "      <td>17850</td>\n",
       "      <td>United Kingdom</td>\n",
       "    </tr>\n",
       "    <tr>\n",
       "      <th>3</th>\n",
       "      <td>536365</td>\n",
       "      <td>84029G</td>\n",
       "      <td>KNITTED UNION FLAG HOT WATER BOTTLE</td>\n",
       "      <td>6</td>\n",
       "      <td>2010-12-01 08:26:00</td>\n",
       "      <td>3.39</td>\n",
       "      <td>17850</td>\n",
       "      <td>United Kingdom</td>\n",
       "    </tr>\n",
       "    <tr>\n",
       "      <th>4</th>\n",
       "      <td>536365</td>\n",
       "      <td>84029E</td>\n",
       "      <td>RED WOOLLY HOTTIE WHITE HEART.</td>\n",
       "      <td>6</td>\n",
       "      <td>2010-12-01 08:26:00</td>\n",
       "      <td>3.39</td>\n",
       "      <td>17850</td>\n",
       "      <td>United Kingdom</td>\n",
       "    </tr>\n",
       "  </tbody>\n",
       "</table>\n",
       "</div>"
      ],
      "text/plain": [
       "  InvoiceNo StockCode                          Description  Quantity  \\\n",
       "0    536365    85123A   WHITE HANGING HEART T-LIGHT HOLDER         6   \n",
       "1    536365     71053                  WHITE METAL LANTERN         6   \n",
       "2    536365    84406B       CREAM CUPID HEARTS COAT HANGER         8   \n",
       "3    536365    84029G  KNITTED UNION FLAG HOT WATER BOTTLE         6   \n",
       "4    536365    84029E       RED WOOLLY HOTTIE WHITE HEART.         6   \n",
       "\n",
       "           InvoiceDate  UnitPrice  CustomerID         Country  \n",
       "0  2010-12-01 08:26:00       2.55       17850  United Kingdom  \n",
       "1  2010-12-01 08:26:00       3.39       17850  United Kingdom  \n",
       "2  2010-12-01 08:26:00       2.75       17850  United Kingdom  \n",
       "3  2010-12-01 08:26:00       3.39       17850  United Kingdom  \n",
       "4  2010-12-01 08:26:00       3.39       17850  United Kingdom  "
      ]
     },
     "execution_count": 29,
     "metadata": {},
     "output_type": "execute_result"
    }
   ],
   "source": [
    "df.head()"
   ]
  },
  {
   "cell_type": "code",
   "execution_count": 30,
   "id": "a25579db",
   "metadata": {},
   "outputs": [
    {
     "data": {
      "text/plain": [
       "InvoiceNo        0\n",
       "StockCode        0\n",
       "Description    592\n",
       "Quantity         0\n",
       "InvoiceDate      0\n",
       "UnitPrice        0\n",
       "CustomerID       0\n",
       "Country          0\n",
       "dtype: int64"
      ]
     },
     "execution_count": 30,
     "metadata": {},
     "output_type": "execute_result"
    }
   ],
   "source": [
    "df.isnull().sum()"
   ]
  },
  {
   "cell_type": "code",
   "execution_count": 31,
   "id": "192057ed",
   "metadata": {},
   "outputs": [],
   "source": [
    "# there are 1454 null value in description column"
   ]
  },
  {
   "cell_type": "code",
   "execution_count": 32,
   "id": "a15f7aa0",
   "metadata": {},
   "outputs": [],
   "source": [
    "#no. of unique\n",
    "#total count\n",
    "# null\n",
    "#unique\n",
    "# dtype"
   ]
  },
  {
   "cell_type": "code",
   "execution_count": 33,
   "id": "f9c2a5b7",
   "metadata": {},
   "outputs": [
    {
     "data": {
      "text/html": [
       "<div>\n",
       "<style scoped>\n",
       "    .dataframe tbody tr th:only-of-type {\n",
       "        vertical-align: middle;\n",
       "    }\n",
       "\n",
       "    .dataframe tbody tr th {\n",
       "        vertical-align: top;\n",
       "    }\n",
       "\n",
       "    .dataframe thead th {\n",
       "        text-align: right;\n",
       "    }\n",
       "</style>\n",
       "<table border=\"1\" class=\"dataframe\">\n",
       "  <thead>\n",
       "    <tr style=\"text-align: right;\">\n",
       "      <th></th>\n",
       "      <th>count</th>\n",
       "      <th>missing</th>\n",
       "      <th>nunique</th>\n",
       "      <th>missing_percentage</th>\n",
       "      <th>dtypes</th>\n",
       "    </tr>\n",
       "    <tr>\n",
       "      <th>feature</th>\n",
       "      <th></th>\n",
       "      <th></th>\n",
       "      <th></th>\n",
       "      <th></th>\n",
       "      <th></th>\n",
       "    </tr>\n",
       "  </thead>\n",
       "  <tbody>\n",
       "    <tr>\n",
       "      <th>InvoiceNo</th>\n",
       "      <td>526052</td>\n",
       "      <td>0</td>\n",
       "      <td>20726</td>\n",
       "      <td>0.000000</td>\n",
       "      <td>object</td>\n",
       "    </tr>\n",
       "    <tr>\n",
       "      <th>StockCode</th>\n",
       "      <td>526052</td>\n",
       "      <td>0</td>\n",
       "      <td>3941</td>\n",
       "      <td>0.000000</td>\n",
       "      <td>object</td>\n",
       "    </tr>\n",
       "    <tr>\n",
       "      <th>Description</th>\n",
       "      <td>526052</td>\n",
       "      <td>592</td>\n",
       "      <td>4077</td>\n",
       "      <td>0.112536</td>\n",
       "      <td>object</td>\n",
       "    </tr>\n",
       "    <tr>\n",
       "      <th>Quantity</th>\n",
       "      <td>526052</td>\n",
       "      <td>0</td>\n",
       "      <td>393</td>\n",
       "      <td>0.000000</td>\n",
       "      <td>int64</td>\n",
       "    </tr>\n",
       "    <tr>\n",
       "      <th>InvoiceDate</th>\n",
       "      <td>526052</td>\n",
       "      <td>0</td>\n",
       "      <td>19050</td>\n",
       "      <td>0.000000</td>\n",
       "      <td>object</td>\n",
       "    </tr>\n",
       "    <tr>\n",
       "      <th>UnitPrice</th>\n",
       "      <td>526052</td>\n",
       "      <td>0</td>\n",
       "      <td>1292</td>\n",
       "      <td>0.000000</td>\n",
       "      <td>float64</td>\n",
       "    </tr>\n",
       "    <tr>\n",
       "      <th>CustomerID</th>\n",
       "      <td>526052</td>\n",
       "      <td>0</td>\n",
       "      <td>4339</td>\n",
       "      <td>0.000000</td>\n",
       "      <td>int64</td>\n",
       "    </tr>\n",
       "    <tr>\n",
       "      <th>Country</th>\n",
       "      <td>526052</td>\n",
       "      <td>0</td>\n",
       "      <td>38</td>\n",
       "      <td>0.000000</td>\n",
       "      <td>object</td>\n",
       "    </tr>\n",
       "  </tbody>\n",
       "</table>\n",
       "</div>"
      ],
      "text/plain": [
       "              count  missing  nunique  missing_percentage   dtypes\n",
       "feature                                                           \n",
       "InvoiceNo    526052        0    20726            0.000000   object\n",
       "StockCode    526052        0     3941            0.000000   object\n",
       "Description  526052      592     4077            0.112536   object\n",
       "Quantity     526052        0      393            0.000000    int64\n",
       "InvoiceDate  526052        0    19050            0.000000   object\n",
       "UnitPrice    526052        0     1292            0.000000  float64\n",
       "CustomerID   526052        0     4339            0.000000    int64\n",
       "Country      526052        0       38            0.000000   object"
      ]
     },
     "execution_count": 33,
     "metadata": {},
     "output_type": "execute_result"
    }
   ],
   "source": [
    "feature = []\n",
    "dtypes = []\n",
    "count = []\n",
    "unique = []\n",
    "missing = []\n",
    "missing_percentage=[]\n",
    "\n",
    "for column in df.columns:\n",
    "    feature.append(column)\n",
    "    count.append(len(df[column]))\n",
    "    missing.append(df[column].isnull().sum())\n",
    "    unique.append(df[column].nunique())\n",
    "    missing_percentage.append((df[column].isnull().sum() / df.shape[0]) * 100)\n",
    "    dtypes.append(df[column].dtypes)\n",
    "    \n",
    "dataframe=pd.DataFrame({'feature':feature,\n",
    "             'count':count,\n",
    "             'missing':missing,\n",
    "             'nunique':unique,\n",
    "              'missing_percentage':missing_percentage,\n",
    "              'dtypes':dtypes\n",
    "              \n",
    "             }) \n",
    "dataframe.set_index('feature')"
   ]
  },
  {
   "cell_type": "code",
   "execution_count": null,
   "id": "b69eed7a",
   "metadata": {},
   "outputs": [],
   "source": []
  },
  {
   "cell_type": "code",
   "execution_count": null,
   "id": "212e644c",
   "metadata": {},
   "outputs": [],
   "source": []
  },
  {
   "cell_type": "code",
   "execution_count": null,
   "id": "bc5a1fad",
   "metadata": {},
   "outputs": [],
   "source": []
  },
  {
   "cell_type": "markdown",
   "id": "1dbf9f7a",
   "metadata": {},
   "source": []
  },
  {
   "cell_type": "code",
   "execution_count": null,
   "id": "b2bb1035",
   "metadata": {},
   "outputs": [],
   "source": []
  },
  {
   "cell_type": "markdown",
   "id": "622c84f1",
   "metadata": {},
   "source": [
    "# Stock code\n",
    "\n",
    "-  the \"StockCode\" column in the Online Retail Transactions dataset refers to a unique identifier assigned to each product sold by the retailer. \n",
    "- The StockCode column can be useful for identifying specific products and tracking their sales over time. It may also be used to group products by category, brand, or other attributes.\n",
    "- When working with the StockCode column, it may be helpful to review the product descriptions in the Description column to get a better understanding of what each code represents. You may also want to consider preprocessing the data to group similar products together or standardize the codes if possible."
   ]
  },
  {
   "cell_type": "code",
   "execution_count": null,
   "id": "ab1a9200",
   "metadata": {},
   "outputs": [],
   "source": []
  },
  {
   "cell_type": "code",
   "execution_count": 34,
   "id": "d8f1a4e7",
   "metadata": {},
   "outputs": [
    {
     "data": {
      "text/plain": [
       "3941"
      ]
     },
     "execution_count": 34,
     "metadata": {},
     "output_type": "execute_result"
    }
   ],
   "source": [
    "df['StockCode'].nunique()\n",
    "\n",
    "# no. of unique in stockcode "
   ]
  },
  {
   "cell_type": "code",
   "execution_count": 35,
   "id": "b8cd0190",
   "metadata": {},
   "outputs": [
    {
     "data": {
      "text/plain": [
       "Index(['InvoiceNo', 'StockCode', 'Description', 'Quantity', 'InvoiceDate',\n",
       "       'UnitPrice', 'CustomerID', 'Country'],\n",
       "      dtype='object')"
      ]
     },
     "execution_count": 35,
     "metadata": {},
     "output_type": "execute_result"
    }
   ],
   "source": [
    "df.columns"
   ]
  },
  {
   "cell_type": "code",
   "execution_count": 36,
   "id": "206c0cd1",
   "metadata": {},
   "outputs": [
    {
     "data": {
      "text/plain": [
       "WHITE HANGING HEART T-LIGHT HOLDER    2315\n",
       "JUMBO BAG RED RETROSPOT               2112\n",
       "REGENCY CAKESTAND 3 TIER              2009\n",
       "PARTY BUNTING                         1700\n",
       "LUNCH BAG RED RETROSPOT               1581\n",
       "                                      ... \n",
       "LUNCH BAG RED SPOTTY                     1\n",
       "SET/5 RED SPOTTY LID GLASS BOWLS         1\n",
       "FRYING PAN RED POLKADOT                  1\n",
       "BLUE PAINTED KASHMIRI CHAIR              1\n",
       "PAPER CRAFT , LITTLE BIRDIE              1\n",
       "Name: Description, Length: 4077, dtype: int64"
      ]
     },
     "execution_count": 36,
     "metadata": {},
     "output_type": "execute_result"
    }
   ],
   "source": [
    "df['Description'].value_counts()"
   ]
  },
  {
   "cell_type": "code",
   "execution_count": 37,
   "id": "0eea2ac9",
   "metadata": {},
   "outputs": [
    {
     "data": {
      "text/plain": [
       "3941"
      ]
     },
     "execution_count": 37,
     "metadata": {},
     "output_type": "execute_result"
    }
   ],
   "source": [
    "df['StockCode'].nunique()"
   ]
  },
  {
   "cell_type": "code",
   "execution_count": 38,
   "id": "5ca7200f",
   "metadata": {},
   "outputs": [
    {
     "data": {
      "text/plain": [
       "4077"
      ]
     },
     "execution_count": 38,
     "metadata": {},
     "output_type": "execute_result"
    }
   ],
   "source": [
    "df['Description'].nunique()"
   ]
  },
  {
   "cell_type": "code",
   "execution_count": 39,
   "id": "d1c3de73",
   "metadata": {},
   "outputs": [
    {
     "data": {
      "text/html": [
       "<div>\n",
       "<style scoped>\n",
       "    .dataframe tbody tr th:only-of-type {\n",
       "        vertical-align: middle;\n",
       "    }\n",
       "\n",
       "    .dataframe tbody tr th {\n",
       "        vertical-align: top;\n",
       "    }\n",
       "\n",
       "    .dataframe thead th {\n",
       "        text-align: right;\n",
       "    }\n",
       "</style>\n",
       "<table border=\"1\" class=\"dataframe\">\n",
       "  <thead>\n",
       "    <tr style=\"text-align: right;\">\n",
       "      <th></th>\n",
       "      <th>InvoiceNo</th>\n",
       "      <th>Description</th>\n",
       "      <th>Quantity</th>\n",
       "      <th>InvoiceDate</th>\n",
       "      <th>UnitPrice</th>\n",
       "      <th>CustomerID</th>\n",
       "      <th>Country</th>\n",
       "    </tr>\n",
       "    <tr>\n",
       "      <th>StockCode</th>\n",
       "      <th></th>\n",
       "      <th></th>\n",
       "      <th></th>\n",
       "      <th></th>\n",
       "      <th></th>\n",
       "      <th></th>\n",
       "      <th></th>\n",
       "    </tr>\n",
       "  </thead>\n",
       "  <tbody>\n",
       "    <tr>\n",
       "      <th>10002</th>\n",
       "      <td>72</td>\n",
       "      <td>71</td>\n",
       "      <td>72</td>\n",
       "      <td>72</td>\n",
       "      <td>72</td>\n",
       "      <td>72</td>\n",
       "      <td>72</td>\n",
       "    </tr>\n",
       "    <tr>\n",
       "      <th>10080</th>\n",
       "      <td>24</td>\n",
       "      <td>23</td>\n",
       "      <td>24</td>\n",
       "      <td>24</td>\n",
       "      <td>24</td>\n",
       "      <td>24</td>\n",
       "      <td>24</td>\n",
       "    </tr>\n",
       "    <tr>\n",
       "      <th>10120</th>\n",
       "      <td>29</td>\n",
       "      <td>29</td>\n",
       "      <td>29</td>\n",
       "      <td>29</td>\n",
       "      <td>29</td>\n",
       "      <td>29</td>\n",
       "      <td>29</td>\n",
       "    </tr>\n",
       "    <tr>\n",
       "      <th>10123C</th>\n",
       "      <td>3</td>\n",
       "      <td>3</td>\n",
       "      <td>3</td>\n",
       "      <td>3</td>\n",
       "      <td>3</td>\n",
       "      <td>3</td>\n",
       "      <td>3</td>\n",
       "    </tr>\n",
       "    <tr>\n",
       "      <th>10124A</th>\n",
       "      <td>5</td>\n",
       "      <td>5</td>\n",
       "      <td>5</td>\n",
       "      <td>5</td>\n",
       "      <td>5</td>\n",
       "      <td>5</td>\n",
       "      <td>5</td>\n",
       "    </tr>\n",
       "    <tr>\n",
       "      <th>...</th>\n",
       "      <td>...</td>\n",
       "      <td>...</td>\n",
       "      <td>...</td>\n",
       "      <td>...</td>\n",
       "      <td>...</td>\n",
       "      <td>...</td>\n",
       "      <td>...</td>\n",
       "    </tr>\n",
       "    <tr>\n",
       "      <th>gift_0001_20</th>\n",
       "      <td>10</td>\n",
       "      <td>10</td>\n",
       "      <td>10</td>\n",
       "      <td>10</td>\n",
       "      <td>10</td>\n",
       "      <td>10</td>\n",
       "      <td>10</td>\n",
       "    </tr>\n",
       "    <tr>\n",
       "      <th>gift_0001_30</th>\n",
       "      <td>8</td>\n",
       "      <td>7</td>\n",
       "      <td>8</td>\n",
       "      <td>8</td>\n",
       "      <td>8</td>\n",
       "      <td>8</td>\n",
       "      <td>8</td>\n",
       "    </tr>\n",
       "    <tr>\n",
       "      <th>gift_0001_40</th>\n",
       "      <td>3</td>\n",
       "      <td>3</td>\n",
       "      <td>3</td>\n",
       "      <td>3</td>\n",
       "      <td>3</td>\n",
       "      <td>3</td>\n",
       "      <td>3</td>\n",
       "    </tr>\n",
       "    <tr>\n",
       "      <th>gift_0001_50</th>\n",
       "      <td>4</td>\n",
       "      <td>4</td>\n",
       "      <td>4</td>\n",
       "      <td>4</td>\n",
       "      <td>4</td>\n",
       "      <td>4</td>\n",
       "      <td>4</td>\n",
       "    </tr>\n",
       "    <tr>\n",
       "      <th>m</th>\n",
       "      <td>1</td>\n",
       "      <td>1</td>\n",
       "      <td>1</td>\n",
       "      <td>1</td>\n",
       "      <td>1</td>\n",
       "      <td>1</td>\n",
       "      <td>1</td>\n",
       "    </tr>\n",
       "  </tbody>\n",
       "</table>\n",
       "<p>3941 rows × 7 columns</p>\n",
       "</div>"
      ],
      "text/plain": [
       "              InvoiceNo  Description  Quantity  InvoiceDate  UnitPrice  \\\n",
       "StockCode                                                                \n",
       "10002                72           71        72           72         72   \n",
       "10080                24           23        24           24         24   \n",
       "10120                29           29        29           29         29   \n",
       "10123C                3            3         3            3          3   \n",
       "10124A                5            5         5            5          5   \n",
       "...                 ...          ...       ...          ...        ...   \n",
       "gift_0001_20         10           10        10           10         10   \n",
       "gift_0001_30          8            7         8            8          8   \n",
       "gift_0001_40          3            3         3            3          3   \n",
       "gift_0001_50          4            4         4            4          4   \n",
       "m                     1            1         1            1          1   \n",
       "\n",
       "              CustomerID  Country  \n",
       "StockCode                          \n",
       "10002                 72       72  \n",
       "10080                 24       24  \n",
       "10120                 29       29  \n",
       "10123C                 3        3  \n",
       "10124A                 5        5  \n",
       "...                  ...      ...  \n",
       "gift_0001_20          10       10  \n",
       "gift_0001_30           8        8  \n",
       "gift_0001_40           3        3  \n",
       "gift_0001_50           4        4  \n",
       "m                      1        1  \n",
       "\n",
       "[3941 rows x 7 columns]"
      ]
     },
     "execution_count": 39,
     "metadata": {},
     "output_type": "execute_result"
    }
   ],
   "source": [
    "df.groupby('StockCode').count()\n",
    "\n",
    "# it shows the no. of diff feature attached with stockcode.  , 72 invoice no. are of same stock code\n",
    "# this information plays vital role in understanding the data more deeply\n",
    "# stockcode refer to - refers to a unique identifier assigned to each product sold by the retailer"
   ]
  },
  {
   "cell_type": "code",
   "execution_count": 40,
   "id": "911854dd",
   "metadata": {},
   "outputs": [],
   "source": [
    "#pd.set_option('display.max_columns', None)\n",
    "#pd.set_option('display.max_rows', None)"
   ]
  },
  {
   "cell_type": "markdown",
   "id": "832d8c18",
   "metadata": {},
   "source": [
    "# Filling missing value in Description column"
   ]
  },
  {
   "cell_type": "code",
   "execution_count": null,
   "id": "0982142c",
   "metadata": {},
   "outputs": [],
   "source": []
  },
  {
   "cell_type": "markdown",
   "id": "461328ba",
   "metadata": {},
   "source": [
    "# Description column\n",
    "\n",
    "- The \"Description\" column in the Online Retail Transactions dataset provides a brief description of each product purchased in a transaction.\n",
    "- The descriptions are based on the retailer's internal product codes and may not be very detailed or consistent. Some descriptions include information such as the type of product, the brand, the color, and the size\n",
    "- Description column can provide valuable insights into which products are being purchased and can be used for various types of analysis, such as identifying popular products or analyzing sales trends for specific product categories."
   ]
  },
  {
   "cell_type": "code",
   "execution_count": null,
   "id": "50bcf7c9",
   "metadata": {},
   "outputs": [],
   "source": []
  },
  {
   "cell_type": "code",
   "execution_count": 41,
   "id": "659a7f8d",
   "metadata": {},
   "outputs": [],
   "source": [
    "# some rows in description column are having question mark.  so taht filling that values with np.nan\n",
    "\n",
    "df.replace(to_replace = '??', value = np.nan, inplace=True)\n",
    "df.replace(to_replace = '?', value = np.nan, inplace=True)"
   ]
  },
  {
   "cell_type": "code",
   "execution_count": null,
   "id": "e76fe9d9",
   "metadata": {},
   "outputs": [],
   "source": []
  },
  {
   "cell_type": "code",
   "execution_count": 42,
   "id": "44454c1e",
   "metadata": {},
   "outputs": [
    {
     "data": {
      "text/html": [
       "<div>\n",
       "<style scoped>\n",
       "    .dataframe tbody tr th:only-of-type {\n",
       "        vertical-align: middle;\n",
       "    }\n",
       "\n",
       "    .dataframe tbody tr th {\n",
       "        vertical-align: top;\n",
       "    }\n",
       "\n",
       "    .dataframe thead th {\n",
       "        text-align: right;\n",
       "    }\n",
       "</style>\n",
       "<table border=\"1\" class=\"dataframe\">\n",
       "  <thead>\n",
       "    <tr style=\"text-align: right;\">\n",
       "      <th></th>\n",
       "      <th>InvoiceNo</th>\n",
       "      <th>Description</th>\n",
       "      <th>Quantity</th>\n",
       "      <th>InvoiceDate</th>\n",
       "      <th>UnitPrice</th>\n",
       "      <th>CustomerID</th>\n",
       "      <th>Country</th>\n",
       "    </tr>\n",
       "    <tr>\n",
       "      <th>StockCode</th>\n",
       "      <th></th>\n",
       "      <th></th>\n",
       "      <th></th>\n",
       "      <th></th>\n",
       "      <th></th>\n",
       "      <th></th>\n",
       "      <th></th>\n",
       "    </tr>\n",
       "  </thead>\n",
       "  <tbody>\n",
       "    <tr>\n",
       "      <th>10002</th>\n",
       "      <td>548286</td>\n",
       "      <td>None</td>\n",
       "      <td>180</td>\n",
       "      <td>2011-03-30 11:47:00</td>\n",
       "      <td>0.0</td>\n",
       "      <td>15287</td>\n",
       "      <td>United Kingdom</td>\n",
       "    </tr>\n",
       "    <tr>\n",
       "      <th>10080</th>\n",
       "      <td>561271</td>\n",
       "      <td>None</td>\n",
       "      <td>170</td>\n",
       "      <td>2011-07-26 12:18:00</td>\n",
       "      <td>0.0</td>\n",
       "      <td>15287</td>\n",
       "      <td>United Kingdom</td>\n",
       "    </tr>\n",
       "    <tr>\n",
       "      <th>15030</th>\n",
       "      <td>548399</td>\n",
       "      <td>None</td>\n",
       "      <td>150</td>\n",
       "      <td>2011-03-30 17:25:00</td>\n",
       "      <td>0.0</td>\n",
       "      <td>15287</td>\n",
       "      <td>United Kingdom</td>\n",
       "    </tr>\n",
       "    <tr>\n",
       "      <th>15058A</th>\n",
       "      <td>545551</td>\n",
       "      <td>None</td>\n",
       "      <td>20</td>\n",
       "      <td>2011-03-03 15:11:00</td>\n",
       "      <td>0.0</td>\n",
       "      <td>15287</td>\n",
       "      <td>United Kingdom</td>\n",
       "    </tr>\n",
       "    <tr>\n",
       "      <th>15060B</th>\n",
       "      <td>577339</td>\n",
       "      <td>None</td>\n",
       "      <td>9</td>\n",
       "      <td>2011-11-18 14:57:00</td>\n",
       "      <td>0.0</td>\n",
       "      <td>15287</td>\n",
       "      <td>United Kingdom</td>\n",
       "    </tr>\n",
       "    <tr>\n",
       "      <th>...</th>\n",
       "      <td>...</td>\n",
       "      <td>...</td>\n",
       "      <td>...</td>\n",
       "      <td>...</td>\n",
       "      <td>...</td>\n",
       "      <td>...</td>\n",
       "      <td>...</td>\n",
       "    </tr>\n",
       "    <tr>\n",
       "      <th>C2</th>\n",
       "      <td>575506</td>\n",
       "      <td>None</td>\n",
       "      <td>150</td>\n",
       "      <td>2011-11-10 10:30:00</td>\n",
       "      <td>0.0</td>\n",
       "      <td>15287</td>\n",
       "      <td>United Kingdom</td>\n",
       "    </tr>\n",
       "    <tr>\n",
       "      <th>DOT</th>\n",
       "      <td>547966</td>\n",
       "      <td>None</td>\n",
       "      <td>1000</td>\n",
       "      <td>2011-03-28 15:49:00</td>\n",
       "      <td>0.0</td>\n",
       "      <td>15287</td>\n",
       "      <td>United Kingdom</td>\n",
       "    </tr>\n",
       "    <tr>\n",
       "      <th>POST</th>\n",
       "      <td>540699</td>\n",
       "      <td>None</td>\n",
       "      <td>1000</td>\n",
       "      <td>2011-01-11 09:32:00</td>\n",
       "      <td>0.0</td>\n",
       "      <td>15287</td>\n",
       "      <td>United Kingdom</td>\n",
       "    </tr>\n",
       "    <tr>\n",
       "      <th>gift_0001_10</th>\n",
       "      <td>564762</td>\n",
       "      <td>None</td>\n",
       "      <td>30</td>\n",
       "      <td>2011-08-30 10:48:00</td>\n",
       "      <td>0.0</td>\n",
       "      <td>15287</td>\n",
       "      <td>United Kingdom</td>\n",
       "    </tr>\n",
       "    <tr>\n",
       "      <th>gift_0001_30</th>\n",
       "      <td>564761</td>\n",
       "      <td>None</td>\n",
       "      <td>30</td>\n",
       "      <td>2011-08-30 10:48:00</td>\n",
       "      <td>0.0</td>\n",
       "      <td>15287</td>\n",
       "      <td>United Kingdom</td>\n",
       "    </tr>\n",
       "  </tbody>\n",
       "</table>\n",
       "<p>430 rows × 7 columns</p>\n",
       "</div>"
      ],
      "text/plain": [
       "             InvoiceNo Description  Quantity          InvoiceDate  UnitPrice  \\\n",
       "StockCode                                                                      \n",
       "10002           548286        None       180  2011-03-30 11:47:00        0.0   \n",
       "10080           561271        None       170  2011-07-26 12:18:00        0.0   \n",
       "15030           548399        None       150  2011-03-30 17:25:00        0.0   \n",
       "15058A          545551        None        20  2011-03-03 15:11:00        0.0   \n",
       "15060B          577339        None         9  2011-11-18 14:57:00        0.0   \n",
       "...                ...         ...       ...                  ...        ...   \n",
       "C2              575506        None       150  2011-11-10 10:30:00        0.0   \n",
       "DOT             547966        None      1000  2011-03-28 15:49:00        0.0   \n",
       "POST            540699        None      1000  2011-01-11 09:32:00        0.0   \n",
       "gift_0001_10    564762        None        30  2011-08-30 10:48:00        0.0   \n",
       "gift_0001_30    564761        None        30  2011-08-30 10:48:00        0.0   \n",
       "\n",
       "              CustomerID         Country  \n",
       "StockCode                                 \n",
       "10002              15287  United Kingdom  \n",
       "10080              15287  United Kingdom  \n",
       "15030              15287  United Kingdom  \n",
       "15058A             15287  United Kingdom  \n",
       "15060B             15287  United Kingdom  \n",
       "...                  ...             ...  \n",
       "C2                 15287  United Kingdom  \n",
       "DOT                15287  United Kingdom  \n",
       "POST               15287  United Kingdom  \n",
       "gift_0001_10       15287  United Kingdom  \n",
       "gift_0001_30       15287  United Kingdom  \n",
       "\n",
       "[430 rows x 7 columns]"
      ]
     },
     "execution_count": 42,
     "metadata": {},
     "output_type": "execute_result"
    }
   ],
   "source": [
    "df[df['Description'].isnull()].groupby('StockCode').first()"
   ]
  },
  {
   "cell_type": "code",
   "execution_count": 43,
   "id": "ef49179f",
   "metadata": {},
   "outputs": [],
   "source": [
    "# where description is nan - the country is united kingdom and unit price = 0"
   ]
  },
  {
   "cell_type": "code",
   "execution_count": null,
   "id": "97703c1c",
   "metadata": {},
   "outputs": [],
   "source": []
  },
  {
   "cell_type": "code",
   "execution_count": 44,
   "id": "2ae047ef",
   "metadata": {},
   "outputs": [
    {
     "data": {
      "text/html": [
       "<div>\n",
       "<style scoped>\n",
       "    .dataframe tbody tr th:only-of-type {\n",
       "        vertical-align: middle;\n",
       "    }\n",
       "\n",
       "    .dataframe tbody tr th {\n",
       "        vertical-align: top;\n",
       "    }\n",
       "\n",
       "    .dataframe thead th {\n",
       "        text-align: right;\n",
       "    }\n",
       "</style>\n",
       "<table border=\"1\" class=\"dataframe\">\n",
       "  <thead>\n",
       "    <tr style=\"text-align: right;\">\n",
       "      <th></th>\n",
       "      <th>description_missing_at_row</th>\n",
       "      <th>StockCode</th>\n",
       "    </tr>\n",
       "  </thead>\n",
       "  <tbody>\n",
       "    <tr>\n",
       "      <th>0</th>\n",
       "      <td>622</td>\n",
       "      <td>22139</td>\n",
       "    </tr>\n",
       "    <tr>\n",
       "      <th>1</th>\n",
       "      <td>1970</td>\n",
       "      <td>21134</td>\n",
       "    </tr>\n",
       "    <tr>\n",
       "      <th>2</th>\n",
       "      <td>1971</td>\n",
       "      <td>22145</td>\n",
       "    </tr>\n",
       "    <tr>\n",
       "      <th>3</th>\n",
       "      <td>1972</td>\n",
       "      <td>37509</td>\n",
       "    </tr>\n",
       "    <tr>\n",
       "      <th>4</th>\n",
       "      <td>1987</td>\n",
       "      <td>85226A</td>\n",
       "    </tr>\n",
       "    <tr>\n",
       "      <th>...</th>\n",
       "      <td>...</td>\n",
       "      <td>...</td>\n",
       "    </tr>\n",
       "    <tr>\n",
       "      <th>593</th>\n",
       "      <td>533712</td>\n",
       "      <td>22689</td>\n",
       "    </tr>\n",
       "    <tr>\n",
       "      <th>594</th>\n",
       "      <td>535326</td>\n",
       "      <td>23406</td>\n",
       "    </tr>\n",
       "    <tr>\n",
       "      <th>595</th>\n",
       "      <td>535332</td>\n",
       "      <td>21620</td>\n",
       "    </tr>\n",
       "    <tr>\n",
       "      <th>596</th>\n",
       "      <td>536981</td>\n",
       "      <td>72817</td>\n",
       "    </tr>\n",
       "    <tr>\n",
       "      <th>597</th>\n",
       "      <td>538554</td>\n",
       "      <td>85175</td>\n",
       "    </tr>\n",
       "  </tbody>\n",
       "</table>\n",
       "<p>598 rows × 2 columns</p>\n",
       "</div>"
      ],
      "text/plain": [
       "     description_missing_at_row StockCode\n",
       "0                           622     22139\n",
       "1                          1970     21134\n",
       "2                          1971     22145\n",
       "3                          1972     37509\n",
       "4                          1987    85226A\n",
       "..                          ...       ...\n",
       "593                      533712     22689\n",
       "594                      535326     23406\n",
       "595                      535332     21620\n",
       "596                      536981     72817\n",
       "597                      538554     85175\n",
       "\n",
       "[598 rows x 2 columns]"
      ]
     },
     "execution_count": 44,
     "metadata": {},
     "output_type": "execute_result"
    }
   ],
   "source": [
    "df[df['Description'].isna()]['StockCode'].to_frame().reset_index().rename(columns={'index':'description_missing_at_row'})\n",
    "\n",
    "# it shows those row where the description is missing and the stokcode of that particular row\n",
    "\n",
    "# it shows those row no. where the description is missing and also shows the respective stockcode"
   ]
  },
  {
   "cell_type": "code",
   "execution_count": null,
   "id": "580c879e",
   "metadata": {},
   "outputs": [],
   "source": []
  },
  {
   "cell_type": "code",
   "execution_count": 45,
   "id": "ecc3a78a",
   "metadata": {},
   "outputs": [
    {
     "data": {
      "text/plain": [
       "{'10002': 'INFLATABLE POLITICAL GLOBE ',\n",
       " '10080': 'GROOVY CACTUS INFLATABLE',\n",
       " '10120': 'DOGGY RUBBER',\n",
       " '10123C': 'HEARTS WRAPPING TAPE ',\n",
       " '10124A': 'SPOTS ON RED BOOKCOVER TAPE',\n",
       " '10124G': 'ARMY CAMO BOOKCOVER TAPE',\n",
       " '10125': 'MINI FUNKY DESIGN TAPES',\n",
       " '10133': 'COLOURING PENCILS BROWN TUBE',\n",
       " '10135': 'COLOURING PENCILS BROWN TUBE',\n",
       " '11001': 'ASSTD DESIGN RACING CAR PEN',\n",
       " '15030': 'FAN BLACK FRAME ',\n",
       " '15034': 'PAPER POCKET TRAVELING FAN ',\n",
       " '15036': 'ASSORTED COLOURS SILK FAN',\n",
       " '15039': 'SANDALWOOD FAN',\n",
       " '15044A': 'PINK PAPER PARASOL ',\n",
       " '15044B': 'BLUE PAPER PARASOL ',\n",
       " '15044C': 'PURPLE PAPER PARASOL',\n",
       " '15044D': 'RED PAPER PARASOL',\n",
       " '15056BL': 'EDWARDIAN PARASOL BLACK',\n",
       " '15056N': 'EDWARDIAN PARASOL NATURAL',\n",
       " '15056P': 'EDWARDIAN PARASOL PINK',\n",
       " '15056bl': 'EDWARDIAN PARASOL BLACK',\n",
       " '15056n': 'EDWARDIAN PARASOL NATURAL',\n",
       " '15056p': 'EDWARDIAN PARASOL PINK',\n",
       " '15058A': 'BLUE POLKADOT GARDEN PARASOL',\n",
       " '15058B': 'PINK POLKADOT GARDEN PARASOL',\n",
       " '15058C': 'ICE CREAM DESIGN GARDEN PARASOL',\n",
       " '15060B': 'FAIRY CAKE DESIGN UMBRELLA',\n",
       " '15060b': 'FAIRY CAKE DESIGN UMBRELLA',\n",
       " '16008': 'SMALL FOLDING SCISSOR(POINTED EDGE)',\n",
       " '16010': 'FOLDING CAMPING SCISSOR W/KNIF & S',\n",
       " '16011': 'ANIMAL STICKERS',\n",
       " '16012': 'FOOD/DRINK SPONGE STICKERS',\n",
       " '16014': 'SMALL CHINESE STYLE SCISSOR',\n",
       " '16015': 'MEDIUM CHINESE STYLE SCISSOR',\n",
       " '16016': 'LARGE CHINESE STYLE SCISSOR',\n",
       " '16020C': 'CLEAR STATIONERY BOX SET ',\n",
       " '16033': 'MINI HIGHLIGHTER PENS',\n",
       " '16043': 'POP ART PUSH DOWN RUBBER ',\n",
       " '16045': 'POPART WOODEN PENCILS ASST',\n",
       " '16046': 'TEATIME PEN CASE & PENS',\n",
       " '16048': 'TEATIME ROUND PENCIL SHARPENER ',\n",
       " '16049': 'TEATIME GEL PENS ASST',\n",
       " '16052': 'TEATIME PUSH DOWN RUBBER',\n",
       " '16054': 'POPART RECT PENCIL SHARPENER ASST',\n",
       " '16151A': 'FLOWERS HANDBAG blue and orange',\n",
       " '16156L': 'WRAP, CAROUSEL',\n",
       " '16156S': 'WRAP PINK FAIRY CAKES ',\n",
       " '16161G': 'WRAP BAD HAIR DAY',\n",
       " '16161M': 'WRAP  PINK FLOCK',\n",
       " '16161P': 'WRAP ENGLISH ROSE ',\n",
       " '16161U': 'WRAP SUKI AND FRIENDS',\n",
       " '16162L': 'THE KING GIFT BAG',\n",
       " '16162M': 'alan hodge cant mamage this section',\n",
       " '16168M': 'FUNKY MONKEY GIFT BAG MEDIUM',\n",
       " '16169E': \"WRAP 50'S  CHRISTMAS\",\n",
       " '16169K': 'WRAP FOLK ART',\n",
       " '16169M': 'WRAP DAISY CARPET ',\n",
       " '16169N': 'WRAP BLUE RUSSIAN FOLKART',\n",
       " '16169P': 'WRAP GREEN RUSSIAN FOLKART ',\n",
       " '16202A': 'PASTEL PINK PHOTO ALBUM ',\n",
       " '16202B': 'PASTEL BLUE PHOTO ALBUM ',\n",
       " '16202E': 'BLACK PHOTO ALBUM ',\n",
       " '16206B': 'RED PURSE WITH PINK HEART',\n",
       " '16207A': 'PINK STRAWBERRY HANDBAG ',\n",
       " '16207B': 'PINK HEART RED HANDBAG',\n",
       " '16216': 'LETTER SHAPE PENCIL SHARPENER',\n",
       " '16218': 'CARTOON  PENCIL SHARPENERS',\n",
       " '16219': 'HOUSE SHAPE PENCIL SHARPENER',\n",
       " '16225': 'RATTLE SNAKE EGGS',\n",
       " '16235': 'RECYCLED PENCIL WITH RABBIT ERASER',\n",
       " '16236': 'KITTY PENCIL ERASERS',\n",
       " '16237': 'SLEEPING CAT ERASERS',\n",
       " '16238': 'PARTY TIME PENCIL ERASERS',\n",
       " '16244B': 'MAXWELL 2 TONE BLUE 60 PAGE PHOTO A',\n",
       " '16248B': 'BLUE HOLE PUNCH',\n",
       " '16254': 'TRANSPARENT ACRYLIC TAPE DISPENSER',\n",
       " '16258A': 'SWIRLY CIRCULAR RUBBERS IN BAG',\n",
       " '16259': 'PIECE OF CAMO STATIONERY SET',\n",
       " '17001': 'HEAVENS SCENT FRAGRANCE OILS ASSTD',\n",
       " '17003': 'BROCADE RING PURSE ',\n",
       " '17007B': 'S/3 POT POURI CUSHIONS BLUE COLOURS',\n",
       " '17011F': 'ORIGAMI SANDLEWOOD INCENSE+FLOWER',\n",
       " '17012A': 'ORIGAMI VANILLA INCENSE/CANDLE SET ',\n",
       " '17012B': 'ORIGAMI JASMINE INCENSE/CANDLE SET',\n",
       " '17012C': 'ORIGAMI LAVENDER INCENSE/CANDL SET ',\n",
       " '17012D': 'ORIGAMI ROSE INCENSE/CANDLE SET ',\n",
       " '17012E': 'ORIGAMI OPIUM INCENSE/CANDLE SET ',\n",
       " '17012F': 'ORIGAMI SANDLEWOOD INCENSE/CAND SET',\n",
       " '17013D': 'ORIGAMI ROSE INCENSE IN TUBE',\n",
       " '17014A': 'ORIGAMI VANILLA INCENSE CONES',\n",
       " '17021': 'NAMASTE SWAGAT INCENSE',\n",
       " '17028J': 'INCENSE BAZAAR PEACH',\n",
       " '17038': 'PORCELAIN BUDAH INCENSE HOLDER',\n",
       " '17084A': 'TRANQUILITY MASALA INCENSE',\n",
       " '17084J': 'LOVE POTION MASALA INCENSE',\n",
       " '17084N': 'FAIRY DREAMS INCENSE ',\n",
       " '17084P': 'DRAGONS BLOOD INCENSE',\n",
       " '17084R': 'ASSORTED INCENSE PACK',\n",
       " '17090A': 'LAVENDER INCENSE 40 CONES IN TIN',\n",
       " '17090D': 'VANILLA INCENSE 40 CONES IN TIN',\n",
       " '17091A': 'LAVENDER INCENSE IN TIN',\n",
       " '17091J': 'VANILLA INCENSE IN TIN',\n",
       " '17096': 'ASSORTED LAQUERED INCENSE HOLDERS',\n",
       " '17107D': \"FLOWER FAIRY,5 SUMMER B'DRAW LINERS\",\n",
       " '17109D': 'FLOWER FAIRY INCENSE BOUQUET',\n",
       " '17129F': 'BLUE GLASS GEMS IN BAG',\n",
       " '17136A': 'BLUE STONES ON WIRE FOR CANDLE',\n",
       " '17164B': \"ASS COL SMALL SAND GECKO P'WEIGHT\",\n",
       " '17165D': \"ASS COL LARGE SAND FROG P'WEIGHT\",\n",
       " '17174': 'ASSTD RASTA KEY-CHAINS',\n",
       " '17191A': 'ROSE FLOWER CANDLE+INCENSE 16X16CM',\n",
       " '18007': 'ESSENTIAL BALM 3.5g TIN IN ENVELOPE',\n",
       " '18094C': 'WHITE AND BLUE CERAMIC OIL BURNER',\n",
       " '18097A': 'PINK TALL PORCELAIN T-LIGHT HOLDER ',\n",
       " '18097C': 'WHITE TALL PORCELAIN T-LIGHT HOLDER',\n",
       " '18098C': 'PORCELAIN BUTTERFLY OIL BURNER',\n",
       " '18098c': 'PORCELAIN BUTTERFLY OIL BURNER',\n",
       " '20615': 'BLUE POLKADOT PASSPORT COVER',\n",
       " '20616': 'CHERRY BLOSSOM PASSPORT COVER',\n",
       " '20617': 'FIRST CLASS PASSPORT COVER ',\n",
       " '20618': 'QUEEN OF THE SKIES PASSPORT COVER ',\n",
       " '20619': 'TROPICAL PASSPORT COVER ',\n",
       " '20622': 'VIPPASSPORT COVER ',\n",
       " '20652': 'BLUE POLKADOT LUGGAGE TAG ',\n",
       " '20653': 'CHERRY BLOSSOM LUGGAGE TAG',\n",
       " '20654': 'FIRST CLASS LUGGAGE TAG ',\n",
       " '20655': 'QUEEN OF SKIES LUGGAGE TAG',\n",
       " '20657': 'TROPICAL LUGGAGE TAG',\n",
       " '20658': 'RED RETROSPOT LUGGAGE TAG',\n",
       " '20659': 'ECONOMY LUGGAGE TAG',\n",
       " '20661': 'BLUE POLKADOT PURSE ',\n",
       " '20662': 'FIRST CLASS HOLIDAY PURSE ',\n",
       " '20663': 'QUEEN OF THE SKIES HOLIDAY PURSE ',\n",
       " '20664': 'TROPICAL HOLIDAY PURSE ',\n",
       " '20665': 'RED RETROSPOT PURSE ',\n",
       " '20666': 'ECONOMY HOLIDAY PURSE',\n",
       " '20667': 'CHERRY BLOSSOM PURSE',\n",
       " '20668': 'DISCO BALL CHRISTMAS DECORATION',\n",
       " '20669': 'RED HEART LUGGAGE TAG',\n",
       " '20670': 'VIP HOLIDAY PURSE',\n",
       " '20671': 'BLUE TEATIME PRINT BOWL ',\n",
       " '20674': 'GREEN POLKADOT BOWL',\n",
       " '20675': 'BLUE POLKADOT BOWL',\n",
       " '20676': 'RED RETROSPOT BOWL',\n",
       " '20677': 'PINK POLKADOT BOWL',\n",
       " '20678': 'LARGE BLACK DIAMANTE HAIRSLIDE',\n",
       " '20679': 'EDWARDIAN PARASOL RED',\n",
       " '20681': 'PINK POLKADOT CHILDRENS UMBRELLA',\n",
       " '20682': 'RED RETROSPOT CHILDRENS UMBRELLA',\n",
       " '20684': 'STRAWBERRY DREAM CHILDS UMBRELLA',\n",
       " '20685': 'DOORMAT RED RETROSPOT',\n",
       " '20686': \"DOLLY MIXTURE CHILDREN'S UMBRELLA\",\n",
       " '20694': 'FLORAL PINK MONSTER',\n",
       " '20695': 'FLORAL BLUE MONSTER',\n",
       " '20696': 'FLORAL SOFT CAR TOY',\n",
       " '20697': 'LITTLE GREEN MONSTER SOFT TOY',\n",
       " '20698': 'LITTLE PINK MONSTER SOFT TOY',\n",
       " '20699': 'MOUSEY LONG LEGS SOFT TOY',\n",
       " '20700': 'GREEN CAT FLORAL CUSHION COVER ',\n",
       " '20701': 'PINK CAT FLORAL CUSHION COVER ',\n",
       " '20702': 'PINK PADDED MOBILE',\n",
       " '20703': 'BLUE PADDED SOFT MOBILE',\n",
       " '20704': 'MR ROBOT SOFT TOY',\n",
       " '20705': 'MRS ROBOT SOFT TOY',\n",
       " '20707': 'CRAZY DAISY HEART DECORATION',\n",
       " '20711': 'JUMBO BAG TOYS ',\n",
       " '20712': 'JUMBO BAG WOODLAND ANIMALS',\n",
       " '20713': 'JUMBO BAG OWLS',\n",
       " '20716': 'PARTY FOOD SHOPPER BAG',\n",
       " '20717': 'STRAWBERRY SHOPPER BAG',\n",
       " '20718': 'RED RETROSPOT SHOPPER BAG',\n",
       " '20719': 'WOODLAND CHARLOTTE BAG',\n",
       " '20723': 'STRAWBERRY CHARLOTTE BAG',\n",
       " '20724': 'RED RETROSPOT CHARLOTTE BAG',\n",
       " '20725': 'LUNCH BAG RED RETROSPOT',\n",
       " '20726': 'LUNCH BAG WOODLAND',\n",
       " '20727': 'LUNCH BAG  BLACK SKULL.',\n",
       " '20728': 'LUNCH BAG CARS BLUE',\n",
       " '20731': 'POSY CANDY BAG',\n",
       " '20733': 'GOLD MINI TAPE MEASURE ',\n",
       " '20734': 'SILVER MINI TAPE MEASURE ',\n",
       " '20735': 'BLACK MINI TAPE MEASURE ',\n",
       " '20748': 'KENSINGTON COFFEE SET',\n",
       " '20749': 'ASSORTED COLOUR MINI CASES',\n",
       " '20750': 'RED RETROSPOT MINI CASES',\n",
       " '20751': 'FUNKY WASHING UP GLOVES ASSORTED',\n",
       " '20752': 'BLUE POLKADOT WASHING UP GLOVES',\n",
       " '20754': 'RETROSPOT RED WASHING UP GLOVES',\n",
       " '20755': 'BLUE PAISLEY POCKET BOOK',\n",
       " '20756': 'GREEN FERN POCKET BOOK',\n",
       " '20757': 'RED DAISY POCKET BOOK ',\n",
       " '20758': 'ABSTRACT CIRCLES POCKET BOOK',\n",
       " '20759': 'CHRYSANTHEMUM POCKET BOOK ',\n",
       " '20760': 'GARDEN PATH POCKET BOOK',\n",
       " '20761': 'BLUE PAISLEY SKETCHBOOK',\n",
       " '20762': 'GREEN FERN SKETCHBOOK ',\n",
       " '20763': 'DAISY SKETCHBOOK ',\n",
       " '20764': 'ABSTRACT CIRCLES SKETCHBOOK ',\n",
       " '20765': 'CHRYSANTHEMUM SKETCHBOOK ',\n",
       " '20766': 'GARDEN PATH SKETCHBOOK',\n",
       " '20767': 'BLUE PAISLEY JOURNAL ',\n",
       " '20768': 'GREEN FERN JOURNAL ',\n",
       " '20769': 'DAISY JOURNAL ',\n",
       " '20770': 'ABSTRACT CIRCLE JOURNAL ',\n",
       " '20771': 'CHRYSANTHEMUM  JOURNAL',\n",
       " '20772': 'GARDEN PATH JOURNAL',\n",
       " '20773': 'BLUE PAISLEY NOTEBOOK',\n",
       " '20774': 'GREEN FERN NOTEBOOK',\n",
       " '20775': 'DAISY NOTEBOOK ',\n",
       " '20777': 'CHRYSANTHEMUM NOTEBOOK',\n",
       " '20778': 'GARDEN PATH NOTEBOOK ',\n",
       " '20780': 'BLACK EAR MUFF HEADPHONES',\n",
       " '20781': 'GOLD EAR MUFF HEADPHONES',\n",
       " '20782': 'CAMOUFLAGE EAR MUFF HEADPHONES',\n",
       " '20785': 'FUSCHIA RETRO BAR STOOL',\n",
       " '20793': 'BLUE TILED TRAY',\n",
       " '20794': 'BLUE  TILE HOOK',\n",
       " '20795': 'LARGE BLUE PROVENCAL CERAMIC BALL',\n",
       " '20796': 'SMALL BLUE PROVENCAL CERAMIC BALL',\n",
       " '20798': 'CLEAR MILKSHAKE GLASS',\n",
       " '20801': 'LARGE PINK GLASS SUNDAE DISH',\n",
       " '20802': 'SMALL GLASS SUNDAE DISH CLEAR',\n",
       " '20803': 'SMALL PINK GLASS SUNDAE DISH',\n",
       " '20816': 'GOLD FLOWER CUSHION COVER ',\n",
       " '20818': 'GOLD TEDDY BEAR',\n",
       " '20819': 'SILVER TEDDY BEAR',\n",
       " '20820': 'SILVER LOOKING MIRROR',\n",
       " '20821': 'GOLDIE LOOKING MIRROR',\n",
       " '20823': 'GOLD WINE GOBLET',\n",
       " '20826': 'SILVER APERITIF GLASS',\n",
       " '20827': 'GOLD APERITIF GLASS',\n",
       " '20828': 'GLITTER BUTTERFLY CLIPS',\n",
       " '20829': 'GLITTER HANGING BUTTERFLY STRING',\n",
       " '20830': 'SILVER PHOTO FRAME',\n",
       " '20831': 'GOLD PHOTO FRAME',\n",
       " '20832': 'RED FLOCK LOVE HEART PHOTO FRAME',\n",
       " '20835': 'FRENCH LATTICE CUSHION COVER ',\n",
       " '20836': 'FRENCH PAISLEY CUSHION COVER',\n",
       " '20837': 'FRENCH FLORAL CUSHION COVER ',\n",
       " '20838': 'FRENCH LATTICE CUSHION COVER ',\n",
       " '20839': 'FRENCH PAISLEY CUSHION COVER ',\n",
       " '20840': 'FRENCH FLORAL CUSHION COVER ',\n",
       " '20845': 'ZINC HEART LATTICE 2 WALL PLANTER',\n",
       " '20846': 'ZINC HEART LATTICE T-LIGHT HOLDER',\n",
       " '20847': 'ZINC HEART LATTICE CHARGER LARGE',\n",
       " '20848': 'ZINC HEART LATTICE CHARGER SMALL',\n",
       " '20849': None,\n",
       " '20851': 'ZINC HEART LATTICE TRAY OVAL ',\n",
       " '20854': 'BLUE PATCH PURSE PINK HEART',\n",
       " '20856': 'DENIM PATCH PURSE PINK BUTTERFLY',\n",
       " '20857': 'BLUE ROSE PATCH PURSE PINK BUTTERFL',\n",
       " '20860': 'GOLD COSMETICS BAG WITH BUTTERFLY',\n",
       " '20861': 'GOLD COSMETIC BAG PINK STAR',\n",
       " '20866': 'BLUE ROSE FABRIC MIRROR',\n",
       " '20867': 'PINK ROSE FABRIC MIRROR',\n",
       " '20868': 'SILVER FABRIC MIRROR',\n",
       " '20869': 'GOLD FABRIC MIRROR',\n",
       " '20871': 'OPULENT VELVET SET/3 CANDLES',\n",
       " '20878': 'SET/9 CHRISTMAS T-LIGHTS SCENTED ',\n",
       " '20886': 'BOX OF 9 PEBBLE CANDLES',\n",
       " '20892': 'SET/3 TALL GLASS CANDLE HOLDER PINK',\n",
       " '20893': 'HANGING BAUBLE T-LIGHT HOLDER SMALL',\n",
       " '20894': 'HANGING BAUBLE T-LIGHT HOLDER LARGE',\n",
       " '20897': 'VINTAGE NOTEBOOK PARIS DAYS',\n",
       " '20898': 'VINTAGE NOTEBOOK TRAVELOGUE',\n",
       " '20901': 'VINTAGE KEEPSAKE BOX PINK FLOWER',\n",
       " '20902': 'VINTAGE KEEPSAKE BOX PARIS DAYS',\n",
       " '20903': 'VINTAGE KEEPSAKE BOX TRAVELOGUE',\n",
       " '20906': 'VINTAGE NOTEBOOK BEAUTY GIRL',\n",
       " '20910': 'VINTAGE PHOTO ALBUM PARIS DAYS',\n",
       " '20914': 'SET/5 RED RETROSPOT LID GLASS BOWLS',\n",
       " '20931': 'BLUE POT PLANT CANDLE ',\n",
       " '20932': 'PINK POT PLANT CANDLE',\n",
       " '20933': 'YELLOW POT PLANT CANDLE',\n",
       " '20934': 'SET/3 POT PLANT CANDLES',\n",
       " '20935': 'ROUND CACTUS CANDLE',\n",
       " '20936': 'FORKED CACTUS CANDLE',\n",
       " '20941': 'FROG CANDLE',\n",
       " '20950': None,\n",
       " '20954': '*USB Office Mirror Ball',\n",
       " '20956': 'PORCELAIN T-LIGHT HOLDERS ASSORTED',\n",
       " '20960': 'WATERMELON BATH SPONGE',\n",
       " '20961': 'STRAWBERRY BATH SPONGE ',\n",
       " '20963': 'APPLE BATH SPONGE',\n",
       " '20964': 'POLYESTER FILLER PAD 60x40cm',\n",
       " '20966': 'SANDWICH BATH SPONGE',\n",
       " '20967': 'GREY FLORAL FELTCRAFT SHOULDER BAG',\n",
       " '20969': 'RED FLORAL FELTCRAFT SHOULDER BAG',\n",
       " '20970': 'PINK FLORAL FELTCRAFT SHOULDER BAG',\n",
       " '20971': 'PINK BLUE FELT CRAFT TRINKET BOX',\n",
       " '20972': 'PINK CREAM FELT CRAFT TRINKET BOX ',\n",
       " '20973': '12 PENCIL SMALL TUBE WOODLAND',\n",
       " '20974': '12 PENCILS SMALL TUBE SKULL',\n",
       " '20975': '12 PENCILS SMALL TUBE RED RETROSPOT',\n",
       " '20977': '36 PENCILS TUBE WOODLAND',\n",
       " '20978': '36 PENCILS TUBE SKULLS',\n",
       " '20979': '36 PENCILS TUBE RED RETROSPOT',\n",
       " '20980': '36 PENCILS TUBE POSY',\n",
       " '20981': '12 PENCILS TALL TUBE WOODLAND',\n",
       " '20982': '12 PENCILS TALL TUBE SKULLS',\n",
       " '20983': '12 PENCILS TALL TUBE RED RETROSPOT',\n",
       " '20984': '12 PENCILS TALL TUBE POSY',\n",
       " '20985': 'HEART CALCULATOR',\n",
       " '20986': 'BLUE CALCULATOR RULER',\n",
       " '20992': 'JAZZ HEARTS PURSE NOTEBOOK',\n",
       " '20996': 'JAZZ HEARTS ADDRESS BOOK',\n",
       " '20997': 'ROSE DU SUD CUSHION COVER ',\n",
       " '20998': 'ROSE DU SUD OVEN GLOVE',\n",
       " '21000': 'ROSE DU SUD COSMETICS BAG',\n",
       " '21001': 'ROSE DU SUD WASHBAG ',\n",
       " '21002': 'ROSE DU SUD DRAWSTRING BAG',\n",
       " '21003': 'ROSE DU SUD CUSHION COVER',\n",
       " '21009': 'ETCHED GLASS STAR TREE DECORATION',\n",
       " '21011': 'GLITTER SNOW PEAR TREE DECORATION',\n",
       " '21012': 'ANTIQUE ALL GLASS CANDLESTICK',\n",
       " '21014': 'SWISS CHALET TREE DECORATION ',\n",
       " '21015': 'DARK BIRD HOUSE TREE DECORATION',\n",
       " '21018': 'BIRD BOX CHRISTMAS TREE DECORATION',\n",
       " '21025': 'SPACE FROG',\n",
       " '21026': 'SPACE OWL',\n",
       " '21027': 'NINJA RABBIT PINK',\n",
       " '21028': 'NINJA RABBIT BLACK',\n",
       " '21030': 'SPACE CADET RED',\n",
       " '21031': 'SPACE CADET BLACK',\n",
       " '21032': 'SPACE CADET WHITE',\n",
       " '21033': 'JUMBO BAG CHARLIE AND LOLA TOYS',\n",
       " '21034': 'REX CASH+CARRY JUMBO SHOPPER',\n",
       " '21035': 'SET/2 RED RETROSPOT TEA TOWELS ',\n",
       " '21038': 'SET/4 MODERN VINTAGE COTTON NAPKINS',\n",
       " '21039': 'RED RETROSPOT SHOPPING BAG',\n",
       " '21040': 'MODERN VINTAGE COTTON SHOPPING BAG',\n",
       " '21041': 'RED RETROSPOT OVEN GLOVE DOUBLE',\n",
       " '21042': 'RED RETROSPOT APRON ',\n",
       " '21043': 'APRON MODERN VINTAGE COTTON',\n",
       " '21051': 'RIBBONS PURSE ',\n",
       " '21054': \"NURSE'S BAG SOFT TOY\",\n",
       " '21055': 'TOOL BOX SOFT TOY ',\n",
       " '21056': \"DOCTOR'S BAG SOFT TOY\",\n",
       " '21058': 'PARTY INVITES WOODLAND',\n",
       " '21059': 'PARTY INVITES DINOSAURS',\n",
       " '21060': 'PARTY INVITES BALLOON GIRL',\n",
       " '21061': 'PARTY INVITES FOOTBALL',\n",
       " '21062': 'PARTY INVITES SPACEMAN',\n",
       " '21063': 'PARTY INVITES JAZZ HEARTS',\n",
       " '21064': 'BOOM BOX SPEAKER BOYS',\n",
       " '21065': 'BOOM BOX SPEAKER GIRLS',\n",
       " '21066': 'VINTAGE RED MUG',\n",
       " '21067': 'VINTAGE RED TEATIME MUG',\n",
       " '21068': 'VINTAGE BILLBOARD LOVE/HATE MUG',\n",
       " '21069': 'VINTAGE BILLBOARD TEA MUG',\n",
       " '21070': 'VINTAGE BILLBOARD MUG ',\n",
       " '21071': 'VINTAGE BILLBOARD DRINK ME MUG',\n",
       " '21078': 'SET/20 STRAWBERRY PAPER NAPKINS ',\n",
       " '21080': 'SET/20 RED RETROSPOT PAPER NAPKINS ',\n",
       " '21082': 'SET/20 FRUIT SALAD PAPER NAPKINS ',\n",
       " '21084': 'SET/6 COLLAGE PAPER CUPS',\n",
       " '21086': 'SET/6 RED SPOTTY PAPER CUPS',\n",
       " '21087': 'SET/6 POSIES PAPER CUPS',\n",
       " '21088': 'SET/6 FRUIT SALAD PAPER CUPS',\n",
       " '21089': 'SET/6 GREEN SPRING PAPER CUPS',\n",
       " '21090': 'SET/6 COLLAGE PAPER PLATES',\n",
       " '21094': 'SET/6 RED SPOTTY PAPER PLATES',\n",
       " '21095': 'SET/6 POSIES PAPER PLATES',\n",
       " '21096': 'SET/6 FRUIT SALAD  PAPER PLATES',\n",
       " '21098': 'CHRISTMAS TOILET ROLL',\n",
       " '21100': 'CHARLIE AND LOLA CHARLOTTE BAG',\n",
       " '21106': 'CREAM SLICE FLANNEL CHOCOLATE SPOT ',\n",
       " '21107': 'CREAM SLICE FLANNEL PINK SPOT ',\n",
       " '21108': 'FAIRY CAKE FLANNEL ASSORTED COLOUR',\n",
       " '21109': 'LARGE CAKE TOWEL, CHOCOLATE SPOTS',\n",
       " '21110': 'LARGE CAKE TOWEL PINK SPOTS',\n",
       " '21111': 'SWISS ROLL TOWEL, CHOCOLATE  SPOTS',\n",
       " '21112': 'SWISS ROLL TOWEL, PINK  SPOTS',\n",
       " '21114': 'LAVENDER SCENTED FABRIC HEART',\n",
       " '21115': 'ROSE CARAVAN DOORSTOP',\n",
       " '21116': 'OWL DOORSTOP',\n",
       " '21117': 'BLOND DOLL DOORSTOP',\n",
       " '21120': '*Boombox Ipod Classic',\n",
       " '21121': 'SET/10 RED POLKADOT PARTY CANDLES',\n",
       " '21122': 'SET/10 PINK POLKADOT PARTY CANDLES',\n",
       " '21123': 'SET/10 IVORY POLKADOT PARTY CANDLES',\n",
       " '21124': 'SET/10 BLUE POLKADOT PARTY CANDLES',\n",
       " '21125': 'SET 6 FOOTBALL CELEBRATION CANDLES',\n",
       " '21126': 'SET OF 6 GIRLS CELEBRATION CANDLES',\n",
       " '21128': 'GOLD FISHING GNOME',\n",
       " '21129': 'SILVER FISHING GNOME ',\n",
       " '21131': 'GOLD STANDING GNOME',\n",
       " '21132': 'SILVER STANDING GNOME   ',\n",
       " '21134': None,\n",
       " '21135': 'VICTORIAN  METAL POSTCARD SPRING',\n",
       " '21136': 'PAINTED METAL PEARS ASSORTED',\n",
       " '21137': 'BLACK RECORD COVER FRAME',\n",
       " '21143': 'ANTIQUE GLASS HEART DECORATION ',\n",
       " '21144': 'PINK POODLE HANGING DECORATION ',\n",
       " '21145': 'ANTIQUE GLASS PLACE SETTING',\n",
       " '21147': 'JINGLE BELLS TREE DECORATION',\n",
       " '21154': 'RED RETROSPOT OVEN GLOVE ',\n",
       " '21155': 'RED RETROSPOT PEG BAG',\n",
       " '21156': 'RETROSPOT CHILDRENS APRON',\n",
       " '21157': 'RED RETROSPOT WASHBAG',\n",
       " '21158': 'MOODY GIRL DOOR HANGER ',\n",
       " '21159': 'MOODY BOY  DOOR HANGER ',\n",
       " '21160': 'KEEP OUT GIRLS DOOR HANGER ',\n",
       " '21161': 'KEEP OUT BOYS DOOR HANGER ',\n",
       " '21162': 'TOXIC AREA  DOOR HANGER ',\n",
       " '21163': 'DO NOT TOUCH MY STUFF DOOR HANGER ',\n",
       " '21164': 'HOME SWEET HOME METAL SIGN ',\n",
       " '21165': 'BEWARE OF THE CAT METAL SIGN ',\n",
       " '21166': 'COOK WITH WINE METAL SIGN ',\n",
       " '21167': 'WHITE SAGE INCENSE',\n",
       " '21169': \"YOU'RE CONFUSING ME METAL SIGN \",\n",
       " '21171': 'BATHROOM METAL SIGN ',\n",
       " '21172': 'PARTY METAL SIGN ',\n",
       " '21174': 'POTTERING IN THE SHED METAL SIGN',\n",
       " '21175': 'GIN + TONIC DIET METAL SIGN',\n",
       " '21179': 'NO JUNK MAIL METAL SIGN',\n",
       " '21181': 'PLEASE ONE PERSON METAL SIGN',\n",
       " '21186': 'WHITE DOVE HONEYCOMB PAPER GARLAND',\n",
       " '21187': 'WHITE BELL HONEYCOMB PAPER GARLAND ',\n",
       " '21188': '3D HEARTS  HONEYCOMB PAPER GARLAND',\n",
       " '21189': 'WHITE HONEYCOMB PAPER GARLAND ',\n",
       " '21190': 'PINK HEARTS PAPER GARLAND',\n",
       " '21191': 'LARGE WHITE HONEYCOMB PAPER BELL  ',\n",
       " '21192': 'WHITE BELL HONEYCOMB PAPER ',\n",
       " '21194': 'PINK  HONEYCOMB PAPER FAN',\n",
       " '21195': 'PINK  HONEYCOMB PAPER BALL ',\n",
       " '21196': 'ROUND WHITE CONFETTI IN TUBE',\n",
       " '21197': 'MULTICOLOUR  CONFETTI IN TUBE',\n",
       " '21198': 'WHITE HEART CONFETTI IN TUBE',\n",
       " '21199': 'PINK  HEART CONFETTI IN TUBE',\n",
       " '21200': 'MULTICOLOUR HONEYCOMB PAPER GARLAND',\n",
       " '21201': 'TROPICAL  HONEYCOMB PAPER GARLAND ',\n",
       " '21202': 'DOLLY HONEYCOMB GARLAND',\n",
       " '21204': 'DAISIES  HONEYCOMB GARLAND ',\n",
       " '21205': 'MULTICOLOUR 3D BALLS GARLAND',\n",
       " '21206': 'STRAWBERRY HONEYCOMB  GARLAND ',\n",
       " '21207': 'SKULL AND CROSSBONES  GARLAND ',\n",
       " '21208': 'PASTEL COLOUR HONEYCOMB FAN',\n",
       " '21209': 'MULTICOLOUR HONEYCOMB FAN',\n",
       " '21210': 'SET OF 72 RETROSPOT PAPER  DOILIES',\n",
       " '21211': 'SET OF 72 SKULL PAPER  DOILIES',\n",
       " '21212': 'PACK OF 72 RETROSPOT CAKE CASES',\n",
       " '21213': 'PACK OF 72 SKULL CAKE CASES',\n",
       " '21215': 'IVORY PAPER CUP CAKE CASES ',\n",
       " '21216': 'SET 3 RETROSPOT TEA,COFFEE,SUGAR',\n",
       " '21217': 'RED RETROSPOT ROUND CAKE TINS',\n",
       " '21218': 'RED SPOTTY BISCUIT TIN',\n",
       " '21219': 'SET/4 BADGES BALLOON GIRL',\n",
       " '21220': 'SET/4 BADGES DOGS',\n",
       " '21221': 'SET/4 BADGES CUTE CREATURES',\n",
       " '21222': 'SET/4 BADGES BEETLES',\n",
       " '21224': 'SET/4 SKULL BADGES',\n",
       " '21226': 'POCKET MIRROR WOODLAND',\n",
       " '21228': 'POCKET MIRROR \"GLAMOROUS\"',\n",
       " '21231': 'SWEETHEART CERAMIC TRINKET BOX',\n",
       " '21232': 'STRAWBERRY CERAMIC TRINKET BOX',\n",
       " '21238': 'RED RETROSPOT CUP',\n",
       " '21239': 'PINK  POLKADOT CUP',\n",
       " '21240': 'BLUE POLKADOT CUP',\n",
       " '21242': 'RED RETROSPOT PLATE ',\n",
       " '21243': 'PINK  POLKADOT PLATE ',\n",
       " '21244': 'BLUE POLKADOT PLATE ',\n",
       " '21245': 'GREEN POLKADOT PLATE ',\n",
       " '21246': 'RED RETROSPOT BIG BOWL',\n",
       " '21248': 'DOOR HANGER  MUM + DADS ROOM',\n",
       " '21249': 'WOODLAND  HEIGHT CHART STICKERS ',\n",
       " '21250': 'SET OF SKULL WALL STICKERS',\n",
       " '21251': 'DINOSAUR HEIGHT CHART STICKER SET',\n",
       " '21253': 'SET OF PICTURE FRAME  STICKERS',\n",
       " '21257': 'VICTORIAN SEWING BOX MEDIUM',\n",
       " '21258': 'VICTORIAN SEWING BOX LARGE',\n",
       " '21259': 'VICTORIAN SEWING BOX SMALL ',\n",
       " '21260': 'FIRST AID TIN',\n",
       " '21261': 'GREEN GOOSE FEATHER CHRISTMAS TREE ',\n",
       " '21262': 'WHITE GOOSE FEATHER CHRISTMAS TREE ',\n",
       " '21263': 'GREEN GOOSE FEATHER TREE 60CM',\n",
       " '21264': 'WHITE GOOSE FEATHER TREE 60CM ',\n",
       " '21265': 'PINK GOOSE FEATHER TREE 60CM',\n",
       " '21268': 'VINTAGE BLUE TINSEL REEL',\n",
       " '21269': 'ANTIQUE CREAM CUTLERY SHELF ',\n",
       " '21270': 'ANTIQUE CREAM CUTLERY CUPBOARD',\n",
       " '21272': 'SALLE DE BAIN HOOK',\n",
       " '21275': 'ZINC TOP  2 DOOR WOODEN SHELF ',\n",
       " '21277': 'FRENCH STYLE EMBOSSED HEART CABINET',\n",
       " '21278': 'VINTAGE KITCHEN PRINT PUDDINGS',\n",
       " '21279': 'VINTAGE KITCHEN PRINT FRUITS',\n",
       " '21280': 'VINTAGE KITCHEN PRINT VEGETABLES',\n",
       " '21281': 'VINTAGE KITCHEN PRINT SEAFOOD',\n",
       " '21284': 'RETROSPOT CANDLE  SMALL',\n",
       " '21285': 'RETROSPOT CANDLE  MEDIUM',\n",
       " '21286': 'RETROSPOT CANDLE  LARGE',\n",
       " '21287': 'SCENTED VELVET LOUNGE CANDLE ',\n",
       " '21288': 'STRIPEY CHOCOLATE NESTING BOXES',\n",
       " '21289': 'LARGE STRIPES CHOCOLATE GIFT BAG',\n",
       " '21291': 'SMALL POLKADOT CHOCOLATE GIFT BAG ',\n",
       " '21292': 'SMALL STRIPES CHOCOLATE GIFT BAG ',\n",
       " '21293': 'MIRRORED DOVE WALL DECORATION',\n",
       " '21294': 'ETCHED GLASS COASTER',\n",
       " '21306': 'SET/4 DAISY MIRROR MAGNETS',\n",
       " '21307': 'SET/4 BUTTERFLY MIRROR MAGNETS',\n",
       " '21310': 'CAPIZ CHANDELIER',\n",
       " '21311': 'SET/4 BIRD MIRROR MAGNETS ',\n",
       " '21313': 'GLASS HEART T-LIGHT HOLDER ',\n",
       " '21314': 'SMALL GLASS HEART TRINKET POT',\n",
       " '21316': 'SMALL CHUNKY GLASS ROMAN  BOWL',\n",
       " '21317': 'GLASS SPHERE CANDLE STAND MEDIUM',\n",
       " '21318': 'GLASS CHALICE BLUE SMALL ',\n",
       " '21319': 'GLASS CHALICE GREEN  SMALL ',\n",
       " '21320': 'GLASS CHALICE GREEN  LARGE ',\n",
       " '21324': 'HANGING MEDINA LANTERN SMALL',\n",
       " '21326': 'AGED GLASS SILVER T-LIGHT HOLDER',\n",
       " '21327': 'SKULLS WRITING SET ',\n",
       " '21328': 'BALLOONS  WRITING SET ',\n",
       " '21329': 'DINOSAURS  WRITING SET ',\n",
       " '21331': 'MOROCCAN BEATEN METAL DISH LARGE',\n",
       " '21332': 'MOROCCAN BEATEN METAL MIRROR',\n",
       " '21333': 'CLASSIC WHITE FRAME',\n",
       " '21336': 'GOLD WASHBAG',\n",
       " '21340': 'CLASSIC METAL BIRDCAGE PLANT HOLDER',\n",
       " '21344': 'MOROCCAN BEATEN METAL DISH',\n",
       " '21348': 'PINK SPOTS CHOCOLATE NESTING BOXES ',\n",
       " '21349': 'IVY HEART WREATH',\n",
       " '21351': 'CINAMMON & ORANGE WREATH',\n",
       " '21352': 'EUCALYPTUS & PINECONE  WREATH',\n",
       " '21354': 'TOAST ITS - BEST MUM',\n",
       " '21355': 'TOAST ITS - I LOVE YOU ',\n",
       " '21356': 'TOAST ITS - FAIRY FLOWER',\n",
       " '21357': 'TOAST ITS - DINOSAUR',\n",
       " '21358': 'TOAST ITS - HAPPY BIRTHDAY',\n",
       " '21359': 'RELAX LARGE WOOD LETTERS',\n",
       " '21360': 'JOY LARGE WOOD LETTERS',\n",
       " '21361': 'LOVE LARGE WOOD LETTERS ',\n",
       " '21363': 'HOME SMALL WOOD LETTERS',\n",
       " '21364': 'PEACE SMALL WOOD LETTERS',\n",
       " '21365': 'MIRRORED WALL ART STARS',\n",
       " '21366': 'MIRRORED WALL ART PHOTO FRAMES',\n",
       " '21367': 'MIRRORED WALL ART GENTS',\n",
       " '21368': 'MIRRORED WALL ART LADIES',\n",
       " '21369': 'MIRRORED WALL ART SPLODGES',\n",
       " '21370': 'MIRRORED WALL ART FOXY',\n",
       " '21371': 'MIRRORED WALL ART POPPIES',\n",
       " '21372': 'MIRRORED WALL ART TABLE LAMP',\n",
       " '21373': 'MIRRORED WALL ART SNOWFLAKES',\n",
       " '21374': 'MIRRORED WALL ART SKULLS',\n",
       " '21375': 'LARGE CAMPHOR WOOD FIELD MUSHROOM ',\n",
       " '21376': 'LARGE  TALL CAMPHOR WOOD TOADSTOOL ',\n",
       " '21377': 'SMALL CAMPHOR WOOD FIELD  MUSHROOM',\n",
       " '21378': 'SMALL TALL CAMPHOR WOOD TOADSTOOL',\n",
       " '21379': 'CAMPHOR WOOD PORTOBELLO MUSHROOM',\n",
       " '21380': 'WOODEN HAPPY BIRTHDAY GARLAND',\n",
       " '21381': 'MINI WOODEN HAPPY BIRTHDAY GARLAND',\n",
       " '21382': 'SET/4 SPRING FLOWER DECORATION',\n",
       " '21383': 'PACK OF 12 STICKY BUNNIES',\n",
       " '21385': 'IVORY HANGING DECORATION  HEART',\n",
       " '21386': 'IVORY HANGING DECORATION  EGG',\n",
       " '21389': 'IVORY HANGING DECORATION  BIRD',\n",
       " '21390': 'FILIGRIS HEART WITH BUTTERFLY',\n",
       " '21391': 'FRENCH LAVENDER SCENT HEART',\n",
       " '21392': 'RED POLKADOT PUDDING BOWL',\n",
       " '21393': 'BLUE POLKADOT PUDDING BOWL',\n",
       " '21394': 'RED POLKADOT BEAKER ',\n",
       " '21395': 'BLUE POLKADOT BEAKER ',\n",
       " '21397': 'BLUE POLKADOT EGG CUP ',\n",
       " '21398': 'RED POLKADOT COFFEE  MUG',\n",
       " '21399': 'BLUE POLKADOT COFFEE MUG',\n",
       " '21400': 'RED PUDDING SPOON',\n",
       " '21401': 'BLUE PUDDING SPOON',\n",
       " '21402': 'RED  EGG  SPOON',\n",
       " '21403': 'BLUE EGG  SPOON',\n",
       " '21407': 'BROWN CHECK CAT DOORSTOP ',\n",
       " '21408': 'SPOTTY PINK DUCK DOORSTOP',\n",
       " '21410': 'COUNTRY COTTAGE  DOORSTOP GREEN',\n",
       " '21411': 'GINGHAM HEART  DOORSTOP RED',\n",
       " '21413': 'PERIWINKLE T-LIGHT HOLDER',\n",
       " '21414': 'SCALLOP SHELL SOAP DISH',\n",
       " '21415': 'CLAM SHELL SMALL ',\n",
       " '21416': 'CLAM SHELL LARGE',\n",
       " '21417': 'COCKLE SHELL DISH',\n",
       " '21418': 'STARFISH SOAP DISH',\n",
       " '21420': 'OYSTER TRINKET BOX',\n",
       " '21421': 'PORCELAIN ROSE LARGE ',\n",
       " '21422': 'PORCELAIN ROSE SMALL',\n",
       " '21424': 'WOODLAND STORAGE BOX LARGE ',\n",
       " '21425': 'SKULLS STORAGE BOX LARGE',\n",
       " '21426': 'WOODLAND STORAGE BOX SMALL',\n",
       " '21427': 'SKULLS STORAGE BOX SMALL',\n",
       " '21428': 'SET3 BOOK BOX GREEN GINGHAM FLOWER ',\n",
       " '21429': 'RED GINGHAM ROSE JEWELLERY BOX',\n",
       " '21430': 'SET/3 RED GINGHAM ROSE STORAGE BOX',\n",
       " '21439': 'BASKET OF TOADSTOOLS',\n",
       " '21441': 'BLUE BIRDHOUSE DECORATION',\n",
       " '21442': 'GREEN BIRDHOUSE DECORATION',\n",
       " '21445': '12 PINK ROSE PEG PLACE SETTINGS',\n",
       " '21446': '12 RED ROSE PEG PLACE SETTINGS',\n",
       " '21447': '12 IVORY ROSE PEG PLACE SETTINGS',\n",
       " '21448': '12 DAISY PEGS IN WOOD BOX',\n",
       " '21452': 'TOADSTOOL MONEY BOX',\n",
       " '21454': 'PAINTED PINK RABBIT ',\n",
       " '21455': 'PAINTED YELLOW WOODEN DAISY',\n",
       " '21456': '2 PICTURE BOOK EGGS EASTER CHICKS',\n",
       " '21457': '2 PICTURE BOOK EGGS EASTER DUCKS',\n",
       " '21458': '2 PICTURE BOOK EGGS EASTER BUNNY',\n",
       " '21459': 'YELLOW EASTER EGG HUNT START POST',\n",
       " '21460': 'GREEN EASTER EGG HUNT START POST',\n",
       " '21461': 'BLUE EASTER EGG HUNT START POST',\n",
       " '21462': 'NURSERY A,B,C PAINTED LETTERS',\n",
       " '21463': 'MIRRORED DISCO BALL ',\n",
       " '21464': 'DISCO BALL ROTATOR BATTERY OPERATED',\n",
       " '21465': 'PINK FLOWER CROCHET FOOD COVER',\n",
       " '21466': 'RED FLOWER CROCHET FOOD COVER',\n",
       " '21467': 'CHERRY CROCHET FOOD COVER',\n",
       " '21468': 'BUTTERFLY CROCHET FOOD COVER',\n",
       " '21469': 'POLKA DOT RAFFIA FOOD COVER',\n",
       " '21470': 'FLOWER VINE RAFFIA FOOD COVER',\n",
       " '21471': 'STRAWBERRY RAFFIA FOOD COVER',\n",
       " '21472': 'LADYBIRD + BEE RAFFIA FOOD COVER',\n",
       " '21473': 'SWEETHEART CREAM STEEL TABLE RECT',\n",
       " '21476': 'STEEL SWEETHEART ROUND TABLE CREAM',\n",
       " '21479': 'WHITE SKULL HOT WATER BOTTLE ',\n",
       " '21481': 'FAWN BLUE HOT WATER BOTTLE',\n",
       " '21484': 'CHICK GREY HOT WATER BOTTLE',\n",
       " '21485': 'RETROSPOT HEART HOT WATER BOTTLE',\n",
       " '21486': 'PINK HEART DOTS HOT WATER BOTTLE',\n",
       " '21488': 'RED WHITE SCARF  HOT WATER BOTTLE',\n",
       " '21491': 'SET OF THREE VINTAGE GIFT WRAPS',\n",
       " '21494': 'ROTATING LEAVES T-LIGHT HOLDER',\n",
       " '21495': 'SKULLS AND CROSSBONES WRAP',\n",
       " '21497': 'FANCY FONTS BIRTHDAY WRAP',\n",
       " '21498': 'RED RETROSPOT WRAP ',\n",
       " '21499': 'BLUE POLKADOT WRAP',\n",
       " '21500': 'PINK POLKADOT WRAP ',\n",
       " '21503': 'TOYBOX  WRAP ',\n",
       " '21504': 'SKULLS GREETING CARD',\n",
       " '21506': 'FANCY FONT BIRTHDAY CARD, ',\n",
       " '21507': 'ELEPHANT, BIRTHDAY CARD, ',\n",
       " '21508': 'VINTAGE KID DOLLY CARD ',\n",
       " '21509': 'COWBOYS AND INDIANS BIRTHDAY CARD ',\n",
       " '21518': 'BANK ACCOUNT  GREETING  CARD ',\n",
       " '21519': 'GIN & TONIC DIET GREETING CARD ',\n",
       " '21520': 'BOOZE & WOMEN GREETING CARD ',\n",
       " '21523': 'DOORMAT FANCY FONT HOME SWEET HOME',\n",
       " '21524': 'DOORMAT SPOTTY HOME SWEET HOME',\n",
       " '21527': 'RED RETROSPOT TRADITIONAL TEAPOT ',\n",
       " '21528': 'DAIRY MAID TRADITIONAL TEAPOT ',\n",
       " '21530': 'DAIRY MAID TOASTRACK',\n",
       " '21531': 'RED RETROSPOT SUGAR JAM BOWL',\n",
       " '21533': 'RETROSPOT LARGE MILK JUG',\n",
       " '21534': 'DAIRY MAID LARGE MILK JUG',\n",
       " '21535': 'RED RETROSPOT SMALL MILK JUG',\n",
       " '21537': 'RED RETROSPOT PUDDING BOWL',\n",
       " '21538': 'DAIRY MAID  PUDDING BOWL',\n",
       " '21539': 'RED RETROSPOT BUTTER DISH',\n",
       " '21544': 'SKULLS  WATER TRANSFER TATTOOS ',\n",
       " '21547': 'CERAMIC BIRDHOUSE CRESTED TIT SMALL',\n",
       " '21555': 'CERAMIC STRAWBERRY TRINKET TRAY',\n",
       " '21556': 'CERAMIC STRAWBERRY MONEY BOX',\n",
       " '21557': 'SET OF 6 FUNKY BEAKERS',\n",
       " '21558': 'SKULL LUNCH BOX WITH CUTLERY ',\n",
       " '21559': 'STRAWBERRY LUNCH BOX WITH CUTLERY',\n",
       " '21561': 'DINOSAUR LUNCH BOX WITH CUTLERY',\n",
       " '21562': 'HAWAIIAN GRASS SKIRT ',\n",
       " '21563': 'RED HEART SHAPE LOVE BUCKET ',\n",
       " '21564': 'PINK  HEART SHAPE LOVE BUCKET ',\n",
       " '21576': 'LETS GO SHOPPING COTTON TOTE BAG',\n",
       " '21577': 'SAVE THE PLANET COTTON TOTE BAG',\n",
       " '21578': 'WOODLAND DESIGN  COTTON TOTE BAG',\n",
       " '21579': 'LOLITA  DESIGN  COTTON TOTE BAG',\n",
       " '21580': 'RABBIT  DESIGN  COTTON TOTE BAG',\n",
       " '21581': 'SKULLS  DESIGN  COTTON TOTE BAG',\n",
       " '21584': 'RETROSPOT SMALL TUBE MATCHES',\n",
       " '21586': 'KINGS CHOICE GIANT TUBE MATCHES',\n",
       " '21587': 'COSY HOUR GIANT TUBE MATCHES',\n",
       " '21588': 'RETROSPOT GIANT TUBE MATCHES',\n",
       " '21591': 'COSY HOUR CIGAR BOX MATCHES ',\n",
       " '21592': 'RETROSPOT CIGAR BOX MATCHES ',\n",
       " '21594': \"Dr. Jam's Arouzer Stress Ball\",\n",
       " '21595': \"Dad's Cab Electronic Meter\",\n",
       " '21609': 'SET 12 LAVENDER  BOTANICAL T-LIGHTS',\n",
       " '21613': 'S/12 VANILLA  BOTANICAL T-LIGHTS',\n",
       " '21614': 'SET OF 12 ROSE BOTANICAL T-LIGHTS',\n",
       " '21615': '4 LAVENDER BOTANICAL DINNER CANDLES',\n",
       " '21616': '4 PEAR BOTANICAL DINNER CANDLES',\n",
       " '21617': '4 LILY  BOTANICAL DINNER CANDLES',\n",
       " '21618': '4 WILDFLOWER BOTANICAL CANDLES',\n",
       " '21619': '4 VANILLA BOTANICAL CANDLES',\n",
       " '21620': 'SET OF 4 ROSE BOTANICAL CANDLES',\n",
       " '21621': 'VINTAGE UNION JACK BUNTING',\n",
       " '21622': 'VINTAGE UNION JACK CUSHION COVER',\n",
       " '21623': 'VINTAGE UNION JACK MEMOBOARD',\n",
       " '21624': 'VINTAGE UNION JACK DOORSTOP',\n",
       " '21625': 'VINTAGE UNION JACK APRON',\n",
       " '21626': 'VINTAGE UNION JACK PENNANT',\n",
       " '21627': 'ELEPHANT CARNIVAL POUFFE',\n",
       " '21628': 'TRIANGULAR POUFFE VINTAGE ',\n",
       " '21629': 'SQUARE FLOOR CUSHION VINTAGE RED',\n",
       " '21630': 'FLOOR CUSHION ELEPHANT CARNIVAL',\n",
       " '21631': 'HIPPY CHIC DECORATIVE PARASOL',\n",
       " '21632': 'VINTAGE PINK DECORATIVE PARASOL',\n",
       " '21633': 'SUNFLOWER DECORATIVE PARASOL',\n",
       " '21634': 'ASSORTED MINI MADRAS NOTEBOOK',\n",
       " '21635': 'MADRAS NOTEBOOK LARGE ',\n",
       " '21636': 'MADRAS NOTEBOOK MEDIUM',\n",
       " '21637': 'ASSORTED SANSKRIT MINI NOTEBOOK',\n",
       " '21638': 'ASSORTED TUTTI FRUTTI NOTEBOOK',\n",
       " '21640': 'ASSORTED TUTTI FRUTTI  FOB NOTEBOOK',\n",
       " '21641': 'ASSORTED TUTTI FRUTTI KEYRING BALL',\n",
       " '21642': 'ASSORTED TUTTI FRUTTI PEN',\n",
       " '21643': 'ASSORTED TUTTI FRUTTI MIRROR',\n",
       " '21644': 'ASSORTED TUTTI FRUTTI HEART BOX',\n",
       " '21647': 'ASSORTED TUTTI FRUTTI LARGE PURSE',\n",
       " '21648': 'ASSORTED TUTTI FRUTTI SMALL PURSE',\n",
       " '21650': 'ASSORTED TUTTI FRUTTI BRACELET',\n",
       " '21651': 'HANGING GLASS ETCHED TEALIGHT',\n",
       " '21654': 'RIDGED GLASS FINGER BOWL',\n",
       " '21655': 'HANGING RIDGE GLASS T-LIGHT HOLDER',\n",
       " '21656': 'RIDGED GLASS POSY VASE ',\n",
       " '21657': 'MILK BOTTLE WITH GLASS STOPPER ',\n",
       " '21658': 'GLASS  BEURRE DISH',\n",
       " '21661': 'VINTAGE GLASS TEA CADDY',\n",
       " '21662': 'VINTAGE GLASS COFFEE CADDY',\n",
       " '21664': 'RIDGED GLASS STORAGE JAR CREAM LID',\n",
       " '21666': 'RIDGED GLASS T-LIGHT HOLDER',\n",
       " '21667': 'GLASS CAKE COVER AND PLATE',\n",
       " '21668': 'RED STRIPE CERAMIC DRAWER KNOB',\n",
       " '21669': 'BLUE STRIPE CERAMIC DRAWER KNOB',\n",
       " '21670': 'BLUE SPOT CERAMIC DRAWER KNOB',\n",
       " '21671': 'RED SPOT CERAMIC DRAWER KNOB',\n",
       " '21672': 'WHITE SPOT RED CERAMIC DRAWER KNOB',\n",
       " '21673': 'WHITE SPOT BLUE CERAMIC DRAWER KNOB',\n",
       " '21675': 'BUTTERFLIES STICKERS',\n",
       " '21676': 'FLOWERS  STICKERS',\n",
       " '21677': 'HEARTS  STICKERS',\n",
       " '21678': 'PAISLEY PATTERN  STICKERS',\n",
       " '21679': 'SKULLS  STICKERS',\n",
       " '21680': 'WOODLAND  STICKERS',\n",
       " '21681': 'GIANT MEDINA STAMPED METAL BOWL ',\n",
       " '21682': 'LARGE MEDINA STAMPED METAL BOWL ',\n",
       " '21683': 'MEDIUM MEDINA STAMPED METAL BOWL ',\n",
       " '21684': 'SMALL MEDINA STAMPED METAL BOWL ',\n",
       " '21686': 'MEDINA STAMPED METAL STOOL',\n",
       " '21688': 'SILVER PLATE CANDLE BOWL SMALL',\n",
       " '21689': 'SILVER VANILLA  FLOWER CANDLE POT',\n",
       " '21690': 'SILVER  CANDLEPOT JARDIN ',\n",
       " '21692': 'SILVER LATTICE VANILLA CANDLE POT',\n",
       " '21693': 'SMALL HAMMERED SILVER CANDLEPOT ',\n",
       " '21694': 'SMALL REGAL  SILVER CANDLEPOT ',\n",
       " '21695': 'SMALL SILVER FLOWER CANDLE POT',\n",
       " '21696': 'SMALL SILVER TRELLIS CANDLEPOT',\n",
       " '21698': 'MOCK LOBSTER FRIDGE MAGNET',\n",
       " '21700': 'BIG DOUGHNUT FRIDGE MAGNETS',\n",
       " '21703': 'BAG 125g SWIRLY MARBLES',\n",
       " '21704': 'BAG 250g SWIRLY MARBLES',\n",
       " '21705': 'BAG 500g SWIRLY MARBLES',\n",
       " '21706': 'FOLDING UMBRELLA RED/WHITE POLKADOT',\n",
       " '21707': 'FOLDING UMBRELLA BLACKBLUE POLKADOT',\n",
       " '21708': 'FOLDING UMBRELLA CREAM POLKADOT',\n",
       " '21709': 'FOLDING UMBRELLA CHOCOLATE POLKADOT',\n",
       " '21710': 'FOLDING UMBRELLA PINKWHITE POLKADOT',\n",
       " '21711': 'FOLDING UMBRELLA WHITE/RED POLKADOT',\n",
       " '21713': 'CITRONELLA CANDLE FLOWERPOT',\n",
       " '21714': 'CITRONELLA CANDLE GARDEN POT',\n",
       " '21715': 'GIRLS VINTAGE TIN SEASIDE BUCKET',\n",
       " '21716': 'BOYS VINTAGE TIN SEASIDE BUCKET',\n",
       " '21717': 'EASTER TIN BUCKET',\n",
       " '21718': 'RED METAL BEACH SPADE ',\n",
       " '21719': 'LOVELY BONBON STICKER SHEET',\n",
       " '21720': 'CAKE SHOP  STICKER SHEET',\n",
       " '21721': 'CANDY SHOP  STICKER SHEET',\n",
       " '21722': 'SWEET PUDDING STICKER SHEET',\n",
       " '21723': 'ALPHABET HEARTS STICKER SHEET',\n",
       " '21724': 'PANDA AND BUNNIES STICKER SHEET',\n",
       " '21725': 'SWEETIES  STICKERS',\n",
       " '21726': 'MULTI HEARTS  STICKERS',\n",
       " '21730': 'GLASS STAR FROSTED T-LIGHT HOLDER',\n",
       " '21731': 'RED TOADSTOOL LED NIGHT LIGHT',\n",
       " '21733': 'RED HANGING HEART T-LIGHT HOLDER',\n",
       " '21735': 'TWO DOOR CURIO CABINET',\n",
       " '21736': 'GOLD SCROLL GLASS T-LIGHT HOLDER',\n",
       " '21738': 'COSY SLIPPER SHOES SMALL  RED ',\n",
       " '21739': 'COSY SLIPPER SHOES SMALL GREEN',\n",
       " '21741': 'COSY SLIPPER SHOES LARGE GREEN',\n",
       " '21742': 'LARGE ROUND WICKER PLATTER ',\n",
       " '21743': 'STAR PORTABLE TABLE LIGHT ',\n",
       " '21744': 'SNOWFLAKE PORTABLE TABLE LIGHT ',\n",
       " '21745': 'GAOLERS KEYS DECORATIVE GARDEN ',\n",
       " '21746': 'SMALL RED RETROSPOT WINDMILL',\n",
       " '21747': 'SMALL SKULL WINDMILL',\n",
       " '21749': 'LARGE RED RETROSPOT WINDMILL',\n",
       " '21750': 'LARGE SKULL WINDMILL',\n",
       " '21754': 'HOME BUILDING BLOCK WORD',\n",
       " '21755': 'LOVE BUILDING BLOCK WORD',\n",
       " '21756': 'BATH BUILDING BLOCK WORD',\n",
       " '21757': 'LIGHTHOUSE PRINTED METAL SIGN',\n",
       " '21758': 'VINTAGE SHELLS PRINT',\n",
       " '21761': 'WOOD AND GLASS MEDICINE CABINET',\n",
       " '21763': 'VINTAGE WOODEN BAR STOOL',\n",
       " '21769': 'VINTAGE POST OFFICE CABINET',\n",
       " '21770': 'OPEN CLOSED METAL SIGN',\n",
       " '21773': 'DECORATIVE ROSE BATHROOM BOTTLE',\n",
       " '21774': 'DECORATIVE CATS BATHROOM BOTTLE',\n",
       " '21775': 'DECORATIVE FLORE BATHROOM BOTTLE',\n",
       " '21777': 'RECIPE BOX WITH METAL HEART',\n",
       " '21781': 'MA CAMPAGNE CUTLERY BOX',\n",
       " '21784': 'SHOE SHINE BOX ',\n",
       " '21785': 'RAIN PONCHO ',\n",
       " '21786': 'POLKADOT RAIN HAT ',\n",
       " '21787': 'RAIN PONCHO RETROSPOT',\n",
       " '21788': 'KIDS RAIN MAC BLUE',\n",
       " '21789': 'KIDS RAIN MAC PINK',\n",
       " '21790': 'VINTAGE SNAP CARDS',\n",
       " '21791': 'VINTAGE HEADS AND TAILS CARD GAME ',\n",
       " '21792': 'CLASSIC FRENCH STYLE BASKET GREEN ',\n",
       " '21793': 'CLASSIC FRENCH STYLE BASKET BROWN',\n",
       " '21794': 'CLASSIC FRENCH STYLE BASKET NATURAL',\n",
       " '21801': 'CHRISTMAS TREE DECORATION WITH BELL',\n",
       " '21802': 'CHRISTMAS TREE HEART DECORATION',\n",
       " '21803': 'CHRISTMAS TREE STAR DECORATION',\n",
       " '21804': 'WHITE CHRISTMAS GARLAND STARS TREES',\n",
       " '21807': 'WHITE CHRISTMAS STAR DECORATION',\n",
       " '21808': 'CHRISTMAS GARLAND STARS,TREES',\n",
       " '21809': 'CHRISTMAS HANGING TREE WITH BELL',\n",
       " '21810': 'CHRISTMAS HANGING STAR WITH BELL',\n",
       " '21811': 'CHRISTMAS HANGING HEART WITH BELL',\n",
       " '21812': 'GARLAND WITH HEARTS AND BELLS',\n",
       " '21813': 'GARLAND WITH STARS AND BELLS',\n",
       " '21814': 'HEART T-LIGHT HOLDER ',\n",
       " '21815': 'STAR  T-LIGHT HOLDER ',\n",
       " '21816': 'CHRISTMAS TREE T-LIGHT HOLDER',\n",
       " '21817': 'GLITTER CHRISTMAS TREE',\n",
       " '21818': 'GLITTER CHRISTMAS HEART ',\n",
       " '21819': 'GLITTER CHRISTMAS STAR ',\n",
       " '21820': 'GLITTER HEART GARLAND WITH BELLS ',\n",
       " '21821': 'GLITTER STAR GARLAND WITH BELLS ',\n",
       " '21822': 'GLITTER CHRISTMAS TREE WITH BELLS',\n",
       " '21823': 'PAINTED METAL HEART WITH HOLLY BELL',\n",
       " '21824': 'PAINTED METAL STAR WITH HOLLY BELLS',\n",
       " '21826': 'EIGHT PIECE DINOSAUR SET',\n",
       " '21827': 'EIGHT PIECE CREEPY CRAWLIE SET',\n",
       " '21828': 'EIGHT PIECE SNAKE  SET',\n",
       " '21829': 'DINOSAUR KEYRINGS ASSORTED',\n",
       " '21830': 'ASSORTED CREEPY CRAWLIES',\n",
       " '21832': 'CHOCOLATE CALCULATOR',\n",
       " '21833': 'CAMOUFLAGE LED TORCH',\n",
       " '21836': 'GINGHAM OVEN GLOVE RED HEART ',\n",
       " '21839': 'MUMMY MOUSE RED GINGHAM RIBBON',\n",
       " '21841': 'BABY MOUSE RED GINGHAM DRESS',\n",
       " '21843': 'RED RETROSPOT CAKE STAND',\n",
       " '21844': 'RED RETROSPOT MUG',\n",
       " '21845': 'DAIRY MAID STRIPE MUG',\n",
       " '21846': 'PINK DIAMANTE PEN IN GIFT BOX',\n",
       " '21847': 'GREEN  DIAMANTE PEN IN GIFT BOX',\n",
       " '21849': 'SILVER DIAMANTE PEN IN GIFT BOX',\n",
       " '21850': 'BLUE  DIAMANTE PEN IN GIFT BOX',\n",
       " '21851': 'LILAC DIAMANTE PEN IN GIFT BOX',\n",
       " '21864': 'UNION JACK FLAG PASSPORT COVER ',\n",
       " '21865': 'PINK UNION JACK  PASSPORT COVER ',\n",
       " '21866': 'UNION JACK FLAG LUGGAGE TAG',\n",
       " '21867': 'PINK UNION JACK  LUGGAGE TAG',\n",
       " '21868': 'POTTING SHED TEA MUG',\n",
       " '21870': 'I CAN ONLY PLEASE ONE PERSON MUG',\n",
       " '21871': 'SAVE THE PLANET MUG',\n",
       " '21872': 'GLAMOROUS  MUG',\n",
       " '21873': \"IF YOU CAN'T STAND THE HEAT MUG\",\n",
       " '21874': 'GIN AND TONIC MUG',\n",
       " '21875': 'KINGS CHOICE MUG',\n",
       " '21876': 'POTTERING MUG',\n",
       " '21877': 'HOME SWEET HOME MUG',\n",
       " '21878': 'PACK OF 6 SANDCASTLE FLAGS ASSORTED',\n",
       " '21879': 'HEARTS GIFT TAPE',\n",
       " '21880': 'RED RETROSPOT TAPE',\n",
       " '21881': 'CUTE CATS TAPE',\n",
       " '21882': 'SKULLS TAPE',\n",
       " '21883': 'STARS GIFT TAPE ',\n",
       " '21884': 'CAKES AND BOWS GIFT  TAPE',\n",
       " '21888': 'BINGO SET',\n",
       " '21889': 'WOODEN BOX OF DOMINOES',\n",
       " '21890': 'S/6 WOODEN SKITTLES IN COTTON BAG',\n",
       " '21891': 'TRADITIONAL WOODEN SKIPPING ROPE',\n",
       " '21892': 'TRADITIONAL WOODEN CATCH CUP GAME ',\n",
       " '21894': 'POTTING SHED SEED ENVELOPES',\n",
       " '21895': \"POTTING SHED SOW 'N' GROW SET\",\n",
       " '21896': 'POTTING SHED TWINE',\n",
       " '21897': 'POTTING SHED CANDLE CITRONELLA',\n",
       " '21898': 'POTTING SHED ROSE CANDLE',\n",
       " '21899': 'KEY FOB , GARAGE DESIGN',\n",
       " '21900': 'KEY FOB , SHED',\n",
       " '21901': 'KEY FOB , BACK DOOR ',\n",
       " '21902': 'KEY FOB , FRONT  DOOR ',\n",
       " '21903': 'MAN FLU METAL SIGN',\n",
       " '21904': 'HOUSE WRECKING METAL SIGN ',\n",
       " '21905': 'MORE BUTTER METAL SIGN ',\n",
       " '21906': 'PHARMACIE FIRST AID TIN',\n",
       " '21907': \"I'M ON HOLIDAY METAL SIGN\",\n",
       " '21908': 'CHOCOLATE THIS WAY METAL SIGN',\n",
       " '21910': 'WAY OUT METAL SIGN ',\n",
       " '21911': 'GARDEN METAL SIGN ',\n",
       " '21912': 'VINTAGE SNAKES & LADDERS',\n",
       " '21913': 'VINTAGE SEASIDE JIGSAW PUZZLES',\n",
       " '21914': 'BLUE HARMONICA IN BOX ',\n",
       " '21915': 'RED  HARMONICA IN BOX ',\n",
       " '21916': 'SET 12 RETRO WHITE CHALK STICKS',\n",
       " '21917': 'SET 12 KIDS  WHITE CHALK STICKS',\n",
       " '21918': 'SET 12 KIDS COLOUR  CHALK STICKS',\n",
       " '21922': 'UNION STRIPE WITH FRINGE  HAMMOCK',\n",
       " '21925': 'UNION STRIPE CUSHION COVER ',\n",
       " '21926': 'RED/CREAM STRIPE CUSHION COVER ',\n",
       " '21927': 'BLUE/CREAM STRIPE CUSHION COVER ',\n",
       " '21928': 'JUMBO BAG SCANDINAVIAN PAISLEY',\n",
       " '21929': 'JUMBO BAG PINK VINTAGE PAISLEY',\n",
       " '21930': 'JUMBO STORAGE BAG SKULLS',\n",
       " '21931': 'JUMBO STORAGE BAG SUKI',\n",
       " '21932': 'SCANDINAVIAN PAISLEY PICNIC BAG',\n",
       " '21933': 'PINK VINTAGE PAISLEY PICNIC BAG',\n",
       " '21934': 'SKULL SHOULDER BAG',\n",
       " '21935': 'SUKI  SHOULDER BAG',\n",
       " '21936': 'RED RETROSPOT PICNIC BAG',\n",
       " '21937': 'STRAWBERRY   PICNIC BAG',\n",
       " '21942': 'SKULLS DESIGN FLANNEL',\n",
       " '21943': 'CAKES AND RABBITS DESIGN FLANNEL ',\n",
       " '21944': 'KITTENS DESIGN FLANNEL',\n",
       " '21945': 'STRAWBERRIES  DESIGN FLANNEL ',\n",
       " '21946': 'PARTY TIME DESIGN FLANNEL',\n",
       " '21947': 'SET OF 6 HEART CHOPSTICKS',\n",
       " '21948': 'SET OF 6 CAKE CHOPSTICKS',\n",
       " '21949': 'SET OF 6 STRAWBERRY CHOPSTICKS',\n",
       " '21955': 'DOORMAT UNION JACK GUNS AND ROSES',\n",
       " '21967': 'PACK OF 12 SKULL TISSUES',\n",
       " '21972': 'SET OF 36 DINOSAUR PAPER DOILIES',\n",
       " '21973': 'SET OF 36 MUSHROOM PAPER DOILIES',\n",
       " '21974': 'SET OF 36 PAISLEY FLOWER DOILIES',\n",
       " '21975': 'PACK OF 60 DINOSAUR CAKE CASES',\n",
       " '21976': 'PACK OF 60 MUSHROOM CAKE CASES',\n",
       " '21977': 'PACK OF 60 PINK PAISLEY CAKE CASES',\n",
       " '21980': 'PACK OF 12 RED RETROSPOT TISSUES ',\n",
       " '21981': 'PACK OF 12 WOODLAND TISSUES ',\n",
       " '21982': 'PACK OF 12 SUKI TISSUES ',\n",
       " '21983': 'PACK OF 12 BLUE PAISLEY TISSUES ',\n",
       " '21984': 'PACK OF 12 PINK PAISLEY TISSUES ',\n",
       " '21985': 'PACK OF 12 HEARTS DESIGN TISSUES ',\n",
       " '21986': 'PACK OF 12 PINK POLKADOT TISSUES',\n",
       " '21987': 'PACK OF 6 SKULL PAPER CUPS',\n",
       " '21988': 'PACK OF 6 SKULL PAPER PLATES',\n",
       " '21989': 'PACK OF 20 SKULL PAPER NAPKINS',\n",
       " '21990': 'MODERN FLORAL STATIONERY SET',\n",
       " '21991': 'BOHEMIAN COLLAGE STATIONERY SET',\n",
       " '21992': 'VINTAGE PAISLEY STATIONERY SET',\n",
       " '21993': 'FLORAL FOLK STATIONERY SET',\n",
       " '22016': 'Dotcomgiftshop Gift Voucher £100.00',\n",
       " '22021': 'BLUE FELT EASTER EGG BASKET',\n",
       " '22023': 'EMPIRE BIRTHDAY CARD',\n",
       " '22024': 'RAINY LADIES BIRTHDAY CARD',\n",
       " '22025': 'RING OF ROSES BIRTHDAY CARD',\n",
       " '22026': 'BANQUET BIRTHDAY  CARD  ',\n",
       " '22027': 'TEA PARTY BIRTHDAY CARD',\n",
       " '22028': 'PENNY FARTHING BIRTHDAY CARD',\n",
       " '22029': 'SPACEBOY BIRTHDAY CARD',\n",
       " '22030': 'SWALLOWS GREETING CARD',\n",
       " '22031': 'BOTANICAL LAVENDER BIRTHDAY CARD',\n",
       " '22032': 'BOTANICAL LILY GREETING CARD',\n",
       " '22033': 'BOTANICAL ROSE GREETING CARD',\n",
       " '22034': 'ROBIN CHRISTMAS CARD',\n",
       " '22035': 'VINTAGE CARAVAN GREETING CARD ',\n",
       " '22037': 'ROBOT BIRTHDAY CARD',\n",
       " '22038': 'BOTANICAL LAVENDER GIFT WRAP ',\n",
       " '22039': 'BOTANICAL LILY GIFT WRAP',\n",
       " '22040': 'BOTANICAL ROSE GIFT WRAP',\n",
       " '22041': 'RECORD FRAME 7\" SINGLE SIZE ',\n",
       " '22042': 'CHRISTMAS CARD SINGING ANGEL',\n",
       " '22043': 'CHRISTMAS CARD SCREEN PRINT ',\n",
       " '22044': 'CHRISTMAS CARD STACK OF PRESENTS',\n",
       " '22045': 'SPACEBOY GIFT WRAP',\n",
       " '22046': 'TEA PARTY  WRAPPING PAPER ',\n",
       " '22047': 'EMPIRE GIFT WRAP',\n",
       " '22048': 'BIRTHDAY BANQUET GIFT WRAP',\n",
       " '22049': 'WRAP CHRISTMAS SCREEN PRINT',\n",
       " '22050': 'PINK PAISLEY ROSE GIFT WRAP',\n",
       " '22051': 'BLUE SCANDINAVIAN PAISLEY WRAP',\n",
       " '22052': 'VINTAGE CARAVAN GIFT WRAP',\n",
       " '22053': 'EMPIRE DESIGN ROSETTE',\n",
       " '22055': 'MINI CAKE STAND  HANGING STRAWBERY',\n",
       " '22057': 'CERAMIC PLATE STRAWBERRY DESIGN',\n",
       " '22059': 'CERAMIC STRAWBERRY DESIGN MUG',\n",
       " '22060': 'LARGE CAKE STAND HANGING HEARTS',\n",
       " '22061': 'LARGE CAKE STAND  HANGING STRAWBERY',\n",
       " '22062': 'CERAMIC BOWL WITH LOVE HEART DESIGN',\n",
       " '22063': 'CERAMIC BOWL WITH STRAWBERRY DESIGN',\n",
       " '22064': 'PINK DOUGHNUT TRINKET POT ',\n",
       " '22065': 'CHRISTMAS PUDDING TRINKET POT ',\n",
       " '22066': 'LOVE HEART TRINKET POT',\n",
       " '22067': 'CHOC TRUFFLE GOLD TRINKET POT ',\n",
       " '22068': 'BLACK PIRATE TREASURE CHEST',\n",
       " '22069': 'BROWN  PIRATE TREASURE CHEST ',\n",
       " '22070': 'SMALL RED RETROSPOT MUG IN BOX ',\n",
       " '22071': 'SMALL WHITE RETROSPOT MUG IN BOX ',\n",
       " '22072': 'RED RETROSPOT TEA CUP AND SAUCER ',\n",
       " '22073': 'RED RETROSPOT STORAGE JAR',\n",
       " '22074': '6 RIBBONS SHIMMERING PINKS ',\n",
       " '22075': '6 RIBBONS ELEGANT CHRISTMAS ',\n",
       " '22076': '6 RIBBONS EMPIRE  ',\n",
       " ...}"
      ]
     },
     "execution_count": 45,
     "metadata": {},
     "output_type": "execute_result"
    }
   ],
   "source": [
    "desc_map = df.groupby('StockCode')['Description'].first().to_dict()\n",
    "desc_map\n",
    "\n",
    "# Description available for diff stock code"
   ]
  },
  {
   "cell_type": "code",
   "execution_count": 46,
   "id": "cd9d02d8",
   "metadata": {},
   "outputs": [],
   "source": [
    "# now i have to map the groupby stockcode column and fill the missing value at description column"
   ]
  },
  {
   "cell_type": "code",
   "execution_count": 47,
   "id": "fa28d14a",
   "metadata": {},
   "outputs": [],
   "source": [
    "df['Description']=df['Description'].fillna(df['StockCode'].map(desc_map))\n",
    "\n",
    "# filling the nan description with the stock code respective description"
   ]
  },
  {
   "cell_type": "code",
   "execution_count": null,
   "id": "ba49df15",
   "metadata": {},
   "outputs": [],
   "source": []
  },
  {
   "cell_type": "code",
   "execution_count": 48,
   "id": "440d5b90",
   "metadata": {},
   "outputs": [
    {
     "data": {
      "text/plain": [
       "InvoiceNo       0\n",
       "StockCode       0\n",
       "Description    16\n",
       "Quantity        0\n",
       "InvoiceDate     0\n",
       "UnitPrice       0\n",
       "CustomerID      0\n",
       "Country         0\n",
       "dtype: int64"
      ]
     },
     "execution_count": 48,
     "metadata": {},
     "output_type": "execute_result"
    }
   ],
   "source": [
    "df.isnull().sum()\n",
    "\n",
    "# there are some rows in description columns , which don't have respective groupby object.\n",
    "#so unable to fill this with with description column .  so that it is better to remove the 112 rows"
   ]
  },
  {
   "cell_type": "code",
   "execution_count": 49,
   "id": "f3fed92f",
   "metadata": {},
   "outputs": [],
   "source": [
    "df.dropna(inplace=True)\n",
    "\n",
    "# dropping the null values"
   ]
  },
  {
   "cell_type": "code",
   "execution_count": 50,
   "id": "48fcd2c8",
   "metadata": {},
   "outputs": [
    {
     "data": {
      "text/plain": [
       "InvoiceNo      0\n",
       "StockCode      0\n",
       "Description    0\n",
       "Quantity       0\n",
       "InvoiceDate    0\n",
       "UnitPrice      0\n",
       "CustomerID     0\n",
       "Country        0\n",
       "dtype: int64"
      ]
     },
     "execution_count": 50,
     "metadata": {},
     "output_type": "execute_result"
    }
   ],
   "source": [
    "df.isnull().sum()\n",
    "\n",
    "# now in this dataset there is no null value"
   ]
  },
  {
   "cell_type": "code",
   "execution_count": null,
   "id": "d28a9040",
   "metadata": {},
   "outputs": [],
   "source": []
  },
  {
   "cell_type": "code",
   "execution_count": 51,
   "id": "0a2701ab",
   "metadata": {},
   "outputs": [
    {
     "data": {
      "text/plain": [
       "0"
      ]
     },
     "execution_count": 51,
     "metadata": {},
     "output_type": "execute_result"
    }
   ],
   "source": [
    "df[(df['UnitPrice']==0) & (df['CustomerID']==15287)  & (df['Description'].isnull())].shape[0]\n",
    "\n",
    "# erlier the customerid= 15287  was very untidy customer id,  but after cleaning the data and filling the description\n",
    "# now it no more untidy customer id"
   ]
  },
  {
   "cell_type": "code",
   "execution_count": 52,
   "id": "8beee4b5",
   "metadata": {},
   "outputs": [
    {
     "data": {
      "text/plain": [
       "1118"
      ]
     },
     "execution_count": 52,
     "metadata": {},
     "output_type": "execute_result"
    }
   ],
   "source": [
    "df[(df['UnitPrice']==0) & (df['CustomerID']==15287) ].shape[0]"
   ]
  },
  {
   "cell_type": "markdown",
   "id": "150c5d7d",
   "metadata": {},
   "source": [
    "# work on InvoiceDate"
   ]
  },
  {
   "cell_type": "code",
   "execution_count": 53,
   "id": "9de1fa25",
   "metadata": {},
   "outputs": [],
   "source": [
    "df['InvoiceDate'] = pd.to_datetime(df['InvoiceDate'])\n",
    "\n",
    "\n",
    "# converting the invoiceDate column into the date time format,  to fetch some of the usefull information from here"
   ]
  },
  {
   "cell_type": "code",
   "execution_count": 54,
   "id": "246ae0b6",
   "metadata": {},
   "outputs": [
    {
     "data": {
      "text/plain": [
       "0   2010-12-01 08:26:00\n",
       "1   2010-12-01 08:26:00\n",
       "2   2010-12-01 08:26:00\n",
       "3   2010-12-01 08:26:00\n",
       "4   2010-12-01 08:26:00\n",
       "Name: InvoiceDate, dtype: datetime64[ns]"
      ]
     },
     "execution_count": 54,
     "metadata": {},
     "output_type": "execute_result"
    }
   ],
   "source": [
    "df['InvoiceDate'].head()"
   ]
  },
  {
   "cell_type": "code",
   "execution_count": null,
   "id": "d36f3843",
   "metadata": {},
   "outputs": [],
   "source": []
  },
  {
   "cell_type": "code",
   "execution_count": 55,
   "id": "b5ff7717",
   "metadata": {},
   "outputs": [
    {
     "data": {
      "text/html": [
       "<div>\n",
       "<style scoped>\n",
       "    .dataframe tbody tr th:only-of-type {\n",
       "        vertical-align: middle;\n",
       "    }\n",
       "\n",
       "    .dataframe tbody tr th {\n",
       "        vertical-align: top;\n",
       "    }\n",
       "\n",
       "    .dataframe thead th {\n",
       "        text-align: right;\n",
       "    }\n",
       "</style>\n",
       "<table border=\"1\" class=\"dataframe\">\n",
       "  <thead>\n",
       "    <tr style=\"text-align: right;\">\n",
       "      <th></th>\n",
       "      <th>InvoiceNo</th>\n",
       "      <th>StockCode</th>\n",
       "      <th>Description</th>\n",
       "      <th>Quantity</th>\n",
       "      <th>InvoiceDate</th>\n",
       "      <th>UnitPrice</th>\n",
       "      <th>CustomerID</th>\n",
       "      <th>Country</th>\n",
       "      <th>year</th>\n",
       "      <th>month</th>\n",
       "      <th>day</th>\n",
       "      <th>day_of_week</th>\n",
       "      <th>hour</th>\n",
       "      <th>week_name</th>\n",
       "    </tr>\n",
       "  </thead>\n",
       "  <tbody>\n",
       "    <tr>\n",
       "      <th>133504</th>\n",
       "      <td>547788</td>\n",
       "      <td>21638</td>\n",
       "      <td>ASSORTED TUTTI FRUTTI NOTEBOOK</td>\n",
       "      <td>1</td>\n",
       "      <td>2011-03-25 12:00:00</td>\n",
       "      <td>4.13</td>\n",
       "      <td>15287</td>\n",
       "      <td>United Kingdom</td>\n",
       "      <td>2011</td>\n",
       "      <td>3</td>\n",
       "      <td>25</td>\n",
       "      <td>4</td>\n",
       "      <td>12</td>\n",
       "      <td>Fri</td>\n",
       "    </tr>\n",
       "    <tr>\n",
       "      <th>190347</th>\n",
       "      <td>553189</td>\n",
       "      <td>22549</td>\n",
       "      <td>PICTURE DOMINOES</td>\n",
       "      <td>2</td>\n",
       "      <td>2011-05-15 13:14:00</td>\n",
       "      <td>1.45</td>\n",
       "      <td>15033</td>\n",
       "      <td>United Kingdom</td>\n",
       "      <td>2011</td>\n",
       "      <td>5</td>\n",
       "      <td>15</td>\n",
       "      <td>6</td>\n",
       "      <td>13</td>\n",
       "      <td>Sun</td>\n",
       "    </tr>\n",
       "    <tr>\n",
       "      <th>443225</th>\n",
       "      <td>574696</td>\n",
       "      <td>21824</td>\n",
       "      <td>PAINTED METAL STAR WITH HOLLY BELLS</td>\n",
       "      <td>6</td>\n",
       "      <td>2011-11-06 13:40:00</td>\n",
       "      <td>0.39</td>\n",
       "      <td>13634</td>\n",
       "      <td>United Kingdom</td>\n",
       "      <td>2011</td>\n",
       "      <td>11</td>\n",
       "      <td>6</td>\n",
       "      <td>6</td>\n",
       "      <td>13</td>\n",
       "      <td>Sun</td>\n",
       "    </tr>\n",
       "    <tr>\n",
       "      <th>43383</th>\n",
       "      <td>540033</td>\n",
       "      <td>21060</td>\n",
       "      <td>PARTY INVITES BALLOON GIRL</td>\n",
       "      <td>5</td>\n",
       "      <td>2011-01-04 14:12:00</td>\n",
       "      <td>0.85</td>\n",
       "      <td>13680</td>\n",
       "      <td>United Kingdom</td>\n",
       "      <td>2011</td>\n",
       "      <td>1</td>\n",
       "      <td>4</td>\n",
       "      <td>1</td>\n",
       "      <td>14</td>\n",
       "      <td>Tues</td>\n",
       "    </tr>\n",
       "  </tbody>\n",
       "</table>\n",
       "</div>"
      ],
      "text/plain": [
       "       InvoiceNo StockCode                          Description  Quantity  \\\n",
       "133504    547788     21638       ASSORTED TUTTI FRUTTI NOTEBOOK         1   \n",
       "190347    553189     22549                     PICTURE DOMINOES         2   \n",
       "443225    574696     21824  PAINTED METAL STAR WITH HOLLY BELLS         6   \n",
       "43383     540033     21060           PARTY INVITES BALLOON GIRL         5   \n",
       "\n",
       "               InvoiceDate  UnitPrice  CustomerID         Country  year  \\\n",
       "133504 2011-03-25 12:00:00       4.13       15287  United Kingdom  2011   \n",
       "190347 2011-05-15 13:14:00       1.45       15033  United Kingdom  2011   \n",
       "443225 2011-11-06 13:40:00       0.39       13634  United Kingdom  2011   \n",
       "43383  2011-01-04 14:12:00       0.85       13680  United Kingdom  2011   \n",
       "\n",
       "        month  day  day_of_week  hour week_name  \n",
       "133504      3   25            4    12       Fri  \n",
       "190347      5   15            6    13       Sun  \n",
       "443225     11    6            6    13       Sun  \n",
       "43383       1    4            1    14      Tues  "
      ]
     },
     "execution_count": 55,
     "metadata": {},
     "output_type": "execute_result"
    }
   ],
   "source": [
    "df['year']= df['InvoiceDate'].dt.year\n",
    "df['month']= df['InvoiceDate'].dt.month\n",
    "df['day']= df['InvoiceDate'].dt.day\n",
    "\n",
    "df['day_of_week'] = df['InvoiceDate'].dt.weekday\n",
    "df['hour']= df['InvoiceDate'].dt.hour\n",
    "days = {0:'Mon', 1:'Tues', 2:'Wed', 3:'Thurs', 4:'Fri', 5:'Sat', 6:'Sun'}\n",
    "df['week_name'] = df['day_of_week'].apply(lambda x: days[x])\n",
    "\n",
    "df.sample(4)\n",
    "\n",
    "\n"
   ]
  },
  {
   "cell_type": "code",
   "execution_count": 56,
   "id": "53d52b43",
   "metadata": {},
   "outputs": [],
   "source": [
    "# fetching the day, month, year, days of week , hour"
   ]
  },
  {
   "cell_type": "code",
   "execution_count": null,
   "id": "5234ea65",
   "metadata": {},
   "outputs": [],
   "source": []
  },
  {
   "cell_type": "code",
   "execution_count": null,
   "id": "92e2c870",
   "metadata": {},
   "outputs": [],
   "source": []
  },
  {
   "cell_type": "markdown",
   "id": "6cf1261b",
   "metadata": {},
   "source": [
    "# Total prize"
   ]
  },
  {
   "cell_type": "code",
   "execution_count": 57,
   "id": "6389dbf8",
   "metadata": {},
   "outputs": [],
   "source": [
    "df['toal_amount']=df['Quantity'] * df['UnitPrice']"
   ]
  },
  {
   "cell_type": "code",
   "execution_count": 58,
   "id": "b3cc4457",
   "metadata": {},
   "outputs": [],
   "source": [
    "# column transform --   total amount is important column fetching by multiplying the quantity and unit price"
   ]
  },
  {
   "cell_type": "code",
   "execution_count": 59,
   "id": "bce81ee4",
   "metadata": {},
   "outputs": [
    {
     "data": {
      "text/html": [
       "<div>\n",
       "<style scoped>\n",
       "    .dataframe tbody tr th:only-of-type {\n",
       "        vertical-align: middle;\n",
       "    }\n",
       "\n",
       "    .dataframe tbody tr th {\n",
       "        vertical-align: top;\n",
       "    }\n",
       "\n",
       "    .dataframe thead th {\n",
       "        text-align: right;\n",
       "    }\n",
       "</style>\n",
       "<table border=\"1\" class=\"dataframe\">\n",
       "  <thead>\n",
       "    <tr style=\"text-align: right;\">\n",
       "      <th></th>\n",
       "      <th>InvoiceNo</th>\n",
       "      <th>StockCode</th>\n",
       "      <th>Description</th>\n",
       "      <th>Quantity</th>\n",
       "      <th>InvoiceDate</th>\n",
       "      <th>UnitPrice</th>\n",
       "      <th>CustomerID</th>\n",
       "      <th>Country</th>\n",
       "      <th>year</th>\n",
       "      <th>month</th>\n",
       "      <th>day</th>\n",
       "      <th>day_of_week</th>\n",
       "      <th>hour</th>\n",
       "      <th>week_name</th>\n",
       "      <th>toal_amount</th>\n",
       "    </tr>\n",
       "  </thead>\n",
       "  <tbody>\n",
       "    <tr>\n",
       "      <th>0</th>\n",
       "      <td>536365</td>\n",
       "      <td>85123A</td>\n",
       "      <td>WHITE HANGING HEART T-LIGHT HOLDER</td>\n",
       "      <td>6</td>\n",
       "      <td>2010-12-01 08:26:00</td>\n",
       "      <td>2.55</td>\n",
       "      <td>17850</td>\n",
       "      <td>United Kingdom</td>\n",
       "      <td>2010</td>\n",
       "      <td>12</td>\n",
       "      <td>1</td>\n",
       "      <td>2</td>\n",
       "      <td>8</td>\n",
       "      <td>Wed</td>\n",
       "      <td>15.30</td>\n",
       "    </tr>\n",
       "    <tr>\n",
       "      <th>1</th>\n",
       "      <td>536365</td>\n",
       "      <td>71053</td>\n",
       "      <td>WHITE METAL LANTERN</td>\n",
       "      <td>6</td>\n",
       "      <td>2010-12-01 08:26:00</td>\n",
       "      <td>3.39</td>\n",
       "      <td>17850</td>\n",
       "      <td>United Kingdom</td>\n",
       "      <td>2010</td>\n",
       "      <td>12</td>\n",
       "      <td>1</td>\n",
       "      <td>2</td>\n",
       "      <td>8</td>\n",
       "      <td>Wed</td>\n",
       "      <td>20.34</td>\n",
       "    </tr>\n",
       "  </tbody>\n",
       "</table>\n",
       "</div>"
      ],
      "text/plain": [
       "  InvoiceNo StockCode                         Description  Quantity  \\\n",
       "0    536365    85123A  WHITE HANGING HEART T-LIGHT HOLDER         6   \n",
       "1    536365     71053                 WHITE METAL LANTERN         6   \n",
       "\n",
       "          InvoiceDate  UnitPrice  CustomerID         Country  year  month  \\\n",
       "0 2010-12-01 08:26:00       2.55       17850  United Kingdom  2010     12   \n",
       "1 2010-12-01 08:26:00       3.39       17850  United Kingdom  2010     12   \n",
       "\n",
       "   day  day_of_week  hour week_name  toal_amount  \n",
       "0    1            2     8       Wed        15.30  \n",
       "1    1            2     8       Wed        20.34  "
      ]
     },
     "execution_count": 59,
     "metadata": {},
     "output_type": "execute_result"
    }
   ],
   "source": [
    "df.head(2)"
   ]
  },
  {
   "cell_type": "code",
   "execution_count": null,
   "id": "5891ebd7",
   "metadata": {},
   "outputs": [],
   "source": []
  },
  {
   "cell_type": "markdown",
   "id": "ead2d420",
   "metadata": {},
   "source": [
    "# working on Description column"
   ]
  },
  {
   "cell_type": "markdown",
   "id": "cef8601c",
   "metadata": {},
   "source": [
    " - **Tokenization**: Break the text data into individual words or tokens. This can be done using various techniques, such as splitting on whitespace, using regular expressions, or using a library like NLTK.\n",
    "\n",
    " - **Normalization:** Convert the tokens to a standard format, such as converting all text to lowercase or removing punctuation marks.\n",
    "\n",
    " - **Stopword removal:** Remove common words that do not provide much meaning, such as \"the\", \"and\", and \"in\".\n",
    "\n",
    " - **Stemming or lemmatization:** Convert each token to its base form, such as converting \"running\" to \"run\". This can be done using various techniques, such as the Porter stemmer or WordNet lemmatizer.\n",
    "\n",
    " - **Vectorization:** Convert the text data into a numerical format that can be used in machine learning models. This can be done using techniques like bag-of-words or TF-IDF.\n",
    "***\n"
   ]
  },
  {
   "cell_type": "code",
   "execution_count": 60,
   "id": "6ce2d41f",
   "metadata": {},
   "outputs": [
    {
     "data": {
      "text/html": [
       "<div>\n",
       "<style scoped>\n",
       "    .dataframe tbody tr th:only-of-type {\n",
       "        vertical-align: middle;\n",
       "    }\n",
       "\n",
       "    .dataframe tbody tr th {\n",
       "        vertical-align: top;\n",
       "    }\n",
       "\n",
       "    .dataframe thead th {\n",
       "        text-align: right;\n",
       "    }\n",
       "</style>\n",
       "<table border=\"1\" class=\"dataframe\">\n",
       "  <thead>\n",
       "    <tr style=\"text-align: right;\">\n",
       "      <th></th>\n",
       "      <th>InvoiceNo</th>\n",
       "      <th>StockCode</th>\n",
       "      <th>Description</th>\n",
       "      <th>Quantity</th>\n",
       "      <th>InvoiceDate</th>\n",
       "      <th>UnitPrice</th>\n",
       "      <th>CustomerID</th>\n",
       "      <th>Country</th>\n",
       "      <th>year</th>\n",
       "      <th>month</th>\n",
       "      <th>day</th>\n",
       "      <th>day_of_week</th>\n",
       "      <th>hour</th>\n",
       "      <th>week_name</th>\n",
       "      <th>toal_amount</th>\n",
       "    </tr>\n",
       "  </thead>\n",
       "  <tbody>\n",
       "    <tr>\n",
       "      <th>0</th>\n",
       "      <td>536365</td>\n",
       "      <td>85123A</td>\n",
       "      <td>WHITE HANGING HEART T-LIGHT HOLDER</td>\n",
       "      <td>6</td>\n",
       "      <td>2010-12-01 08:26:00</td>\n",
       "      <td>2.55</td>\n",
       "      <td>17850</td>\n",
       "      <td>United Kingdom</td>\n",
       "      <td>2010</td>\n",
       "      <td>12</td>\n",
       "      <td>1</td>\n",
       "      <td>2</td>\n",
       "      <td>8</td>\n",
       "      <td>Wed</td>\n",
       "      <td>15.30</td>\n",
       "    </tr>\n",
       "    <tr>\n",
       "      <th>1</th>\n",
       "      <td>536365</td>\n",
       "      <td>71053</td>\n",
       "      <td>WHITE METAL LANTERN</td>\n",
       "      <td>6</td>\n",
       "      <td>2010-12-01 08:26:00</td>\n",
       "      <td>3.39</td>\n",
       "      <td>17850</td>\n",
       "      <td>United Kingdom</td>\n",
       "      <td>2010</td>\n",
       "      <td>12</td>\n",
       "      <td>1</td>\n",
       "      <td>2</td>\n",
       "      <td>8</td>\n",
       "      <td>Wed</td>\n",
       "      <td>20.34</td>\n",
       "    </tr>\n",
       "    <tr>\n",
       "      <th>2</th>\n",
       "      <td>536365</td>\n",
       "      <td>84406B</td>\n",
       "      <td>CREAM CUPID HEARTS COAT HANGER</td>\n",
       "      <td>8</td>\n",
       "      <td>2010-12-01 08:26:00</td>\n",
       "      <td>2.75</td>\n",
       "      <td>17850</td>\n",
       "      <td>United Kingdom</td>\n",
       "      <td>2010</td>\n",
       "      <td>12</td>\n",
       "      <td>1</td>\n",
       "      <td>2</td>\n",
       "      <td>8</td>\n",
       "      <td>Wed</td>\n",
       "      <td>22.00</td>\n",
       "    </tr>\n",
       "    <tr>\n",
       "      <th>3</th>\n",
       "      <td>536365</td>\n",
       "      <td>84029G</td>\n",
       "      <td>KNITTED UNION FLAG HOT WATER BOTTLE</td>\n",
       "      <td>6</td>\n",
       "      <td>2010-12-01 08:26:00</td>\n",
       "      <td>3.39</td>\n",
       "      <td>17850</td>\n",
       "      <td>United Kingdom</td>\n",
       "      <td>2010</td>\n",
       "      <td>12</td>\n",
       "      <td>1</td>\n",
       "      <td>2</td>\n",
       "      <td>8</td>\n",
       "      <td>Wed</td>\n",
       "      <td>20.34</td>\n",
       "    </tr>\n",
       "    <tr>\n",
       "      <th>4</th>\n",
       "      <td>536365</td>\n",
       "      <td>84029E</td>\n",
       "      <td>RED WOOLLY HOTTIE WHITE HEART.</td>\n",
       "      <td>6</td>\n",
       "      <td>2010-12-01 08:26:00</td>\n",
       "      <td>3.39</td>\n",
       "      <td>17850</td>\n",
       "      <td>United Kingdom</td>\n",
       "      <td>2010</td>\n",
       "      <td>12</td>\n",
       "      <td>1</td>\n",
       "      <td>2</td>\n",
       "      <td>8</td>\n",
       "      <td>Wed</td>\n",
       "      <td>20.34</td>\n",
       "    </tr>\n",
       "  </tbody>\n",
       "</table>\n",
       "</div>"
      ],
      "text/plain": [
       "  InvoiceNo StockCode                          Description  Quantity  \\\n",
       "0    536365    85123A   WHITE HANGING HEART T-LIGHT HOLDER         6   \n",
       "1    536365     71053                  WHITE METAL LANTERN         6   \n",
       "2    536365    84406B       CREAM CUPID HEARTS COAT HANGER         8   \n",
       "3    536365    84029G  KNITTED UNION FLAG HOT WATER BOTTLE         6   \n",
       "4    536365    84029E       RED WOOLLY HOTTIE WHITE HEART.         6   \n",
       "\n",
       "          InvoiceDate  UnitPrice  CustomerID         Country  year  month  \\\n",
       "0 2010-12-01 08:26:00       2.55       17850  United Kingdom  2010     12   \n",
       "1 2010-12-01 08:26:00       3.39       17850  United Kingdom  2010     12   \n",
       "2 2010-12-01 08:26:00       2.75       17850  United Kingdom  2010     12   \n",
       "3 2010-12-01 08:26:00       3.39       17850  United Kingdom  2010     12   \n",
       "4 2010-12-01 08:26:00       3.39       17850  United Kingdom  2010     12   \n",
       "\n",
       "   day  day_of_week  hour week_name  toal_amount  \n",
       "0    1            2     8       Wed        15.30  \n",
       "1    1            2     8       Wed        20.34  \n",
       "2    1            2     8       Wed        22.00  \n",
       "3    1            2     8       Wed        20.34  \n",
       "4    1            2     8       Wed        20.34  "
      ]
     },
     "execution_count": 60,
     "metadata": {},
     "output_type": "execute_result"
    }
   ],
   "source": [
    "df.head()"
   ]
  },
  {
   "cell_type": "code",
   "execution_count": null,
   "id": "4c869320",
   "metadata": {},
   "outputs": [],
   "source": []
  },
  {
   "cell_type": "code",
   "execution_count": 61,
   "id": "f6bfc2a0",
   "metadata": {},
   "outputs": [
    {
     "data": {
      "text/plain": [
       "WHITE HANGING HEART T-LIGHT HOLDER    2316\n",
       "JUMBO BAG RED RETROSPOT               2112\n",
       "REGENCY CAKESTAND 3 TIER              2009\n",
       "PARTY BUNTING                         1700\n",
       "LUNCH BAG RED RETROSPOT               1581\n",
       "                                      ... \n",
       "GREEN WITH METAL BAG CHARM               1\n",
       "WHITE WITH METAL BAG CHARM               1\n",
       "TRAVEL CARD WALLET DOTCOMGIFTSHOP        1\n",
       "BELL HEART ANTIQUE GOLD                  1\n",
       "PAPER CRAFT , LITTLE BIRDIE              1\n",
       "Name: Description, Length: 4076, dtype: int64"
      ]
     },
     "execution_count": 61,
     "metadata": {},
     "output_type": "execute_result"
    }
   ],
   "source": [
    "df['Description'].value_counts()"
   ]
  },
  {
   "cell_type": "code",
   "execution_count": 62,
   "id": "614d3621",
   "metadata": {},
   "outputs": [],
   "source": [
    "# lower case"
   ]
  },
  {
   "cell_type": "code",
   "execution_count": 63,
   "id": "5c20bc5e",
   "metadata": {},
   "outputs": [],
   "source": [
    "df['Description']=df['Description'].str.lower()\n",
    "\n",
    "# cahnging into lower case"
   ]
  },
  {
   "cell_type": "code",
   "execution_count": 64,
   "id": "675728a1",
   "metadata": {},
   "outputs": [],
   "source": [
    "# removing punctuation"
   ]
  },
  {
   "cell_type": "code",
   "execution_count": 65,
   "id": "96b98ffd",
   "metadata": {},
   "outputs": [
    {
     "data": {
      "text/plain": [
       "'!\"#$%&\\'()*+,-./:;<=>?@[\\\\]^_`{|}~'"
      ]
     },
     "execution_count": 65,
     "metadata": {},
     "output_type": "execute_result"
    }
   ],
   "source": [
    "import string,time\n",
    "string.punctuation"
   ]
  },
  {
   "cell_type": "code",
   "execution_count": 66,
   "id": "c238352e",
   "metadata": {},
   "outputs": [],
   "source": [
    "exclude = string.punctuation"
   ]
  },
  {
   "cell_type": "code",
   "execution_count": 67,
   "id": "4796bc20",
   "metadata": {},
   "outputs": [],
   "source": [
    "def remove_punc1(text):\n",
    "    return text.translate(str.maketrans('', '', exclude))\n",
    "\n"
   ]
  },
  {
   "cell_type": "code",
   "execution_count": 68,
   "id": "492a489d",
   "metadata": {},
   "outputs": [],
   "source": [
    "df['Description']=df['Description'].apply(remove_punc1)\n",
    "\n",
    "# removinng punctuation mark"
   ]
  },
  {
   "cell_type": "code",
   "execution_count": 69,
   "id": "db69b152",
   "metadata": {},
   "outputs": [
    {
     "data": {
      "text/plain": [
       "307356         set of 4 knick knack tins leaf\n",
       "12794           traditional christmas ribbons\n",
       "109295    set 3 song bird paper eggs assorted\n",
       "386390      jumbo shopper vintage red paisley\n",
       "183079                 regency tea plate pink\n",
       "63382              pack of 12 london tissues \n",
       "59602       white hanging heart tlight holder\n",
       "348310          sweetheart 3 tier cake stand \n",
       "47318        food container set 3 love heart \n",
       "20426               pink love heart shape cup\n",
       "170266              pink love heart shape cup\n",
       "443947            ribbon reel making snowmen \n",
       "436222         skull and crossbones  garland \n",
       "99389                  wooden box of dominoes\n",
       "327232        beaded crystal heart pink large\n",
       "302082         biscuits small bowl light blue\n",
       "108871            box of 24 cocktail parasols\n",
       "416972      set of 12 fairy cake baking cases\n",
       "68821             hand warmer babushka design\n",
       "482121           set6 pink  butterfly tlights\n",
       "322893           set6 red spotty paper plates\n",
       "382141                pharmacie first aid tin\n",
       "212488                 lunch bag suki design \n",
       "226891           vintage red enamel trim mug \n",
       "437182                         dotcom postage\n",
       "163259            pack of 72 skull cake cases\n",
       "280497                 enamel bread bin cream\n",
       "103677                 toy tidy pink polkadot\n",
       "225988                     kids rain mac pink\n",
       "198219         charlotte bag alphabet  design\n",
       "138782       childrens cutlery retrospot red \n",
       "218755      classic french style basket brown\n",
       "380128           treasure tin gymkhana design\n",
       "42700          party pizza dish red retrospot\n",
       "461449                 jam jar with green lid\n",
       "20877          vintage caravan greeting card \n",
       "478624      set10 pink polkadot party candles\n",
       "233667      jumbo shopper vintage red paisley\n",
       "473021      magnets pack of 4 vintage collage\n",
       "17106             box of 24 cocktail parasols\n",
       "Name: Description, dtype: object"
      ]
     },
     "execution_count": 69,
     "metadata": {},
     "output_type": "execute_result"
    }
   ],
   "source": [
    "df['Description'].sample(40)"
   ]
  },
  {
   "cell_type": "code",
   "execution_count": null,
   "id": "b679be00",
   "metadata": {},
   "outputs": [],
   "source": []
  },
  {
   "cell_type": "markdown",
   "id": "6f1faad1",
   "metadata": {},
   "source": [
    "# Plot analysis based on heading like -\n",
    "\n",
    " - Total sales analysis\n",
    " - Customer segmentation analysis\n",
    " - Product analysis \n",
    " - Market basket analysis\n",
    " - Geospatial analysis:\n"
   ]
  },
  {
   "cell_type": "markdown",
   "id": "32e305b0",
   "metadata": {},
   "source": [
    " - **Total sales analysis:** Calculate the total sales amount for each transaction and analyze the sales trends over time (by day, week, or month). Identify which products are the top sellers and which customers make the most purchases.\n",
    "\n",
    " - **Customer segmentation analysis:** Segment the customers based on their purchasing behavior and demographic data (if available). Identify the high-value customers and understand their preferences, purchase history, and buying habits.\n",
    "\n",
    " - ****Product analysis:** Analyze the product data to identify which products are selling the most and which products have the highest profit margins. Understand the relationship between product price, quantity sold, and profit margins.\n",
    "\n",
    " - **Market basket analysis:** Identify which products are frequently purchased together by analyzing the transaction data. Use this information to develop targeted marketing strategies and product recommendations.\n",
    "\n",
    " - **Geospatial analysis:** Analyze the customer data by location to understand which regions have the highest sales volume and which areas are underserved. Use this information to develop targeted marketing campaigns and expand the customer base.\n",
    "***\n",
    "\n"
   ]
  },
  {
   "cell_type": "code",
   "execution_count": null,
   "id": "3ad311ab",
   "metadata": {},
   "outputs": [],
   "source": []
  },
  {
   "cell_type": "code",
   "execution_count": 70,
   "id": "934da07f",
   "metadata": {},
   "outputs": [
    {
     "data": {
      "text/plain": [
       "<AxesSubplot:xlabel='week_name', ylabel='count'>"
      ]
     },
     "execution_count": 70,
     "metadata": {},
     "output_type": "execute_result"
    },
    {
     "data": {
      "image/png": "[encoded data removed]",
      "text/plain": [
       "<Figure size 864x576 with 1 Axes>"
      ]
     },
     "metadata": {
      "needs_background": "light"
     },
     "output_type": "display_data"
    }
   ],
   "source": [
    "plt.figure(figsize=(12,8))\n",
    "sns.countplot(data=df,x='week_name',palette = \"Spectral\")"
   ]
  },
  {
   "cell_type": "code",
   "execution_count": 71,
   "id": "4fcaf079",
   "metadata": {},
   "outputs": [],
   "source": [
    "# saturday is not in the data"
   ]
  },
  {
   "cell_type": "code",
   "execution_count": 72,
   "id": "5006fc2a",
   "metadata": {},
   "outputs": [],
   "source": [
    "check=df.groupby('week_name')['toal_amount'].sum().to_dict()"
   ]
  },
  {
   "cell_type": "code",
   "execution_count": 73,
   "id": "d4b8ce1e",
   "metadata": {},
   "outputs": [
    {
     "data": {
      "text/plain": [
       "dict_keys(['Fri', 'Mon', 'Sun', 'Thurs', 'Tues', 'Wed'])"
      ]
     },
     "execution_count": 73,
     "metadata": {},
     "output_type": "execute_result"
    }
   ],
   "source": [
    "check.keys()"
   ]
  },
  {
   "cell_type": "code",
   "execution_count": 74,
   "id": "a7f83911",
   "metadata": {},
   "outputs": [
    {
     "data": {
      "text/plain": [
       "dict_values([1837470.491, 1775782.071, 806790.781, 2199292.57, 2175700.511, 1847074.38])"
      ]
     },
     "execution_count": 74,
     "metadata": {},
     "output_type": "execute_result"
    }
   ],
   "source": [
    "check.values()"
   ]
  },
  {
   "cell_type": "code",
   "execution_count": 75,
   "id": "6737e7ce",
   "metadata": {},
   "outputs": [
    {
     "data": {
      "image/png": "[encoded data removed]",
      "text/plain": [
       "<Figure size 864x576 with 1 Axes>"
      ]
     },
     "metadata": {
      "needs_background": "light"
     },
     "output_type": "display_data"
    }
   ],
   "source": [
    "df_year = df.groupby(by=['year']).sum()['toal_amount'].plot(kind='barh',figsize=(12,8),color='purple')\n",
    "plt.title('Total Sales in 2 years')\n",
    "plt.xlabel('Number of sales')\n",
    "plt.ylabel('Year')\n",
    "plt.show()"
   ]
  },
  {
   "cell_type": "code",
   "execution_count": 76,
   "id": "55a463a9",
   "metadata": {},
   "outputs": [],
   "source": [
    "# 2011 sales is much more higher then 2010 sales,  it is bcz, in 2010 there is data of only dec month"
   ]
  },
  {
   "cell_type": "code",
   "execution_count": 77,
   "id": "f8fad9ec",
   "metadata": {},
   "outputs": [
    {
     "data": {
      "image/png": "[encoded data removed]",
      "text/plain": [
       "<Figure size 864x576 with 1 Axes>"
      ]
     },
     "metadata": {
      "needs_background": "light"
     },
     "output_type": "display_data"
    }
   ],
   "source": [
    "df_year = df.groupby(by=['week_name']).sum()['toal_amount'].sort_values().plot(kind='bar',figsize=(12,8),color='purple')\n",
    "plt.title('Sales on week days')\n",
    "plt.xlabel('Number of sales')\n",
    "plt.ylabel('Year')\n",
    "#plt.yscale('log')\n",
    "plt.show()\n"
   ]
  },
  {
   "cell_type": "code",
   "execution_count": 78,
   "id": "bd50f2ad",
   "metadata": {},
   "outputs": [],
   "source": [
    "# minmum spending on sun - \n",
    "# maximum spending in tuesday and thrusday"
   ]
  },
  {
   "cell_type": "code",
   "execution_count": null,
   "id": "dda3ae4d",
   "metadata": {},
   "outputs": [],
   "source": []
  },
  {
   "cell_type": "code",
   "execution_count": null,
   "id": "5ca5daec",
   "metadata": {},
   "outputs": [],
   "source": []
  },
  {
   "cell_type": "code",
   "execution_count": 79,
   "id": "5c787e58",
   "metadata": {},
   "outputs": [
    {
     "data": {
      "image/png": "[encoded data removed]",
      "text/plain": [
       "<Figure size 864x576 with 1 Axes>"
      ]
     },
     "metadata": {
      "needs_background": "light"
     },
     "output_type": "display_data"
    }
   ],
   "source": [
    "# Compute total sales by month\n",
    "sales_by_month = df.groupby('month')['toal_amount'].sum()\n",
    "plt.figure(figsize=(12,8))\n",
    "# Plot the sales by month\n",
    "sales_by_month.plot(kind='line',color='purple')\n",
    "plt.title('Total Sales by Month')\n",
    "plt.xlabel('Month')\n",
    "plt.ylabel('Total Sales')\n",
    "plt.xticks(range(1,13))\n",
    "plt.show()"
   ]
  },
  {
   "cell_type": "code",
   "execution_count": 80,
   "id": "1ed99630",
   "metadata": {},
   "outputs": [],
   "source": [
    "#  month on month progess is noticed in the data\n",
    "# customer is purchasing more from april month to nov month  the slightlyfall on in the dec month"
   ]
  },
  {
   "cell_type": "code",
   "execution_count": null,
   "id": "aa65e507",
   "metadata": {},
   "outputs": [],
   "source": []
  },
  {
   "cell_type": "code",
   "execution_count": 81,
   "id": "897adedb",
   "metadata": {},
   "outputs": [
    {
     "data": {
      "image/png": "[encoded data removed]",
      "text/plain": [
       "<Figure size 864x576 with 1 Axes>"
      ]
     },
     "metadata": {
      "needs_background": "light"
     },
     "output_type": "display_data"
    }
   ],
   "source": [
    "df_week = df.groupby(by=['week_name']).sum()['toal_amount'].sort_values(ascending=True).plot(kind='line',figsize=(12,8),color='purple')\n",
    "plt.title('Total Sales for each week')\n",
    "plt.ylabel('Total of sales')\n",
    "plt.xlabel('week')\n",
    "plt.xticks(rotation=50)\n",
    "plt.show()"
   ]
  },
  {
   "cell_type": "code",
   "execution_count": 82,
   "id": "207446f8",
   "metadata": {},
   "outputs": [],
   "source": [
    "# on tuesday and thrusday is people are more like to buy product in comparision to sunday\n",
    "# most probably it is due to the geographical reason"
   ]
  },
  {
   "cell_type": "code",
   "execution_count": 83,
   "id": "e76aa18d",
   "metadata": {},
   "outputs": [
    {
     "data": {
      "text/plain": [
       "Country\n",
       "United Kingdom          9001744.094\n",
       "Netherlands              285446.340\n",
       "EIRE                     283140.520\n",
       "Germany                  228678.400\n",
       "France                   209625.370\n",
       "Australia                138453.810\n",
       "Spain                     61558.560\n",
       "Switzerland               57067.600\n",
       "Belgium                   41196.340\n",
       "Sweden                    38367.830\n",
       "Japan                     37416.370\n",
       "Norway                    36165.440\n",
       "Portugal                  33683.050\n",
       "Finland                   22546.080\n",
       "Singapore                 21279.290\n",
       "Channel Islands           20440.540\n",
       "Denmark                   18955.340\n",
       "Italy                     17483.240\n",
       "Hong Kong                 15483.000\n",
       "Cyprus                    13502.850\n",
       "Austria                   10198.680\n",
       "Israel                     8129.410\n",
       "Poland                     7334.650\n",
       "Greece                     4760.520\n",
       "Unspecified                4740.940\n",
       "Iceland                    4310.000\n",
       "Canada                     3666.380\n",
       "USA                        3580.390\n",
       "Malta                      2725.590\n",
       "United Arab Emirates       1902.280\n",
       "Lebanon                    1693.880\n",
       "Lithuania                  1661.060\n",
       "European Community         1300.250\n",
       "Brazil                     1143.600\n",
       "RSA                        1002.310\n",
       "Czech Republic              826.740\n",
       "Bahrain                     754.140\n",
       "Saudi Arabia                145.920\n",
       "Name: toal_amount, dtype: float64"
      ]
     },
     "execution_count": 83,
     "metadata": {},
     "output_type": "execute_result"
    }
   ],
   "source": [
    "df.groupby(by=['Country']).sum()['toal_amount'].sort_values(ascending=False)"
   ]
  },
  {
   "cell_type": "code",
   "execution_count": 84,
   "id": "657eadd4",
   "metadata": {},
   "outputs": [],
   "source": [
    "# the data is mostly focused on UK , so that the most no. of spending is showing for UK"
   ]
  },
  {
   "cell_type": "code",
   "execution_count": null,
   "id": "86ed9e90",
   "metadata": {},
   "outputs": [],
   "source": []
  },
  {
   "cell_type": "code",
   "execution_count": 85,
   "id": "14163ca1",
   "metadata": {},
   "outputs": [
    {
     "data": {
      "image/png": "[encoded data removed]",
      "text/plain": [
       "<Figure size 864x576 with 1 Axes>"
      ]
     },
     "metadata": {
      "needs_background": "light"
     },
     "output_type": "display_data"
    }
   ],
   "source": [
    "\n",
    "df_country = df.groupby(by=['Country']).sum()['toal_amount'].sort_values(ascending=True)\n",
    "\n",
    "plt.figure(figsize=(12,8))\n",
    "plt.plot(df_country.index, df_country.values,color='purple')\n",
    "plt.title('Total Sales by Country')\n",
    "plt.xlabel('Country')\n",
    "plt.ylabel('Total Sales')\n",
    "plt.xticks(rotation=90)\n",
    "plt.yscale('log')\n",
    "plt.show()"
   ]
  },
  {
   "cell_type": "code",
   "execution_count": 86,
   "id": "cc304283",
   "metadata": {},
   "outputs": [
    {
     "data": {
      "image/png": "[encoded data removed]",
      "text/plain": [
       "<Figure size 1080x504 with 1 Axes>"
      ]
     },
     "metadata": {
      "needs_background": "light"
     },
     "output_type": "display_data"
    }
   ],
   "source": [
    "plt.figure(figsize=(15, 7))\n",
    "\n",
    "df.groupby([\"Country\"])['UnitPrice'].sum().sort_values(ascending = True).plot(kind='bar', title='Amount Sales by Country',color='purple')\n",
    "plt.yscale('log')"
   ]
  },
  {
   "cell_type": "markdown",
   "id": "a57b7789",
   "metadata": {},
   "source": [
    "\n",
    " "
   ]
  },
  {
   "cell_type": "code",
   "execution_count": null,
   "id": "ed47c76e",
   "metadata": {},
   "outputs": [],
   "source": []
  },
  {
   "cell_type": "code",
   "execution_count": null,
   "id": "0873a8fd",
   "metadata": {},
   "outputs": [],
   "source": []
  },
  {
   "cell_type": "code",
   "execution_count": 87,
   "id": "61274804",
   "metadata": {},
   "outputs": [],
   "source": [
    "df['c_uk'] = df['Country'].apply(lambda x: 'UK' if x=='United Kingdom' else 'Other_country' )"
   ]
  },
  {
   "cell_type": "code",
   "execution_count": 88,
   "id": "f8232db2",
   "metadata": {},
   "outputs": [
    {
     "data": {
      "image/png": "[encoded data removed]",
      "text/plain": [
       "<Figure size 432x288 with 1 Axes>"
      ]
     },
     "metadata": {
      "needs_background": "light"
     },
     "output_type": "display_data"
    }
   ],
   "source": [
    "# Create countplot on the 'isFraud' column\n",
    "ax = sns.countplot(x='c_uk', data=df,palette=\"winter_r\",alpha=.6)\n",
    "\n",
    "# Set plot title and axis labels\n",
    "plt.title('% of UK v/s other country in country column')\n",
    "plt.xlabel('country')\n",
    "plt.ylabel('Count')\n",
    "\n",
    "# Add percentage values to the bars\n",
    "total = float(len(df))\n",
    "for p in ax.patches:\n",
    "    height = p.get_height()\n",
    "    ax.annotate(f'{(height / total) * 100:.2f}%', (p.get_x() + 0.3, height + 1000))\n",
    "\n",
    "# Show the plot\n",
    "plt.show()"
   ]
  },
  {
   "cell_type": "markdown",
   "id": "c88476cd",
   "metadata": {},
   "source": [
    "### most of the data is related to UK country"
   ]
  },
  {
   "cell_type": "code",
   "execution_count": 89,
   "id": "01c66463",
   "metadata": {},
   "outputs": [],
   "source": [
    "df.drop('c_uk',inplace=True,axis=1)"
   ]
  },
  {
   "cell_type": "code",
   "execution_count": 90,
   "id": "9390dd44",
   "metadata": {},
   "outputs": [],
   "source": [
    "# most valuable customer"
   ]
  },
  {
   "cell_type": "code",
   "execution_count": null,
   "id": "67beb230",
   "metadata": {},
   "outputs": [],
   "source": []
  },
  {
   "cell_type": "code",
   "execution_count": 91,
   "id": "e4b2d40c",
   "metadata": {},
   "outputs": [
    {
     "data": {
      "image/png": "[encoded data removed]",
      "text/plain": [
       "<Figure size 1080x576 with 1 Axes>"
      ]
     },
     "metadata": {
      "needs_background": "light"
     },
     "output_type": "display_data"
    }
   ],
   "source": [
    "plt.figure(figsize=(15,8))\n",
    "\n",
    "most_valuable_50_cust=df.groupby('CustomerID')['toal_amount'].sum().sort_values(ascending=False).iloc[:50]\n",
    "most_valuable_50_cust.plot(kind='bar',color='purple')\n",
    "plt.title('most valuable customer')\n",
    "plt.xlabel('customer id')\n",
    "plt.ylabel('Total amount invested')\n",
    "plt.yscale('log')\n",
    "plt.show()"
   ]
  },
  {
   "cell_type": "code",
   "execution_count": 92,
   "id": "e932bf0a",
   "metadata": {},
   "outputs": [],
   "source": [
    "# customer id - 15287  -  is the most frequent buyer as well as he spend most no. of money"
   ]
  },
  {
   "cell_type": "code",
   "execution_count": 93,
   "id": "25f590ac",
   "metadata": {},
   "outputs": [
    {
     "data": {
      "text/plain": [
       "Description\n",
       "paper craft  little birdie            168469.60\n",
       "picnic basket wicker 60 pieces         19809.75\n",
       "adjust bad debt                        11062.06\n",
       "tea time tea towels                     3022.50\n",
       "miseltoe heart wreath cream              996.00\n",
       "                                        ...    \n",
       "white christmas flock droplet               NaN\n",
       "white dove honeycomb paper garland          NaN\n",
       "wrap  pink flock                            NaN\n",
       "wrap blue russian folkart                   NaN\n",
       "wrap green russian folkart                  NaN\n",
       "Name: 2011, Length: 4059, dtype: float64"
      ]
     },
     "execution_count": 93,
     "metadata": {},
     "output_type": "execute_result"
    }
   ],
   "source": [
    "df_sales_item_2011 = df.groupby(['Description','year']).mean()\n",
    "df_sales_item_2011 = df_sales_item_2011.unstack('year')['toal_amount']\n",
    "df_sales_item_2011 = df_sales_item_2011.sort_values(by=2011,ascending=False)[2011]\n",
    "df_sales_item_2011"
   ]
  },
  {
   "cell_type": "code",
   "execution_count": 94,
   "id": "e0610259",
   "metadata": {},
   "outputs": [],
   "source": [
    "# paper craft little birdie -  this is the most selling product in 2011"
   ]
  },
  {
   "cell_type": "code",
   "execution_count": null,
   "id": "d007871c",
   "metadata": {},
   "outputs": [],
   "source": []
  },
  {
   "cell_type": "code",
   "execution_count": 95,
   "id": "09b13b4a",
   "metadata": {},
   "outputs": [
    {
     "data": {
      "image/png": "[encoded data removed]",
      "text/plain": [
       "<Figure size 864x576 with 2 Axes>"
      ]
     },
     "metadata": {
      "needs_background": "light"
     },
     "output_type": "display_data"
    }
   ],
   "source": [
    "plt.subplot(2,1,1)\n",
    "# creating the bar plot\n",
    "des_2010_sale = df.groupby(['Description','year']).mean()\n",
    "des_2010_sale = des_2010_sale.unstack('year')['toal_amount']\n",
    "des_2010_sale = des_2010_sale.sort_values(2010,ascending=False)[2010].head(10).plot(kind='barh',figsize=(12,8))\n",
    "plt.title(\"Top item sales in 2010\")\n",
    "\n",
    "\n",
    "plt.subplot(2,1,2)\n",
    "des_2011_sale = df.groupby(['Description','year']).mean()\n",
    "des_2011_sale = des_2011_sale.unstack('year')['toal_amount']\n",
    "des_2011_sale = des_2011_sale.sort_values(2011,ascending=False)[2011].head(10).plot(kind='barh',figsize=(12,8))\n",
    "\n",
    "plt.title(\"Top item sales in 2011\")\n",
    "\n",
    "\n",
    "plt.subplots_adjust(hspace = 0.6, top = 0.85)\n",
    "plt.show()"
   ]
  },
  {
   "cell_type": "code",
   "execution_count": 96,
   "id": "f602e499",
   "metadata": {},
   "outputs": [],
   "source": [
    "#  paper craft little birdies is the best selling product in 2011\n",
    "\n",
    "# amazon fee is most paying item in 2010"
   ]
  },
  {
   "cell_type": "code",
   "execution_count": 97,
   "id": "5cbec56a",
   "metadata": {},
   "outputs": [
    {
     "data": {
      "text/html": [
       "<div>\n",
       "<style scoped>\n",
       "    .dataframe tbody tr th:only-of-type {\n",
       "        vertical-align: middle;\n",
       "    }\n",
       "\n",
       "    .dataframe tbody tr th {\n",
       "        vertical-align: top;\n",
       "    }\n",
       "\n",
       "    .dataframe thead tr th {\n",
       "        text-align: left;\n",
       "    }\n",
       "\n",
       "    .dataframe thead tr:last-of-type th {\n",
       "        text-align: right;\n",
       "    }\n",
       "</style>\n",
       "<table border=\"1\" class=\"dataframe\">\n",
       "  <thead>\n",
       "    <tr>\n",
       "      <th></th>\n",
       "      <th colspan=\"2\" halign=\"left\">Quantity</th>\n",
       "      <th colspan=\"2\" halign=\"left\">UnitPrice</th>\n",
       "      <th colspan=\"2\" halign=\"left\">CustomerID</th>\n",
       "      <th colspan=\"2\" halign=\"left\">day</th>\n",
       "      <th colspan=\"2\" halign=\"left\">day_of_week</th>\n",
       "      <th colspan=\"2\" halign=\"left\">hour</th>\n",
       "      <th colspan=\"2\" halign=\"left\">toal_amount</th>\n",
       "    </tr>\n",
       "    <tr>\n",
       "      <th>year</th>\n",
       "      <th>2010</th>\n",
       "      <th>2011</th>\n",
       "      <th>2010</th>\n",
       "      <th>2011</th>\n",
       "      <th>2010</th>\n",
       "      <th>2011</th>\n",
       "      <th>2010</th>\n",
       "      <th>2011</th>\n",
       "      <th>2010</th>\n",
       "      <th>2011</th>\n",
       "      <th>2010</th>\n",
       "      <th>2011</th>\n",
       "      <th>2010</th>\n",
       "      <th>2011</th>\n",
       "    </tr>\n",
       "    <tr>\n",
       "      <th>month</th>\n",
       "      <th></th>\n",
       "      <th></th>\n",
       "      <th></th>\n",
       "      <th></th>\n",
       "      <th></th>\n",
       "      <th></th>\n",
       "      <th></th>\n",
       "      <th></th>\n",
       "      <th></th>\n",
       "      <th></th>\n",
       "      <th></th>\n",
       "      <th></th>\n",
       "      <th></th>\n",
       "      <th></th>\n",
       "    </tr>\n",
       "  </thead>\n",
       "  <tbody>\n",
       "    <tr>\n",
       "      <th>1</th>\n",
       "      <td>NaN</td>\n",
       "      <td>397030.0</td>\n",
       "      <td>NaN</td>\n",
       "      <td>128987.150</td>\n",
       "      <td>NaN</td>\n",
       "      <td>5.185670e+08</td>\n",
       "      <td>NaN</td>\n",
       "      <td>565601.0</td>\n",
       "      <td>NaN</td>\n",
       "      <td>78198.0</td>\n",
       "      <td>NaN</td>\n",
       "      <td>447647.0</td>\n",
       "      <td>NaN</td>\n",
       "      <td>689811.610</td>\n",
       "    </tr>\n",
       "    <tr>\n",
       "      <th>2</th>\n",
       "      <td>NaN</td>\n",
       "      <td>284787.0</td>\n",
       "      <td>NaN</td>\n",
       "      <td>107600.480</td>\n",
       "      <td>NaN</td>\n",
       "      <td>4.126222e+08</td>\n",
       "      <td>NaN</td>\n",
       "      <td>400690.0</td>\n",
       "      <td>NaN</td>\n",
       "      <td>59832.0</td>\n",
       "      <td>NaN</td>\n",
       "      <td>342059.0</td>\n",
       "      <td>NaN</td>\n",
       "      <td>522545.560</td>\n",
       "    </tr>\n",
       "    <tr>\n",
       "      <th>3</th>\n",
       "      <td>NaN</td>\n",
       "      <td>384023.0</td>\n",
       "      <td>NaN</td>\n",
       "      <td>144929.080</td>\n",
       "      <td>NaN</td>\n",
       "      <td>5.414477e+08</td>\n",
       "      <td>NaN</td>\n",
       "      <td>604961.0</td>\n",
       "      <td>NaN</td>\n",
       "      <td>82229.0</td>\n",
       "      <td>NaN</td>\n",
       "      <td>461957.0</td>\n",
       "      <td>NaN</td>\n",
       "      <td>716215.260</td>\n",
       "    </tr>\n",
       "    <tr>\n",
       "      <th>4</th>\n",
       "      <td>NaN</td>\n",
       "      <td>311314.0</td>\n",
       "      <td>NaN</td>\n",
       "      <td>115129.081</td>\n",
       "      <td>NaN</td>\n",
       "      <td>4.423952e+08</td>\n",
       "      <td>NaN</td>\n",
       "      <td>417286.0</td>\n",
       "      <td>NaN</td>\n",
       "      <td>64445.0</td>\n",
       "      <td>NaN</td>\n",
       "      <td>371831.0</td>\n",
       "      <td>NaN</td>\n",
       "      <td>536968.491</td>\n",
       "    </tr>\n",
       "    <tr>\n",
       "      <th>5</th>\n",
       "      <td>NaN</td>\n",
       "      <td>398686.0</td>\n",
       "      <td>NaN</td>\n",
       "      <td>149789.680</td>\n",
       "      <td>NaN</td>\n",
       "      <td>5.491160e+08</td>\n",
       "      <td>NaN</td>\n",
       "      <td>547308.0</td>\n",
       "      <td>NaN</td>\n",
       "      <td>90836.0</td>\n",
       "      <td>NaN</td>\n",
       "      <td>471445.0</td>\n",
       "      <td>NaN</td>\n",
       "      <td>769296.610</td>\n",
       "    </tr>\n",
       "    <tr>\n",
       "      <th>6</th>\n",
       "      <td>NaN</td>\n",
       "      <td>393633.0</td>\n",
       "      <td>NaN</td>\n",
       "      <td>139565.420</td>\n",
       "      <td>NaN</td>\n",
       "      <td>5.480680e+08</td>\n",
       "      <td>NaN</td>\n",
       "      <td>541285.0</td>\n",
       "      <td>NaN</td>\n",
       "      <td>87764.0</td>\n",
       "      <td>NaN</td>\n",
       "      <td>474313.0</td>\n",
       "      <td>NaN</td>\n",
       "      <td>760547.010</td>\n",
       "    </tr>\n",
       "    <tr>\n",
       "      <th>7</th>\n",
       "      <td>NaN</td>\n",
       "      <td>405473.0</td>\n",
       "      <td>NaN</td>\n",
       "      <td>142528.261</td>\n",
       "      <td>NaN</td>\n",
       "      <td>5.884846e+08</td>\n",
       "      <td>NaN</td>\n",
       "      <td>604651.0</td>\n",
       "      <td>NaN</td>\n",
       "      <td>93283.0</td>\n",
       "      <td>NaN</td>\n",
       "      <td>511175.0</td>\n",
       "      <td>NaN</td>\n",
       "      <td>718076.121</td>\n",
       "    </tr>\n",
       "    <tr>\n",
       "      <th>8</th>\n",
       "      <td>NaN</td>\n",
       "      <td>424264.0</td>\n",
       "      <td>NaN</td>\n",
       "      <td>137903.100</td>\n",
       "      <td>NaN</td>\n",
       "      <td>5.241051e+08</td>\n",
       "      <td>NaN</td>\n",
       "      <td>549955.0</td>\n",
       "      <td>NaN</td>\n",
       "      <td>78992.0</td>\n",
       "      <td>NaN</td>\n",
       "      <td>440321.0</td>\n",
       "      <td>NaN</td>\n",
       "      <td>757841.380</td>\n",
       "    </tr>\n",
       "    <tr>\n",
       "      <th>9</th>\n",
       "      <td>NaN</td>\n",
       "      <td>574165.0</td>\n",
       "      <td>NaN</td>\n",
       "      <td>173874.922</td>\n",
       "      <td>NaN</td>\n",
       "      <td>7.472358e+08</td>\n",
       "      <td>NaN</td>\n",
       "      <td>820989.0</td>\n",
       "      <td>NaN</td>\n",
       "      <td>134407.0</td>\n",
       "      <td>NaN</td>\n",
       "      <td>635632.0</td>\n",
       "      <td>NaN</td>\n",
       "      <td>1056435.192</td>\n",
       "    </tr>\n",
       "    <tr>\n",
       "      <th>10</th>\n",
       "      <td>NaN</td>\n",
       "      <td>626373.0</td>\n",
       "      <td>NaN</td>\n",
       "      <td>221646.600</td>\n",
       "      <td>NaN</td>\n",
       "      <td>8.943148e+08</td>\n",
       "      <td>NaN</td>\n",
       "      <td>965606.0</td>\n",
       "      <td>NaN</td>\n",
       "      <td>135436.0</td>\n",
       "      <td>NaN</td>\n",
       "      <td>771585.0</td>\n",
       "      <td>NaN</td>\n",
       "      <td>1151263.730</td>\n",
       "    </tr>\n",
       "    <tr>\n",
       "      <th>11</th>\n",
       "      <td>NaN</td>\n",
       "      <td>768466.0</td>\n",
       "      <td>NaN</td>\n",
       "      <td>297325.200</td>\n",
       "      <td>NaN</td>\n",
       "      <td>1.259606e+09</td>\n",
       "      <td>NaN</td>\n",
       "      <td>1335621.0</td>\n",
       "      <td>NaN</td>\n",
       "      <td>209769.0</td>\n",
       "      <td>NaN</td>\n",
       "      <td>1082162.0</td>\n",
       "      <td>NaN</td>\n",
       "      <td>1503866.780</td>\n",
       "    </tr>\n",
       "    <tr>\n",
       "      <th>12</th>\n",
       "      <td>360999.0</td>\n",
       "      <td>314416.0</td>\n",
       "      <td>198647.06</td>\n",
       "      <td>100946.010</td>\n",
       "      <td>635456015.0</td>\n",
       "      <td>3.803822e+08</td>\n",
       "      <td>418828.0</td>\n",
       "      <td>131686.0</td>\n",
       "      <td>101733.0</td>\n",
       "      <td>60335.0</td>\n",
       "      <td>542252.0</td>\n",
       "      <td>325323.0</td>\n",
       "      <td>821452.73</td>\n",
       "      <td>637790.330</td>\n",
       "    </tr>\n",
       "  </tbody>\n",
       "</table>\n",
       "</div>"
      ],
      "text/plain": [
       "       Quantity            UnitPrice               CustomerID                \\\n",
       "year       2010      2011       2010        2011         2010          2011   \n",
       "month                                                                         \n",
       "1           NaN  397030.0        NaN  128987.150          NaN  5.185670e+08   \n",
       "2           NaN  284787.0        NaN  107600.480          NaN  4.126222e+08   \n",
       "3           NaN  384023.0        NaN  144929.080          NaN  5.414477e+08   \n",
       "4           NaN  311314.0        NaN  115129.081          NaN  4.423952e+08   \n",
       "5           NaN  398686.0        NaN  149789.680          NaN  5.491160e+08   \n",
       "6           NaN  393633.0        NaN  139565.420          NaN  5.480680e+08   \n",
       "7           NaN  405473.0        NaN  142528.261          NaN  5.884846e+08   \n",
       "8           NaN  424264.0        NaN  137903.100          NaN  5.241051e+08   \n",
       "9           NaN  574165.0        NaN  173874.922          NaN  7.472358e+08   \n",
       "10          NaN  626373.0        NaN  221646.600          NaN  8.943148e+08   \n",
       "11          NaN  768466.0        NaN  297325.200          NaN  1.259606e+09   \n",
       "12     360999.0  314416.0  198647.06  100946.010  635456015.0  3.803822e+08   \n",
       "\n",
       "            day            day_of_week                hour             \\\n",
       "year       2010       2011        2010      2011      2010       2011   \n",
       "month                                                                   \n",
       "1           NaN   565601.0         NaN   78198.0       NaN   447647.0   \n",
       "2           NaN   400690.0         NaN   59832.0       NaN   342059.0   \n",
       "3           NaN   604961.0         NaN   82229.0       NaN   461957.0   \n",
       "4           NaN   417286.0         NaN   64445.0       NaN   371831.0   \n",
       "5           NaN   547308.0         NaN   90836.0       NaN   471445.0   \n",
       "6           NaN   541285.0         NaN   87764.0       NaN   474313.0   \n",
       "7           NaN   604651.0         NaN   93283.0       NaN   511175.0   \n",
       "8           NaN   549955.0         NaN   78992.0       NaN   440321.0   \n",
       "9           NaN   820989.0         NaN  134407.0       NaN   635632.0   \n",
       "10          NaN   965606.0         NaN  135436.0       NaN   771585.0   \n",
       "11          NaN  1335621.0         NaN  209769.0       NaN  1082162.0   \n",
       "12     418828.0   131686.0    101733.0   60335.0  542252.0   325323.0   \n",
       "\n",
       "      toal_amount               \n",
       "year         2010         2011  \n",
       "month                           \n",
       "1             NaN   689811.610  \n",
       "2             NaN   522545.560  \n",
       "3             NaN   716215.260  \n",
       "4             NaN   536968.491  \n",
       "5             NaN   769296.610  \n",
       "6             NaN   760547.010  \n",
       "7             NaN   718076.121  \n",
       "8             NaN   757841.380  \n",
       "9             NaN  1056435.192  \n",
       "10            NaN  1151263.730  \n",
       "11            NaN  1503866.780  \n",
       "12      821452.73   637790.330  "
      ]
     },
     "execution_count": 97,
     "metadata": {},
     "output_type": "execute_result"
    }
   ],
   "source": [
    "df_sales_item_2010_every_month = df.groupby(['month','year']).sum()\n",
    "df_sales_item_2010_every_month = df_sales_item_2010_every_month.unstack('year')\n",
    "df_sales_item_2010_every_month"
   ]
  },
  {
   "cell_type": "code",
   "execution_count": null,
   "id": "22a6644c",
   "metadata": {},
   "outputs": [],
   "source": []
  },
  {
   "cell_type": "code",
   "execution_count": 98,
   "id": "f6e5f6ee",
   "metadata": {},
   "outputs": [
    {
     "data": {
      "image/png": "[encoded data removed]",
      "text/plain": [
       "<Figure size 864x576 with 2 Axes>"
      ]
     },
     "metadata": {
      "needs_background": "light"
     },
     "output_type": "display_data"
    }
   ],
   "source": [
    "plt.figure(figsize=(12,8))\n",
    "plt.subplot(2,1,1)\n",
    "df_sales_item_2010_every_month = df.groupby(['month','year']).sum()\n",
    "df_sales_item_2010_every_month = df_sales_item_2010_every_month.unstack('year')['toal_amount'][2010]\n",
    "df_sales_item_2010_every_month.plot(kind='barh',)\n",
    "plt.title('every month sales of 2010')\n",
    "plt.xlabel('total _sales')\n",
    "plt.ylabel('months sales')\n",
    "\n",
    "\n",
    "plt.subplot(2,1,2)\n",
    "df_sales_item_2011_every_month = df.groupby(['month','year']).sum()\n",
    "df_sales_item_2011_every_month = df_sales_item_2011_every_month.unstack('year')['toal_amount'][2011]\n",
    "#df_sales_item_2011_every_month = df_sales_item_2011_every_month[2011]\n",
    "df_sales_item_2011_every_month.plot(kind='barh',)\n",
    "plt.title('every month sales of 2011')\n",
    "plt.xlabel('total _sales')\n",
    "plt.ylabel('months sales')\n",
    "\n",
    "plt.subplots_adjust(hspace = 0.6, top = 0.85)\n",
    "plt.show()"
   ]
  },
  {
   "cell_type": "code",
   "execution_count": 99,
   "id": "d2161f92",
   "metadata": {},
   "outputs": [],
   "source": [
    "# in 2010 there is data of only dec month\n",
    "# in 2011 most sales take place in nov month"
   ]
  },
  {
   "cell_type": "code",
   "execution_count": 100,
   "id": "0236e342",
   "metadata": {},
   "outputs": [
    {
     "data": {
      "text/html": [
       "<div>\n",
       "<style scoped>\n",
       "    .dataframe tbody tr th:only-of-type {\n",
       "        vertical-align: middle;\n",
       "    }\n",
       "\n",
       "    .dataframe tbody tr th {\n",
       "        vertical-align: top;\n",
       "    }\n",
       "\n",
       "    .dataframe thead th {\n",
       "        text-align: right;\n",
       "    }\n",
       "</style>\n",
       "<table border=\"1\" class=\"dataframe\">\n",
       "  <thead>\n",
       "    <tr style=\"text-align: right;\">\n",
       "      <th></th>\n",
       "      <th>InvoiceNo</th>\n",
       "      <th>StockCode</th>\n",
       "      <th>Description</th>\n",
       "      <th>Quantity</th>\n",
       "      <th>InvoiceDate</th>\n",
       "      <th>UnitPrice</th>\n",
       "      <th>CustomerID</th>\n",
       "      <th>Country</th>\n",
       "      <th>year</th>\n",
       "      <th>month</th>\n",
       "      <th>day</th>\n",
       "      <th>day_of_week</th>\n",
       "      <th>hour</th>\n",
       "      <th>week_name</th>\n",
       "      <th>toal_amount</th>\n",
       "    </tr>\n",
       "  </thead>\n",
       "  <tbody>\n",
       "    <tr>\n",
       "      <th>0</th>\n",
       "      <td>536365</td>\n",
       "      <td>85123A</td>\n",
       "      <td>white hanging heart tlight holder</td>\n",
       "      <td>6</td>\n",
       "      <td>2010-12-01 08:26:00</td>\n",
       "      <td>2.55</td>\n",
       "      <td>17850</td>\n",
       "      <td>United Kingdom</td>\n",
       "      <td>2010</td>\n",
       "      <td>12</td>\n",
       "      <td>1</td>\n",
       "      <td>2</td>\n",
       "      <td>8</td>\n",
       "      <td>Wed</td>\n",
       "      <td>15.30</td>\n",
       "    </tr>\n",
       "    <tr>\n",
       "      <th>1</th>\n",
       "      <td>536365</td>\n",
       "      <td>71053</td>\n",
       "      <td>white metal lantern</td>\n",
       "      <td>6</td>\n",
       "      <td>2010-12-01 08:26:00</td>\n",
       "      <td>3.39</td>\n",
       "      <td>17850</td>\n",
       "      <td>United Kingdom</td>\n",
       "      <td>2010</td>\n",
       "      <td>12</td>\n",
       "      <td>1</td>\n",
       "      <td>2</td>\n",
       "      <td>8</td>\n",
       "      <td>Wed</td>\n",
       "      <td>20.34</td>\n",
       "    </tr>\n",
       "    <tr>\n",
       "      <th>2</th>\n",
       "      <td>536365</td>\n",
       "      <td>84406B</td>\n",
       "      <td>cream cupid hearts coat hanger</td>\n",
       "      <td>8</td>\n",
       "      <td>2010-12-01 08:26:00</td>\n",
       "      <td>2.75</td>\n",
       "      <td>17850</td>\n",
       "      <td>United Kingdom</td>\n",
       "      <td>2010</td>\n",
       "      <td>12</td>\n",
       "      <td>1</td>\n",
       "      <td>2</td>\n",
       "      <td>8</td>\n",
       "      <td>Wed</td>\n",
       "      <td>22.00</td>\n",
       "    </tr>\n",
       "    <tr>\n",
       "      <th>3</th>\n",
       "      <td>536365</td>\n",
       "      <td>84029G</td>\n",
       "      <td>knitted union flag hot water bottle</td>\n",
       "      <td>6</td>\n",
       "      <td>2010-12-01 08:26:00</td>\n",
       "      <td>3.39</td>\n",
       "      <td>17850</td>\n",
       "      <td>United Kingdom</td>\n",
       "      <td>2010</td>\n",
       "      <td>12</td>\n",
       "      <td>1</td>\n",
       "      <td>2</td>\n",
       "      <td>8</td>\n",
       "      <td>Wed</td>\n",
       "      <td>20.34</td>\n",
       "    </tr>\n",
       "    <tr>\n",
       "      <th>4</th>\n",
       "      <td>536365</td>\n",
       "      <td>84029E</td>\n",
       "      <td>red woolly hottie white heart</td>\n",
       "      <td>6</td>\n",
       "      <td>2010-12-01 08:26:00</td>\n",
       "      <td>3.39</td>\n",
       "      <td>17850</td>\n",
       "      <td>United Kingdom</td>\n",
       "      <td>2010</td>\n",
       "      <td>12</td>\n",
       "      <td>1</td>\n",
       "      <td>2</td>\n",
       "      <td>8</td>\n",
       "      <td>Wed</td>\n",
       "      <td>20.34</td>\n",
       "    </tr>\n",
       "  </tbody>\n",
       "</table>\n",
       "</div>"
      ],
      "text/plain": [
       "  InvoiceNo StockCode                          Description  Quantity  \\\n",
       "0    536365    85123A    white hanging heart tlight holder         6   \n",
       "1    536365     71053                  white metal lantern         6   \n",
       "2    536365    84406B       cream cupid hearts coat hanger         8   \n",
       "3    536365    84029G  knitted union flag hot water bottle         6   \n",
       "4    536365    84029E        red woolly hottie white heart         6   \n",
       "\n",
       "          InvoiceDate  UnitPrice  CustomerID         Country  year  month  \\\n",
       "0 2010-12-01 08:26:00       2.55       17850  United Kingdom  2010     12   \n",
       "1 2010-12-01 08:26:00       3.39       17850  United Kingdom  2010     12   \n",
       "2 2010-12-01 08:26:00       2.75       17850  United Kingdom  2010     12   \n",
       "3 2010-12-01 08:26:00       3.39       17850  United Kingdom  2010     12   \n",
       "4 2010-12-01 08:26:00       3.39       17850  United Kingdom  2010     12   \n",
       "\n",
       "   day  day_of_week  hour week_name  toal_amount  \n",
       "0    1            2     8       Wed        15.30  \n",
       "1    1            2     8       Wed        20.34  \n",
       "2    1            2     8       Wed        22.00  \n",
       "3    1            2     8       Wed        20.34  \n",
       "4    1            2     8       Wed        20.34  "
      ]
     },
     "execution_count": 100,
     "metadata": {},
     "output_type": "execute_result"
    }
   ],
   "source": [
    "df.head()"
   ]
  },
  {
   "cell_type": "code",
   "execution_count": 101,
   "id": "67b28abe",
   "metadata": {},
   "outputs": [
    {
     "data": {
      "text/plain": [
       "Index(['InvoiceNo', 'StockCode', 'Description', 'Quantity', 'InvoiceDate',\n",
       "       'UnitPrice', 'CustomerID', 'Country', 'year', 'month', 'day',\n",
       "       'day_of_week', 'hour', 'week_name', 'toal_amount'],\n",
       "      dtype='object')"
      ]
     },
     "execution_count": 101,
     "metadata": {},
     "output_type": "execute_result"
    }
   ],
   "source": [
    "df.columns"
   ]
  },
  {
   "cell_type": "code",
   "execution_count": null,
   "id": "990f26ae",
   "metadata": {},
   "outputs": [],
   "source": []
  },
  {
   "cell_type": "code",
   "execution_count": 102,
   "id": "47655b90",
   "metadata": {},
   "outputs": [],
   "source": [
    "#  top 10 selling product\n",
    "# 10 sabse mehnge product\n",
    "# 10 sabse saste product\n"
   ]
  },
  {
   "cell_type": "code",
   "execution_count": 103,
   "id": "181d26e5",
   "metadata": {},
   "outputs": [
    {
     "data": {
      "image/png": "[encoded data removed]",
      "text/plain": [
       "<Figure size 1224x576 with 1 Axes>"
      ]
     },
     "metadata": {
      "needs_background": "light"
     },
     "output_type": "display_data"
    }
   ],
   "source": [
    "\n",
    "\n",
    "desc_quant=df.groupby('Description')['Quantity'].sum().to_frame().sort_values(by='Quantity',ascending=False).head(30)\n",
    "\n",
    "desc_quant.plot(kind='bar',color='purple',figsize=(17,8))\n",
    "plt.title('top 30 item based on Quanity')\n",
    "plt.xlabel('total Quantity')\n",
    "plt.ylabel('Description')\n",
    "plt.show()"
   ]
  },
  {
   "cell_type": "markdown",
   "id": "aad4560f",
   "metadata": {},
   "source": [
    "### top 30 most selling product"
   ]
  },
  {
   "cell_type": "code",
   "execution_count": null,
   "id": "6db4c7a7",
   "metadata": {},
   "outputs": [],
   "source": []
  },
  {
   "cell_type": "code",
   "execution_count": 104,
   "id": "225f3c52",
   "metadata": {},
   "outputs": [
    {
     "data": {
      "image/png": "[encoded data removed]",
      "text/plain": [
       "<Figure size 864x576 with 1 Axes>"
      ]
     },
     "metadata": {
      "needs_background": "light"
     },
     "output_type": "display_data"
    }
   ],
   "source": [
    "plt.figure(figsize=(12,8))\n",
    "\n",
    "# group the data by country and customer id, and calculate the sum of the unit price\n",
    "country_cust_spent = df.groupby(['Country', 'CustomerID']).sum()['UnitPrice']\n",
    "\n",
    "# find the country with the highest expenditure on unit price\n",
    "max_spent_country = country_cust_spent.groupby('Country').sum().sort_values(ascending=False).index[0]\n",
    "\n",
    "# filter the data to include only the customers from the country with highest expenditure\n",
    "max_spent_cust = country_cust_spent[max_spent_country].sort_values(ascending=False)[:10]\n",
    "\n",
    "# plot the data\n",
    "max_spent_cust.plot(kind='bar', color='purple')\n",
    "\n",
    "# set the title and axis labels\n",
    "plt.title('Top 10 customers with highest expenditure on unit price in {}'.format(max_spent_country))\n",
    "plt.xlabel('Customer ID')\n",
    "plt.ylabel('Total Expenditure on Unit Price')\n",
    "plt.yscale('log')\n",
    "plt.show()\n"
   ]
  },
  {
   "cell_type": "code",
   "execution_count": 105,
   "id": "525cfd7e",
   "metadata": {},
   "outputs": [],
   "source": [
    "# 15287 most expensive customer"
   ]
  },
  {
   "cell_type": "code",
   "execution_count": null,
   "id": "5a5b4734",
   "metadata": {},
   "outputs": [],
   "source": []
  },
  {
   "cell_type": "code",
   "execution_count": 106,
   "id": "08753639",
   "metadata": {},
   "outputs": [
    {
     "data": {
      "text/plain": [
       "Index(['InvoiceNo', 'StockCode', 'Description', 'Quantity', 'InvoiceDate',\n",
       "       'UnitPrice', 'CustomerID', 'Country', 'year', 'month', 'day',\n",
       "       'day_of_week', 'hour', 'week_name', 'toal_amount'],\n",
       "      dtype='object')"
      ]
     },
     "execution_count": 106,
     "metadata": {},
     "output_type": "execute_result"
    }
   ],
   "source": [
    "df.columns"
   ]
  },
  {
   "cell_type": "code",
   "execution_count": null,
   "id": "1fe03ec1",
   "metadata": {},
   "outputs": [],
   "source": []
  },
  {
   "cell_type": "code",
   "execution_count": null,
   "id": "b6162078",
   "metadata": {},
   "outputs": [],
   "source": []
  },
  {
   "cell_type": "code",
   "execution_count": 107,
   "id": "ff215a96",
   "metadata": {},
   "outputs": [
    {
     "name": "stdout",
     "output_type": "stream",
     "text": [
      "                   Country  CustomerID  UnitPrice\n",
      "3                Australia       12415     350.00\n",
      "9                  Austria       12358      40.00\n",
      "21                 Bahrain       12355      12.75\n",
      "31                 Belgium       12395      39.95\n",
      "48                  Brazil       12769      10.95\n",
      "51                  Canada       17444     550.94\n",
      "56         Channel Islands       14931     293.00\n",
      "63                  Cyprus       12365     320.69\n",
      "70          Czech Republic       12781      40.00\n",
      "71                 Denmark       12367      18.00\n",
      "83                    EIRE       15287    1917.00\n",
      "84      European Community       15108      18.00\n",
      "88                 Finland       12428     275.60\n",
      "113                 France       12536    4161.06\n",
      "270                Germany       13810     599.50\n",
      "280                 Greece       12717      50.00\n",
      "283              Hong Kong       15287    2653.95\n",
      "284                Iceland       12347      12.75\n",
      "287                 Israel       12688     125.00\n",
      "289                  Italy       12349     300.00\n",
      "303                  Japan       12753      14.95\n",
      "311                Lebanon       12764      14.95\n",
      "312              Lithuania       15332       5.95\n",
      "314                  Malta       17828      65.00\n",
      "323            Netherlands       14646     110.00\n",
      "328                 Norway       12432     700.00\n",
      "337                 Poland       12814      40.00\n",
      "342               Portugal       12757    1241.98\n",
      "360                    RSA       12446      14.95\n",
      "361           Saudi Arabia       12565       5.49\n",
      "362              Singapore       12744    3949.32\n",
      "368                  Spain       12448      65.00\n",
      "393                 Sweden       12483      40.00\n",
      "402            Switzerland       12371      40.00\n",
      "424                    USA       12607      16.95\n",
      "427   United Arab Emirates       12739      37.50\n",
      "2184        United Kingdom       15287   13541.33\n",
      "4351           Unspecified       12743      16.95\n"
     ]
    },
    {
     "data": {
      "image/png": "[encoded data removed]",
      "text/plain": [
       "<Figure size 1080x1080 with 2 Axes>"
      ]
     },
     "metadata": {
      "needs_background": "light"
     },
     "output_type": "display_data"
    }
   ],
   "source": [
    "max_unitprice = df.groupby(['Country', 'CustomerID'])['UnitPrice'].max().reset_index()\n",
    "max_unitprice_idx = max_unitprice.groupby('Country')['UnitPrice'].idxmax()\n",
    "#idxmax() is a pandas function that returns the index of the maximum value in a pandas Series or DataFrame.\n",
    "max_unitprice_cust = max_unitprice.loc[max_unitprice_idx]\n",
    "print(max_unitprice_cust)\n",
    "#max_unitprice_cust\n",
    "\n",
    "plt.figure(figsize=(15,15))\n",
    "\n",
    "plt.subplot(2,1,1)\n",
    "\n",
    "plt.bar(max_unitprice_cust['Country'], max_unitprice_cust['UnitPrice'], color='purple')\n",
    "plt.title('Customer with Maximum UnitPrice per Country',fontsize=20)\n",
    "\n",
    "plt.ylabel('unit price')\n",
    "plt.xticks(rotation=90)\n",
    "\n",
    "\n",
    "plt.subplot(2,1,2)\n",
    "\n",
    "plt.bar(max_unitprice_cust['Country'], max_unitprice_cust['CustomerID'], color='purple')\n",
    "\n",
    "plt.xlabel('Country',fontsize=15)\n",
    "plt.ylabel('unit price')\n",
    "plt.xticks(rotation=90)\n",
    "\n",
    "\n",
    "plt.subplots_adjust(hspace = 0.6, top = 0.85)\n",
    "plt.show()\n",
    "\n"
   ]
  },
  {
   "cell_type": "code",
   "execution_count": null,
   "id": "3571960a",
   "metadata": {},
   "outputs": [],
   "source": []
  },
  {
   "cell_type": "code",
   "execution_count": null,
   "id": "80dd3edb",
   "metadata": {},
   "outputs": [],
   "source": []
  },
  {
   "cell_type": "code",
   "execution_count": null,
   "id": "fb9b27db",
   "metadata": {},
   "outputs": [],
   "source": []
  },
  {
   "cell_type": "code",
   "execution_count": null,
   "id": "ab79d30a",
   "metadata": {},
   "outputs": [],
   "source": []
  },
  {
   "cell_type": "markdown",
   "id": "7840ad0c",
   "metadata": {},
   "source": [
    "### Customer segmentation analysis\n",
    "\n",
    "**Customer segmentation analysis** is a process of dividing customers into groups based on their common characteristics and behaviors, so that businesses can better understand and target their customers. Some of the things that can be done in customer segmentation analysis are:\n",
    "\n",
    "**Demographic segmentation:** Segmenting customers based on age, gender, income, education, occupation, etc.\n",
    "\n",
    "**Geographic segmentation:** Segmenting customers based on their geographic location, such as country, city, zip code, etc.\n",
    "\n",
    "**Psychographic segmentation:** Segmenting customers based on their personality traits, values, interests, lifestyle, etc.\n",
    "\n",
    "**Behavioral segmentation:** Segmenting customers based on their buying behavior, such as purchase frequency, purchase amount, brand loyalty, etc.\n",
    "\n",
    "**RFM analysis:** A combination of behavioral segmentation, which stands for Recency, Frequency, and Monetary value. It measures the recentness of customer purchases, how often they make purchases, and how much they spend.\n",
    "\n",
    "***\n",
    "\n",
    "**Recency:** The value of how recently a customer purchased at the establishment\n",
    "**Frequency:** How frequent the customer’s transactions are at the establishment\n",
    "**Monetary value:** The dollar (or pounds in our case) value of all the transactions that the customer made at the establishment\n",
    "\n",
    "***\n",
    "\n",
    "**Customer lifetime value analysis:** Analyzing the total value a customer brings to the business over their lifetime, including all purchases and referrals.\n",
    "\n",
    "**Churn analysis:** Identifying customers who are at risk of leaving the business and taking actions to prevent them from doing so.\n",
    "\n",
    "**Persona development:** Creating fictional personas that represent typical customers in different segments, to better understand their needs, motivations, and behaviors.\n",
    "\n",
    "**Customized marketing campaigns:** Creating targeted marketing campaigns for each customer segment, based on their unique characteristics and behaviors.\n",
    "\n",
    "**Customer experience improvement:** Improving the customer experience for each segment, by tailoring products, services, and interactions to their specific needs and preferences.\n",
    "\n",
    "\n",
    "\n",
    "\n",
    "\n"
   ]
  },
  {
   "cell_type": "code",
   "execution_count": null,
   "id": "0c81a3b3",
   "metadata": {},
   "outputs": [],
   "source": []
  },
  {
   "cell_type": "markdown",
   "id": "f13184a1",
   "metadata": {},
   "source": [
    "### RFM analysis\n",
    "\n",
    "**RFM analysis** is a customer segmentation technique that stands for Recency, Frequency, and Monetary Value. It helps to identify customers who are most valuable to a business by analyzing their past purchasing behavior.\n",
    "\n",
    "The steps to perform RFM analysis are as follows:\n",
    "\n",
    "**Recency:** Determine the most recent purchase date of each customer. This could be the date of the last order placed, or the date of the last website visit, or the date of the last interaction with the company. Assign a score based on recency, with the most recent customers receiving the highest score.\n",
    "\n",
    "**Frequency:** Determine the number of purchases made by each customer within a specified time period (usually one year). Assign a score based on frequency, with the most frequent customers receiving the highest score.\n",
    "\n",
    "**Monetary Value:** Determine the total amount of money spent by each customer within the specified time period. Assign a score based on monetary value, with the highest spending customers receiving the highest score.\n",
    "\n",
    "**Combine the scores for each customer:** Once you have assigned scores for each of the three factors, combine them into an overall RFM score. This can be done in a number of ways, such as adding up the three scores or averaging them.\n",
    "\n",
    "**Segment the customers:** Finally, group the customers based on their RFM scores. This can be done in a number of ways, such as by dividing them into quartiles or quintiles, or by using clustering techniques.\n",
    "\n",
    "RFM analysis can provide valuable insights into customer behavior and help businesses to identify their most valuable customers, as well as opportunities for targeted marketing and retention strategies.\n",
    "\n",
    "\n",
    "\n",
    "\n",
    "\n"
   ]
  },
  {
   "cell_type": "code",
   "execution_count": null,
   "id": "0752f23f",
   "metadata": {},
   "outputs": [],
   "source": []
  },
  {
   "cell_type": "markdown",
   "id": "36f6b3cc",
   "metadata": {},
   "source": [
    "# Recency\n",
    "\n",
    " - Determine the most recent purchase date of each customer. This could be the date of the last order placed, or the date of the last website visit, or the date of the last interaction with the company. Assign a score based on recency, with the most recent customers receiving the highest score."
   ]
  },
  {
   "cell_type": "code",
   "execution_count": null,
   "id": "7c987f2c",
   "metadata": {},
   "outputs": [],
   "source": []
  },
  {
   "cell_type": "code",
   "execution_count": 108,
   "id": "c4102a0d",
   "metadata": {},
   "outputs": [],
   "source": [
    "import datetime as dt"
   ]
  },
  {
   "cell_type": "code",
   "execution_count": 109,
   "id": "4efb590a",
   "metadata": {},
   "outputs": [
    {
     "data": {
      "text/plain": [
       "Timestamp('2011-12-10 12:50:00')"
      ]
     },
     "execution_count": 109,
     "metadata": {},
     "output_type": "execute_result"
    }
   ],
   "source": [
    "# Calculate the latest date available in the dataset and add one day to set it as a reference point\n",
    "#timedelta is a Python class in the datetime module that represents a duration or the difference between two dates or times\n",
    "latest_date = df['InvoiceDate'].max() + dt.timedelta(days=1)\n",
    "latest_date"
   ]
  },
  {
   "cell_type": "code",
   "execution_count": 110,
   "id": "d68ddbee",
   "metadata": {},
   "outputs": [],
   "source": [
    "df['recency'] = (latest_date - df['InvoiceDate']).astype('timedelta64[D]')"
   ]
  },
  {
   "cell_type": "code",
   "execution_count": 111,
   "id": "0b83b519",
   "metadata": {},
   "outputs": [
    {
     "data": {
      "text/html": [
       "<div>\n",
       "<style scoped>\n",
       "    .dataframe tbody tr th:only-of-type {\n",
       "        vertical-align: middle;\n",
       "    }\n",
       "\n",
       "    .dataframe tbody tr th {\n",
       "        vertical-align: top;\n",
       "    }\n",
       "\n",
       "    .dataframe thead th {\n",
       "        text-align: right;\n",
       "    }\n",
       "</style>\n",
       "<table border=\"1\" class=\"dataframe\">\n",
       "  <thead>\n",
       "    <tr style=\"text-align: right;\">\n",
       "      <th></th>\n",
       "      <th>CustomerID</th>\n",
       "      <th>recency</th>\n",
       "    </tr>\n",
       "  </thead>\n",
       "  <tbody>\n",
       "    <tr>\n",
       "      <th>0</th>\n",
       "      <td>12346</td>\n",
       "      <td>326.0</td>\n",
       "    </tr>\n",
       "    <tr>\n",
       "      <th>1</th>\n",
       "      <td>12347</td>\n",
       "      <td>2.0</td>\n",
       "    </tr>\n",
       "    <tr>\n",
       "      <th>2</th>\n",
       "      <td>12348</td>\n",
       "      <td>75.0</td>\n",
       "    </tr>\n",
       "    <tr>\n",
       "      <th>3</th>\n",
       "      <td>12349</td>\n",
       "      <td>19.0</td>\n",
       "    </tr>\n",
       "    <tr>\n",
       "      <th>4</th>\n",
       "      <td>12350</td>\n",
       "      <td>310.0</td>\n",
       "    </tr>\n",
       "    <tr>\n",
       "      <th>...</th>\n",
       "      <td>...</td>\n",
       "      <td>...</td>\n",
       "    </tr>\n",
       "    <tr>\n",
       "      <th>4334</th>\n",
       "      <td>18280</td>\n",
       "      <td>278.0</td>\n",
       "    </tr>\n",
       "    <tr>\n",
       "      <th>4335</th>\n",
       "      <td>18281</td>\n",
       "      <td>181.0</td>\n",
       "    </tr>\n",
       "    <tr>\n",
       "      <th>4336</th>\n",
       "      <td>18282</td>\n",
       "      <td>8.0</td>\n",
       "    </tr>\n",
       "    <tr>\n",
       "      <th>4337</th>\n",
       "      <td>18283</td>\n",
       "      <td>4.0</td>\n",
       "    </tr>\n",
       "    <tr>\n",
       "      <th>4338</th>\n",
       "      <td>18287</td>\n",
       "      <td>43.0</td>\n",
       "    </tr>\n",
       "  </tbody>\n",
       "</table>\n",
       "<p>4339 rows × 2 columns</p>\n",
       "</div>"
      ],
      "text/plain": [
       "      CustomerID  recency\n",
       "0          12346    326.0\n",
       "1          12347      2.0\n",
       "2          12348     75.0\n",
       "3          12349     19.0\n",
       "4          12350    310.0\n",
       "...          ...      ...\n",
       "4334       18280    278.0\n",
       "4335       18281    181.0\n",
       "4336       18282      8.0\n",
       "4337       18283      4.0\n",
       "4338       18287     43.0\n",
       "\n",
       "[4339 rows x 2 columns]"
      ]
     },
     "execution_count": 111,
     "metadata": {},
     "output_type": "execute_result"
    }
   ],
   "source": [
    "rfm_table =  df.groupby('CustomerID')['recency'].min().reset_index()\n",
    "\n",
    "rfm_table\n",
    "\n",
    "# min no. of days-  Determine the most recent purchase date of each customer."
   ]
  },
  {
   "cell_type": "code",
   "execution_count": 112,
   "id": "9eeed43b",
   "metadata": {},
   "outputs": [],
   "source": [
    "customer_history_df = rfm_table.copy()"
   ]
  },
  {
   "cell_type": "code",
   "execution_count": null,
   "id": "e9ecb0cf",
   "metadata": {},
   "outputs": [],
   "source": []
  },
  {
   "cell_type": "code",
   "execution_count": 113,
   "id": "f2be93f0",
   "metadata": {},
   "outputs": [
    {
     "data": {
      "text/plain": [
       "Index(['InvoiceNo', 'StockCode', 'Description', 'Quantity', 'InvoiceDate',\n",
       "       'UnitPrice', 'CustomerID', 'Country', 'year', 'month', 'day',\n",
       "       'day_of_week', 'hour', 'week_name', 'toal_amount', 'recency'],\n",
       "      dtype='object')"
      ]
     },
     "execution_count": 113,
     "metadata": {},
     "output_type": "execute_result"
    }
   ],
   "source": [
    "df.columns"
   ]
  },
  {
   "cell_type": "markdown",
   "id": "716b811b",
   "metadata": {},
   "source": [
    "## Frequency\n",
    "\n",
    "\n",
    "**Frequency:** Determine the number of purchases made by each customer within a specified time period "
   ]
  },
  {
   "cell_type": "code",
   "execution_count": null,
   "id": "f0c18d00",
   "metadata": {},
   "outputs": [],
   "source": []
  },
  {
   "cell_type": "code",
   "execution_count": 114,
   "id": "7a5bbd56",
   "metadata": {},
   "outputs": [
    {
     "data": {
      "text/html": [
       "<div>\n",
       "<style scoped>\n",
       "    .dataframe tbody tr th:only-of-type {\n",
       "        vertical-align: middle;\n",
       "    }\n",
       "\n",
       "    .dataframe tbody tr th {\n",
       "        vertical-align: top;\n",
       "    }\n",
       "\n",
       "    .dataframe thead th {\n",
       "        text-align: right;\n",
       "    }\n",
       "</style>\n",
       "<table border=\"1\" class=\"dataframe\">\n",
       "  <thead>\n",
       "    <tr style=\"text-align: right;\">\n",
       "      <th></th>\n",
       "      <th>CustomerID</th>\n",
       "      <th>frequency</th>\n",
       "    </tr>\n",
       "  </thead>\n",
       "  <tbody>\n",
       "    <tr>\n",
       "      <th>0</th>\n",
       "      <td>12346</td>\n",
       "      <td>1</td>\n",
       "    </tr>\n",
       "    <tr>\n",
       "      <th>1</th>\n",
       "      <td>12347</td>\n",
       "      <td>182</td>\n",
       "    </tr>\n",
       "    <tr>\n",
       "      <th>2</th>\n",
       "      <td>12348</td>\n",
       "      <td>31</td>\n",
       "    </tr>\n",
       "    <tr>\n",
       "      <th>3</th>\n",
       "      <td>12349</td>\n",
       "      <td>73</td>\n",
       "    </tr>\n",
       "    <tr>\n",
       "      <th>4</th>\n",
       "      <td>12350</td>\n",
       "      <td>17</td>\n",
       "    </tr>\n",
       "    <tr>\n",
       "      <th>...</th>\n",
       "      <td>...</td>\n",
       "      <td>...</td>\n",
       "    </tr>\n",
       "    <tr>\n",
       "      <th>4334</th>\n",
       "      <td>18280</td>\n",
       "      <td>10</td>\n",
       "    </tr>\n",
       "    <tr>\n",
       "      <th>4335</th>\n",
       "      <td>18281</td>\n",
       "      <td>7</td>\n",
       "    </tr>\n",
       "    <tr>\n",
       "      <th>4336</th>\n",
       "      <td>18282</td>\n",
       "      <td>12</td>\n",
       "    </tr>\n",
       "    <tr>\n",
       "      <th>4337</th>\n",
       "      <td>18283</td>\n",
       "      <td>721</td>\n",
       "    </tr>\n",
       "    <tr>\n",
       "      <th>4338</th>\n",
       "      <td>18287</td>\n",
       "      <td>70</td>\n",
       "    </tr>\n",
       "  </tbody>\n",
       "</table>\n",
       "<p>4339 rows × 2 columns</p>\n",
       "</div>"
      ],
      "text/plain": [
       "      CustomerID  frequency\n",
       "0          12346          1\n",
       "1          12347        182\n",
       "2          12348         31\n",
       "3          12349         73\n",
       "4          12350         17\n",
       "...          ...        ...\n",
       "4334       18280         10\n",
       "4335       18281          7\n",
       "4336       18282         12\n",
       "4337       18283        721\n",
       "4338       18287         70\n",
       "\n",
       "[4339 rows x 2 columns]"
      ]
     },
     "execution_count": 114,
     "metadata": {},
     "output_type": "execute_result"
    }
   ],
   "source": [
    "count_table=df.groupby('CustomerID').count()['InvoiceNo'].to_frame().reset_index()\n",
    "count_table.rename(columns={'InvoiceNo': 'frequency'}, inplace=True)\n",
    "count_table"
   ]
  },
  {
   "cell_type": "code",
   "execution_count": 115,
   "id": "cfae0996",
   "metadata": {},
   "outputs": [
    {
     "name": "stdout",
     "output_type": "stream",
     "text": [
      "      CustomerID  recency  frequency\n",
      "0          12346    326.0          1\n",
      "1          12347      2.0        182\n",
      "2          12348     75.0         31\n",
      "3          12349     19.0         73\n",
      "4          12350    310.0         17\n",
      "...          ...      ...        ...\n",
      "4334       18280    278.0         10\n",
      "4335       18281    181.0          7\n",
      "4336       18282      8.0         12\n",
      "4337       18283      4.0        721\n",
      "4338       18287     43.0         70\n",
      "\n",
      "[4339 rows x 3 columns]\n"
     ]
    }
   ],
   "source": [
    "# Merge the two tables on 'CustomerID'\n",
    "rfm_table = rfm_table.merge(count_table, on='CustomerID')\n",
    "\n",
    "\n",
    "# Print the resulting table\n",
    "print(rfm_table)"
   ]
  },
  {
   "cell_type": "code",
   "execution_count": 116,
   "id": "0e945ccc",
   "metadata": {},
   "outputs": [
    {
     "data": {
      "text/html": [
       "<div>\n",
       "<style scoped>\n",
       "    .dataframe tbody tr th:only-of-type {\n",
       "        vertical-align: middle;\n",
       "    }\n",
       "\n",
       "    .dataframe tbody tr th {\n",
       "        vertical-align: top;\n",
       "    }\n",
       "\n",
       "    .dataframe thead th {\n",
       "        text-align: right;\n",
       "    }\n",
       "</style>\n",
       "<table border=\"1\" class=\"dataframe\">\n",
       "  <thead>\n",
       "    <tr style=\"text-align: right;\">\n",
       "      <th></th>\n",
       "      <th>CustomerID</th>\n",
       "      <th>recency</th>\n",
       "      <th>frequency</th>\n",
       "    </tr>\n",
       "  </thead>\n",
       "  <tbody>\n",
       "    <tr>\n",
       "      <th>0</th>\n",
       "      <td>12346</td>\n",
       "      <td>326.0</td>\n",
       "      <td>1</td>\n",
       "    </tr>\n",
       "    <tr>\n",
       "      <th>1</th>\n",
       "      <td>12347</td>\n",
       "      <td>2.0</td>\n",
       "      <td>182</td>\n",
       "    </tr>\n",
       "    <tr>\n",
       "      <th>2</th>\n",
       "      <td>12348</td>\n",
       "      <td>75.0</td>\n",
       "      <td>31</td>\n",
       "    </tr>\n",
       "    <tr>\n",
       "      <th>3</th>\n",
       "      <td>12349</td>\n",
       "      <td>19.0</td>\n",
       "      <td>73</td>\n",
       "    </tr>\n",
       "    <tr>\n",
       "      <th>4</th>\n",
       "      <td>12350</td>\n",
       "      <td>310.0</td>\n",
       "      <td>17</td>\n",
       "    </tr>\n",
       "    <tr>\n",
       "      <th>...</th>\n",
       "      <td>...</td>\n",
       "      <td>...</td>\n",
       "      <td>...</td>\n",
       "    </tr>\n",
       "    <tr>\n",
       "      <th>4334</th>\n",
       "      <td>18280</td>\n",
       "      <td>278.0</td>\n",
       "      <td>10</td>\n",
       "    </tr>\n",
       "    <tr>\n",
       "      <th>4335</th>\n",
       "      <td>18281</td>\n",
       "      <td>181.0</td>\n",
       "      <td>7</td>\n",
       "    </tr>\n",
       "    <tr>\n",
       "      <th>4336</th>\n",
       "      <td>18282</td>\n",
       "      <td>8.0</td>\n",
       "      <td>12</td>\n",
       "    </tr>\n",
       "    <tr>\n",
       "      <th>4337</th>\n",
       "      <td>18283</td>\n",
       "      <td>4.0</td>\n",
       "      <td>721</td>\n",
       "    </tr>\n",
       "    <tr>\n",
       "      <th>4338</th>\n",
       "      <td>18287</td>\n",
       "      <td>43.0</td>\n",
       "      <td>70</td>\n",
       "    </tr>\n",
       "  </tbody>\n",
       "</table>\n",
       "<p>4339 rows × 3 columns</p>\n",
       "</div>"
      ],
      "text/plain": [
       "      CustomerID  recency  frequency\n",
       "0          12346    326.0          1\n",
       "1          12347      2.0        182\n",
       "2          12348     75.0         31\n",
       "3          12349     19.0         73\n",
       "4          12350    310.0         17\n",
       "...          ...      ...        ...\n",
       "4334       18280    278.0         10\n",
       "4335       18281    181.0          7\n",
       "4336       18282      8.0         12\n",
       "4337       18283      4.0        721\n",
       "4338       18287     43.0         70\n",
       "\n",
       "[4339 rows x 3 columns]"
      ]
     },
     "execution_count": 116,
     "metadata": {},
     "output_type": "execute_result"
    }
   ],
   "source": [
    "rfm_table"
   ]
  },
  {
   "cell_type": "code",
   "execution_count": null,
   "id": "a7015872",
   "metadata": {},
   "outputs": [],
   "source": []
  },
  {
   "cell_type": "markdown",
   "id": "c3d6e7b8",
   "metadata": {},
   "source": [
    "### monentary\n",
    "\n",
    " - **Monetary Value:** Determine the total amount of money spent by each customer within the specified time period."
   ]
  },
  {
   "cell_type": "code",
   "execution_count": 117,
   "id": "1d4273e3",
   "metadata": {},
   "outputs": [
    {
     "data": {
      "text/plain": [
       "Index(['InvoiceNo', 'StockCode', 'Description', 'Quantity', 'InvoiceDate',\n",
       "       'UnitPrice', 'CustomerID', 'Country', 'year', 'month', 'day',\n",
       "       'day_of_week', 'hour', 'week_name', 'toal_amount', 'recency'],\n",
       "      dtype='object')"
      ]
     },
     "execution_count": 117,
     "metadata": {},
     "output_type": "execute_result"
    }
   ],
   "source": [
    "df.columns"
   ]
  },
  {
   "cell_type": "code",
   "execution_count": 118,
   "id": "383753d1",
   "metadata": {},
   "outputs": [],
   "source": [
    "monetary=df.groupby('CustomerID').sum()['toal_amount'].to_frame()\n",
    "monetary.rename(columns={'toal_amount': 'monetary'}, inplace=True)"
   ]
  },
  {
   "cell_type": "code",
   "execution_count": null,
   "id": "4dd9be7b",
   "metadata": {},
   "outputs": [],
   "source": []
  },
  {
   "cell_type": "code",
   "execution_count": 119,
   "id": "f9f21b6c",
   "metadata": {},
   "outputs": [],
   "source": [
    "rfm_table = rfm_table.merge(monetary, on='CustomerID')"
   ]
  },
  {
   "cell_type": "code",
   "execution_count": 120,
   "id": "d6096bbe",
   "metadata": {},
   "outputs": [
    {
     "data": {
      "text/html": [
       "<div>\n",
       "<style scoped>\n",
       "    .dataframe tbody tr th:only-of-type {\n",
       "        vertical-align: middle;\n",
       "    }\n",
       "\n",
       "    .dataframe tbody tr th {\n",
       "        vertical-align: top;\n",
       "    }\n",
       "\n",
       "    .dataframe thead th {\n",
       "        text-align: right;\n",
       "    }\n",
       "</style>\n",
       "<table border=\"1\" class=\"dataframe\">\n",
       "  <thead>\n",
       "    <tr style=\"text-align: right;\">\n",
       "      <th></th>\n",
       "      <th>CustomerID</th>\n",
       "      <th>recency</th>\n",
       "      <th>frequency</th>\n",
       "      <th>monetary</th>\n",
       "    </tr>\n",
       "  </thead>\n",
       "  <tbody>\n",
       "    <tr>\n",
       "      <th>0</th>\n",
       "      <td>12346</td>\n",
       "      <td>326.0</td>\n",
       "      <td>1</td>\n",
       "      <td>77183.60</td>\n",
       "    </tr>\n",
       "    <tr>\n",
       "      <th>1</th>\n",
       "      <td>12347</td>\n",
       "      <td>2.0</td>\n",
       "      <td>182</td>\n",
       "      <td>4310.00</td>\n",
       "    </tr>\n",
       "    <tr>\n",
       "      <th>2</th>\n",
       "      <td>12348</td>\n",
       "      <td>75.0</td>\n",
       "      <td>31</td>\n",
       "      <td>1797.24</td>\n",
       "    </tr>\n",
       "    <tr>\n",
       "      <th>3</th>\n",
       "      <td>12349</td>\n",
       "      <td>19.0</td>\n",
       "      <td>73</td>\n",
       "      <td>1757.55</td>\n",
       "    </tr>\n",
       "    <tr>\n",
       "      <th>4</th>\n",
       "      <td>12350</td>\n",
       "      <td>310.0</td>\n",
       "      <td>17</td>\n",
       "      <td>334.40</td>\n",
       "    </tr>\n",
       "    <tr>\n",
       "      <th>...</th>\n",
       "      <td>...</td>\n",
       "      <td>...</td>\n",
       "      <td>...</td>\n",
       "      <td>...</td>\n",
       "    </tr>\n",
       "    <tr>\n",
       "      <th>4334</th>\n",
       "      <td>18280</td>\n",
       "      <td>278.0</td>\n",
       "      <td>10</td>\n",
       "      <td>180.60</td>\n",
       "    </tr>\n",
       "    <tr>\n",
       "      <th>4335</th>\n",
       "      <td>18281</td>\n",
       "      <td>181.0</td>\n",
       "      <td>7</td>\n",
       "      <td>80.82</td>\n",
       "    </tr>\n",
       "    <tr>\n",
       "      <th>4336</th>\n",
       "      <td>18282</td>\n",
       "      <td>8.0</td>\n",
       "      <td>12</td>\n",
       "      <td>178.05</td>\n",
       "    </tr>\n",
       "    <tr>\n",
       "      <th>4337</th>\n",
       "      <td>18283</td>\n",
       "      <td>4.0</td>\n",
       "      <td>721</td>\n",
       "      <td>2045.53</td>\n",
       "    </tr>\n",
       "    <tr>\n",
       "      <th>4338</th>\n",
       "      <td>18287</td>\n",
       "      <td>43.0</td>\n",
       "      <td>70</td>\n",
       "      <td>1837.28</td>\n",
       "    </tr>\n",
       "  </tbody>\n",
       "</table>\n",
       "<p>4339 rows × 4 columns</p>\n",
       "</div>"
      ],
      "text/plain": [
       "      CustomerID  recency  frequency  monetary\n",
       "0          12346    326.0          1  77183.60\n",
       "1          12347      2.0        182   4310.00\n",
       "2          12348     75.0         31   1797.24\n",
       "3          12349     19.0         73   1757.55\n",
       "4          12350    310.0         17    334.40\n",
       "...          ...      ...        ...       ...\n",
       "4334       18280    278.0         10    180.60\n",
       "4335       18281    181.0          7     80.82\n",
       "4336       18282      8.0         12    178.05\n",
       "4337       18283      4.0        721   2045.53\n",
       "4338       18287     43.0         70   1837.28\n",
       "\n",
       "[4339 rows x 4 columns]"
      ]
     },
     "execution_count": 120,
     "metadata": {},
     "output_type": "execute_result"
    }
   ],
   "source": [
    "rfm_table"
   ]
  },
  {
   "cell_type": "code",
   "execution_count": null,
   "id": "40e80bbe",
   "metadata": {},
   "outputs": [],
   "source": []
  },
  {
   "cell_type": "code",
   "execution_count": null,
   "id": "cf1dc185",
   "metadata": {},
   "outputs": [],
   "source": []
  },
  {
   "cell_type": "code",
   "execution_count": null,
   "id": "d0b4a7e4",
   "metadata": {},
   "outputs": [],
   "source": []
  },
  {
   "cell_type": "code",
   "execution_count": 121,
   "id": "217da6e8",
   "metadata": {},
   "outputs": [
    {
     "data": {
      "text/html": [
       "<div>\n",
       "<style scoped>\n",
       "    .dataframe tbody tr th:only-of-type {\n",
       "        vertical-align: middle;\n",
       "    }\n",
       "\n",
       "    .dataframe tbody tr th {\n",
       "        vertical-align: top;\n",
       "    }\n",
       "\n",
       "    .dataframe thead th {\n",
       "        text-align: right;\n",
       "    }\n",
       "</style>\n",
       "<table border=\"1\" class=\"dataframe\">\n",
       "  <thead>\n",
       "    <tr style=\"text-align: right;\">\n",
       "      <th></th>\n",
       "      <th>CustomerID</th>\n",
       "      <th>recency</th>\n",
       "      <th>frequency</th>\n",
       "      <th>monetary</th>\n",
       "    </tr>\n",
       "  </thead>\n",
       "  <tbody>\n",
       "    <tr>\n",
       "      <th>count</th>\n",
       "      <td>4339.000000</td>\n",
       "      <td>4339.000000</td>\n",
       "      <td>4339.000000</td>\n",
       "      <td>4.339000e+03</td>\n",
       "    </tr>\n",
       "    <tr>\n",
       "      <th>mean</th>\n",
       "      <td>15299.936852</td>\n",
       "      <td>92.513482</td>\n",
       "      <td>121.234386</td>\n",
       "      <td>2.452664e+03</td>\n",
       "    </tr>\n",
       "    <tr>\n",
       "      <th>std</th>\n",
       "      <td>1721.889758</td>\n",
       "      <td>100.013669</td>\n",
       "      <td>2035.172529</td>\n",
       "      <td>2.809307e+04</td>\n",
       "    </tr>\n",
       "    <tr>\n",
       "      <th>min</th>\n",
       "      <td>12346.000000</td>\n",
       "      <td>1.000000</td>\n",
       "      <td>1.000000</td>\n",
       "      <td>0.000000e+00</td>\n",
       "    </tr>\n",
       "    <tr>\n",
       "      <th>25%</th>\n",
       "      <td>13812.500000</td>\n",
       "      <td>18.000000</td>\n",
       "      <td>17.000000</td>\n",
       "      <td>3.064550e+02</td>\n",
       "    </tr>\n",
       "    <tr>\n",
       "      <th>50%</th>\n",
       "      <td>15299.000000</td>\n",
       "      <td>51.000000</td>\n",
       "      <td>41.000000</td>\n",
       "      <td>6.685800e+02</td>\n",
       "    </tr>\n",
       "    <tr>\n",
       "      <th>75%</th>\n",
       "      <td>16778.500000</td>\n",
       "      <td>142.000000</td>\n",
       "      <td>98.000000</td>\n",
       "      <td>1.660890e+03</td>\n",
       "    </tr>\n",
       "    <tr>\n",
       "      <th>max</th>\n",
       "      <td>18287.000000</td>\n",
       "      <td>374.000000</td>\n",
       "      <td>133324.000000</td>\n",
       "      <td>1.755389e+06</td>\n",
       "    </tr>\n",
       "  </tbody>\n",
       "</table>\n",
       "</div>"
      ],
      "text/plain": [
       "         CustomerID      recency      frequency      monetary\n",
       "count   4339.000000  4339.000000    4339.000000  4.339000e+03\n",
       "mean   15299.936852    92.513482     121.234386  2.452664e+03\n",
       "std     1721.889758   100.013669    2035.172529  2.809307e+04\n",
       "min    12346.000000     1.000000       1.000000  0.000000e+00\n",
       "25%    13812.500000    18.000000      17.000000  3.064550e+02\n",
       "50%    15299.000000    51.000000      41.000000  6.685800e+02\n",
       "75%    16778.500000   142.000000      98.000000  1.660890e+03\n",
       "max    18287.000000   374.000000  133324.000000  1.755389e+06"
      ]
     },
     "execution_count": 121,
     "metadata": {},
     "output_type": "execute_result"
    }
   ],
   "source": [
    "rfm_table.describe()"
   ]
  },
  {
   "cell_type": "code",
   "execution_count": 122,
   "id": "7683f154",
   "metadata": {},
   "outputs": [],
   "source": [
    "rfm_table.set_index('CustomerID',inplace=True)"
   ]
  },
  {
   "cell_type": "code",
   "execution_count": 123,
   "id": "21d38dda",
   "metadata": {},
   "outputs": [
    {
     "data": {
      "text/html": [
       "<div>\n",
       "<style scoped>\n",
       "    .dataframe tbody tr th:only-of-type {\n",
       "        vertical-align: middle;\n",
       "    }\n",
       "\n",
       "    .dataframe tbody tr th {\n",
       "        vertical-align: top;\n",
       "    }\n",
       "\n",
       "    .dataframe thead th {\n",
       "        text-align: right;\n",
       "    }\n",
       "</style>\n",
       "<table border=\"1\" class=\"dataframe\">\n",
       "  <thead>\n",
       "    <tr style=\"text-align: right;\">\n",
       "      <th></th>\n",
       "      <th>recency</th>\n",
       "      <th>frequency</th>\n",
       "      <th>monetary</th>\n",
       "    </tr>\n",
       "    <tr>\n",
       "      <th>CustomerID</th>\n",
       "      <th></th>\n",
       "      <th></th>\n",
       "      <th></th>\n",
       "    </tr>\n",
       "  </thead>\n",
       "  <tbody>\n",
       "    <tr>\n",
       "      <th>12346</th>\n",
       "      <td>326.0</td>\n",
       "      <td>1</td>\n",
       "      <td>77183.60</td>\n",
       "    </tr>\n",
       "    <tr>\n",
       "      <th>12347</th>\n",
       "      <td>2.0</td>\n",
       "      <td>182</td>\n",
       "      <td>4310.00</td>\n",
       "    </tr>\n",
       "    <tr>\n",
       "      <th>12348</th>\n",
       "      <td>75.0</td>\n",
       "      <td>31</td>\n",
       "      <td>1797.24</td>\n",
       "    </tr>\n",
       "    <tr>\n",
       "      <th>12349</th>\n",
       "      <td>19.0</td>\n",
       "      <td>73</td>\n",
       "      <td>1757.55</td>\n",
       "    </tr>\n",
       "    <tr>\n",
       "      <th>12350</th>\n",
       "      <td>310.0</td>\n",
       "      <td>17</td>\n",
       "      <td>334.40</td>\n",
       "    </tr>\n",
       "    <tr>\n",
       "      <th>...</th>\n",
       "      <td>...</td>\n",
       "      <td>...</td>\n",
       "      <td>...</td>\n",
       "    </tr>\n",
       "    <tr>\n",
       "      <th>18280</th>\n",
       "      <td>278.0</td>\n",
       "      <td>10</td>\n",
       "      <td>180.60</td>\n",
       "    </tr>\n",
       "    <tr>\n",
       "      <th>18281</th>\n",
       "      <td>181.0</td>\n",
       "      <td>7</td>\n",
       "      <td>80.82</td>\n",
       "    </tr>\n",
       "    <tr>\n",
       "      <th>18282</th>\n",
       "      <td>8.0</td>\n",
       "      <td>12</td>\n",
       "      <td>178.05</td>\n",
       "    </tr>\n",
       "    <tr>\n",
       "      <th>18283</th>\n",
       "      <td>4.0</td>\n",
       "      <td>721</td>\n",
       "      <td>2045.53</td>\n",
       "    </tr>\n",
       "    <tr>\n",
       "      <th>18287</th>\n",
       "      <td>43.0</td>\n",
       "      <td>70</td>\n",
       "      <td>1837.28</td>\n",
       "    </tr>\n",
       "  </tbody>\n",
       "</table>\n",
       "<p>4339 rows × 3 columns</p>\n",
       "</div>"
      ],
      "text/plain": [
       "            recency  frequency  monetary\n",
       "CustomerID                              \n",
       "12346         326.0          1  77183.60\n",
       "12347           2.0        182   4310.00\n",
       "12348          75.0         31   1797.24\n",
       "12349          19.0         73   1757.55\n",
       "12350         310.0         17    334.40\n",
       "...             ...        ...       ...\n",
       "18280         278.0         10    180.60\n",
       "18281         181.0          7     80.82\n",
       "18282           8.0         12    178.05\n",
       "18283           4.0        721   2045.53\n",
       "18287          43.0         70   1837.28\n",
       "\n",
       "[4339 rows x 3 columns]"
      ]
     },
     "execution_count": 123,
     "metadata": {},
     "output_type": "execute_result"
    }
   ],
   "source": [
    "rfm_table"
   ]
  },
  {
   "cell_type": "code",
   "execution_count": null,
   "id": "caab77ba",
   "metadata": {},
   "outputs": [],
   "source": []
  },
  {
   "cell_type": "code",
   "execution_count": 124,
   "id": "8bf59c65",
   "metadata": {},
   "outputs": [],
   "source": [
    "# copy rfm table for further analysis\n",
    "\n",
    "rfm_table_copy=rfm_table.copy()"
   ]
  },
  {
   "cell_type": "code",
   "execution_count": 125,
   "id": "2758817b",
   "metadata": {},
   "outputs": [],
   "source": [
    "RFM_Table=rfm_table.copy()"
   ]
  },
  {
   "cell_type": "code",
   "execution_count": 126,
   "id": "2d4a8f5c",
   "metadata": {},
   "outputs": [],
   "source": [
    "# Recency - Determine the most recent purchase date of each customer.- \n",
    "\n",
    "# high recency is not a good thing.  means customer coming back to purchase after a longer timer\n",
    "\n",
    "# high frequency determines -more no.number of purchases made by each customer within a specified time period\n",
    "\n",
    "# high monetary is a good idea  FOR BUSINESS PURCHASE  bcz people are spending large amount of money"
   ]
  },
  {
   "cell_type": "code",
   "execution_count": 127,
   "id": "84ba0139",
   "metadata": {},
   "outputs": [],
   "source": [
    "# now make pair like where\n",
    "# recency is low and frequency and monetary is high -- best customer\n",
    "# recency is high and frequency and monetary is low - not a good cusotmer"
   ]
  },
  {
   "cell_type": "code",
   "execution_count": null,
   "id": "e1d465c2",
   "metadata": {},
   "outputs": [],
   "source": []
  },
  {
   "cell_type": "code",
   "execution_count": 128,
   "id": "2d78e89e",
   "metadata": {},
   "outputs": [],
   "source": [
    "# Create labels for R and F segments\n",
    "r_labels = range(4, 0, -1)\n",
    "f_labels = range(1, 5)\n",
    "\n",
    "\n",
    "# Assign labels to R and F segments\n",
    "r_quartiles = pd.qcut(rfm_table['recency'], q=4, labels=r_labels)\n",
    "f_quartiles = pd.qcut(rfm_table['frequency'], q=4, labels=f_labels)\n",
    "\n",
    "\n",
    "# Calculate and add M segments to the RFM table\n",
    "m_labels = range(1, 5)\n",
    "m_quartiles = pd.qcut(rfm_table['monetary'], q=4, labels=m_labels)"
   ]
  },
  {
   "cell_type": "markdown",
   "id": "86bc9a18",
   "metadata": {},
   "source": [
    "#### for recency ranges like 1(come back after long time) is for wrost and 4(customer come back in regurlar interval of time) is best\n",
    "***\n",
    "\n",
    "#### for frequency ranges 4 is for best (more no.number of purchases made by each customer) and 1 is worst "
   ]
  },
  {
   "cell_type": "code",
   "execution_count": 129,
   "id": "4d16f7ee",
   "metadata": {},
   "outputs": [],
   "source": [
    "# in recency 1 is given for a person with more no. od days gap,  and 4 is given to person which has less no. of gap"
   ]
  },
  {
   "cell_type": "code",
   "execution_count": 130,
   "id": "fcea352f",
   "metadata": {},
   "outputs": [],
   "source": [
    "# Add R , F  and M segments to the RFM table\n",
    "\n",
    "#assign - Returns a new object with all original columns in addition to new ones. Existing columns that are re-assigned will be overwritten.\n",
    "\n",
    "rfm_table = rfm_table.assign(R=r_quartiles, F=f_quartiles, M=m_quartiles)"
   ]
  },
  {
   "cell_type": "code",
   "execution_count": null,
   "id": "dbb7843f",
   "metadata": {},
   "outputs": [],
   "source": []
  },
  {
   "cell_type": "code",
   "execution_count": 131,
   "id": "73da6740",
   "metadata": {},
   "outputs": [
    {
     "data": {
      "text/html": [
       "<div>\n",
       "<style scoped>\n",
       "    .dataframe tbody tr th:only-of-type {\n",
       "        vertical-align: middle;\n",
       "    }\n",
       "\n",
       "    .dataframe tbody tr th {\n",
       "        vertical-align: top;\n",
       "    }\n",
       "\n",
       "    .dataframe thead th {\n",
       "        text-align: right;\n",
       "    }\n",
       "</style>\n",
       "<table border=\"1\" class=\"dataframe\">\n",
       "  <thead>\n",
       "    <tr style=\"text-align: right;\">\n",
       "      <th></th>\n",
       "      <th>recency</th>\n",
       "      <th>frequency</th>\n",
       "      <th>monetary</th>\n",
       "      <th>R</th>\n",
       "      <th>F</th>\n",
       "      <th>M</th>\n",
       "    </tr>\n",
       "    <tr>\n",
       "      <th>CustomerID</th>\n",
       "      <th></th>\n",
       "      <th></th>\n",
       "      <th></th>\n",
       "      <th></th>\n",
       "      <th></th>\n",
       "      <th></th>\n",
       "    </tr>\n",
       "  </thead>\n",
       "  <tbody>\n",
       "    <tr>\n",
       "      <th>12346</th>\n",
       "      <td>326.0</td>\n",
       "      <td>1</td>\n",
       "      <td>77183.60</td>\n",
       "      <td>1</td>\n",
       "      <td>1</td>\n",
       "      <td>4</td>\n",
       "    </tr>\n",
       "    <tr>\n",
       "      <th>12347</th>\n",
       "      <td>2.0</td>\n",
       "      <td>182</td>\n",
       "      <td>4310.00</td>\n",
       "      <td>4</td>\n",
       "      <td>4</td>\n",
       "      <td>4</td>\n",
       "    </tr>\n",
       "    <tr>\n",
       "      <th>12348</th>\n",
       "      <td>75.0</td>\n",
       "      <td>31</td>\n",
       "      <td>1797.24</td>\n",
       "      <td>2</td>\n",
       "      <td>2</td>\n",
       "      <td>4</td>\n",
       "    </tr>\n",
       "    <tr>\n",
       "      <th>12349</th>\n",
       "      <td>19.0</td>\n",
       "      <td>73</td>\n",
       "      <td>1757.55</td>\n",
       "      <td>3</td>\n",
       "      <td>3</td>\n",
       "      <td>4</td>\n",
       "    </tr>\n",
       "    <tr>\n",
       "      <th>12350</th>\n",
       "      <td>310.0</td>\n",
       "      <td>17</td>\n",
       "      <td>334.40</td>\n",
       "      <td>1</td>\n",
       "      <td>1</td>\n",
       "      <td>2</td>\n",
       "    </tr>\n",
       "  </tbody>\n",
       "</table>\n",
       "</div>"
      ],
      "text/plain": [
       "            recency  frequency  monetary  R  F  M\n",
       "CustomerID                                       \n",
       "12346         326.0          1  77183.60  1  1  4\n",
       "12347           2.0        182   4310.00  4  4  4\n",
       "12348          75.0         31   1797.24  2  2  4\n",
       "12349          19.0         73   1757.55  3  3  4\n",
       "12350         310.0         17    334.40  1  1  2"
      ]
     },
     "execution_count": 131,
     "metadata": {},
     "output_type": "execute_result"
    }
   ],
   "source": [
    "rfm_table.head()"
   ]
  },
  {
   "cell_type": "code",
   "execution_count": 132,
   "id": "90912890",
   "metadata": {},
   "outputs": [],
   "source": [
    "\n",
    "# Combine RFM segments to create RFM score\n",
    "\n",
    "rfm_table['RFM_Score'] = rfm_table['R'].astype(str) + rfm_table['F'].astype(str) + rfm_table['M'].astype(str)"
   ]
  },
  {
   "cell_type": "code",
   "execution_count": 133,
   "id": "6d96a15b",
   "metadata": {},
   "outputs": [
    {
     "data": {
      "text/html": [
       "<div>\n",
       "<style scoped>\n",
       "    .dataframe tbody tr th:only-of-type {\n",
       "        vertical-align: middle;\n",
       "    }\n",
       "\n",
       "    .dataframe tbody tr th {\n",
       "        vertical-align: top;\n",
       "    }\n",
       "\n",
       "    .dataframe thead th {\n",
       "        text-align: right;\n",
       "    }\n",
       "</style>\n",
       "<table border=\"1\" class=\"dataframe\">\n",
       "  <thead>\n",
       "    <tr style=\"text-align: right;\">\n",
       "      <th></th>\n",
       "      <th>recency</th>\n",
       "      <th>frequency</th>\n",
       "      <th>monetary</th>\n",
       "      <th>R</th>\n",
       "      <th>F</th>\n",
       "      <th>M</th>\n",
       "      <th>RFM_Score</th>\n",
       "    </tr>\n",
       "    <tr>\n",
       "      <th>CustomerID</th>\n",
       "      <th></th>\n",
       "      <th></th>\n",
       "      <th></th>\n",
       "      <th></th>\n",
       "      <th></th>\n",
       "      <th></th>\n",
       "      <th></th>\n",
       "    </tr>\n",
       "  </thead>\n",
       "  <tbody>\n",
       "    <tr>\n",
       "      <th>12346</th>\n",
       "      <td>326.0</td>\n",
       "      <td>1</td>\n",
       "      <td>77183.60</td>\n",
       "      <td>1</td>\n",
       "      <td>1</td>\n",
       "      <td>4</td>\n",
       "      <td>114</td>\n",
       "    </tr>\n",
       "    <tr>\n",
       "      <th>12347</th>\n",
       "      <td>2.0</td>\n",
       "      <td>182</td>\n",
       "      <td>4310.00</td>\n",
       "      <td>4</td>\n",
       "      <td>4</td>\n",
       "      <td>4</td>\n",
       "      <td>444</td>\n",
       "    </tr>\n",
       "    <tr>\n",
       "      <th>12348</th>\n",
       "      <td>75.0</td>\n",
       "      <td>31</td>\n",
       "      <td>1797.24</td>\n",
       "      <td>2</td>\n",
       "      <td>2</td>\n",
       "      <td>4</td>\n",
       "      <td>224</td>\n",
       "    </tr>\n",
       "    <tr>\n",
       "      <th>12349</th>\n",
       "      <td>19.0</td>\n",
       "      <td>73</td>\n",
       "      <td>1757.55</td>\n",
       "      <td>3</td>\n",
       "      <td>3</td>\n",
       "      <td>4</td>\n",
       "      <td>334</td>\n",
       "    </tr>\n",
       "    <tr>\n",
       "      <th>12350</th>\n",
       "      <td>310.0</td>\n",
       "      <td>17</td>\n",
       "      <td>334.40</td>\n",
       "      <td>1</td>\n",
       "      <td>1</td>\n",
       "      <td>2</td>\n",
       "      <td>112</td>\n",
       "    </tr>\n",
       "    <tr>\n",
       "      <th>...</th>\n",
       "      <td>...</td>\n",
       "      <td>...</td>\n",
       "      <td>...</td>\n",
       "      <td>...</td>\n",
       "      <td>...</td>\n",
       "      <td>...</td>\n",
       "      <td>...</td>\n",
       "    </tr>\n",
       "    <tr>\n",
       "      <th>18280</th>\n",
       "      <td>278.0</td>\n",
       "      <td>10</td>\n",
       "      <td>180.60</td>\n",
       "      <td>1</td>\n",
       "      <td>1</td>\n",
       "      <td>1</td>\n",
       "      <td>111</td>\n",
       "    </tr>\n",
       "    <tr>\n",
       "      <th>18281</th>\n",
       "      <td>181.0</td>\n",
       "      <td>7</td>\n",
       "      <td>80.82</td>\n",
       "      <td>1</td>\n",
       "      <td>1</td>\n",
       "      <td>1</td>\n",
       "      <td>111</td>\n",
       "    </tr>\n",
       "    <tr>\n",
       "      <th>18282</th>\n",
       "      <td>8.0</td>\n",
       "      <td>12</td>\n",
       "      <td>178.05</td>\n",
       "      <td>4</td>\n",
       "      <td>1</td>\n",
       "      <td>1</td>\n",
       "      <td>411</td>\n",
       "    </tr>\n",
       "    <tr>\n",
       "      <th>18283</th>\n",
       "      <td>4.0</td>\n",
       "      <td>721</td>\n",
       "      <td>2045.53</td>\n",
       "      <td>4</td>\n",
       "      <td>4</td>\n",
       "      <td>4</td>\n",
       "      <td>444</td>\n",
       "    </tr>\n",
       "    <tr>\n",
       "      <th>18287</th>\n",
       "      <td>43.0</td>\n",
       "      <td>70</td>\n",
       "      <td>1837.28</td>\n",
       "      <td>3</td>\n",
       "      <td>3</td>\n",
       "      <td>4</td>\n",
       "      <td>334</td>\n",
       "    </tr>\n",
       "  </tbody>\n",
       "</table>\n",
       "<p>4339 rows × 7 columns</p>\n",
       "</div>"
      ],
      "text/plain": [
       "            recency  frequency  monetary  R  F  M RFM_Score\n",
       "CustomerID                                                 \n",
       "12346         326.0          1  77183.60  1  1  4       114\n",
       "12347           2.0        182   4310.00  4  4  4       444\n",
       "12348          75.0         31   1797.24  2  2  4       224\n",
       "12349          19.0         73   1757.55  3  3  4       334\n",
       "12350         310.0         17    334.40  1  1  2       112\n",
       "...             ...        ...       ... .. .. ..       ...\n",
       "18280         278.0         10    180.60  1  1  1       111\n",
       "18281         181.0          7     80.82  1  1  1       111\n",
       "18282           8.0         12    178.05  4  1  1       411\n",
       "18283           4.0        721   2045.53  4  4  4       444\n",
       "18287          43.0         70   1837.28  3  3  4       334\n",
       "\n",
       "[4339 rows x 7 columns]"
      ]
     },
     "execution_count": 133,
     "metadata": {},
     "output_type": "execute_result"
    }
   ],
   "source": [
    "rfm_table"
   ]
  },
  {
   "cell_type": "code",
   "execution_count": 134,
   "id": "23639459",
   "metadata": {},
   "outputs": [],
   "source": [
    "# making pair\n",
    "\n",
    "# recency start with 4  are the best customer -- coming on the regular bases\n",
    "# recency start with 1 are the lost customer -- visited long time ago\n",
    "\n",
    "\n",
    "# frequency start with 4 are the best customer -- more no.number of purchases made by each customer within a specified time period\n",
    "# frequency start with 1 are the those customer - who purchse very less no. of item\n",
    "\n",
    "\n",
    "# monetary start with 4 are the customer - who spend a lot of money \n",
    "# monetary stary with 1 are the customer - who spend less amount of money\n",
    "\n",
    "\n",
    "# customer with RFM = 444 -- means - those customer who are visited on regualr bases, purchase more no. of item and spend more\n",
    "# customer with 111,112 - means lost customer -- visted long back ago, less purchase and less amount spend\n",
    "\n",
    "\n",
    "\n"
   ]
  },
  {
   "cell_type": "code",
   "execution_count": 135,
   "id": "acbe3984",
   "metadata": {},
   "outputs": [],
   "source": [
    "# Define function to create custom segments\n",
    "def rfm_segment(row):\n",
    "    rfm_score = row['RFM_Score']\n",
    "    if rfm_score in ['444', '443', '434', '433']:\n",
    "        return 'Best Customers '\n",
    "    \n",
    "    elif rfm_score in ['334', '343', '344','333','332','322']:\n",
    "        return 'Loyal Customers '\n",
    "    \n",
    "    elif rfm_score in ['111', '112','124', '123', '122', '113', '114', '104', '103', '102']:\n",
    "        return 'Churned Customers'\n",
    "    \n",
    "    elif rfm_score in ['211', '212', '221', '222', '231', '232', '241', '242','322']:\n",
    "        return 'Potential Loyalists'\n",
    "    \n",
    "    elif rfm_score in ['144', '143', '134', '133']:\n",
    "        return 'Big Spenders but amlost lost '\n",
    "    \n",
    "    elif rfm_score in ['244', '243', '233']:\n",
    "        return 'need to focus'\n",
    "    \n",
    "    elif rfm_score in ['424', '423', '414', '413', '404', '403']:\n",
    "        return 'Promising Customers'\n",
    "    \n",
    "    elif rfm_score in ['411','412','422']:\n",
    "        return 'regular Customers'\n",
    "    \n",
    "    else:\n",
    "        return 'Needs Attention'"
   ]
  },
  {
   "cell_type": "code",
   "execution_count": null,
   "id": "675ae504",
   "metadata": {},
   "outputs": [],
   "source": []
  },
  {
   "cell_type": "code",
   "execution_count": 136,
   "id": "03565f3a",
   "metadata": {},
   "outputs": [],
   "source": [
    "# Add custom segments to the RFM table\n",
    "rfm_table['Segment'] = rfm_table.apply(rfm_segment, axis=1)\n",
    "\n",
    "# Display the RFM table\n",
    "\n"
   ]
  },
  {
   "cell_type": "code",
   "execution_count": 137,
   "id": "e2cde895",
   "metadata": {},
   "outputs": [
    {
     "data": {
      "text/html": [
       "<div>\n",
       "<style scoped>\n",
       "    .dataframe tbody tr th:only-of-type {\n",
       "        vertical-align: middle;\n",
       "    }\n",
       "\n",
       "    .dataframe tbody tr th {\n",
       "        vertical-align: top;\n",
       "    }\n",
       "\n",
       "    .dataframe thead th {\n",
       "        text-align: right;\n",
       "    }\n",
       "</style>\n",
       "<table border=\"1\" class=\"dataframe\">\n",
       "  <thead>\n",
       "    <tr style=\"text-align: right;\">\n",
       "      <th></th>\n",
       "      <th>recency</th>\n",
       "      <th>frequency</th>\n",
       "      <th>monetary</th>\n",
       "      <th>R</th>\n",
       "      <th>F</th>\n",
       "      <th>M</th>\n",
       "      <th>RFM_Score</th>\n",
       "      <th>Segment</th>\n",
       "    </tr>\n",
       "    <tr>\n",
       "      <th>CustomerID</th>\n",
       "      <th></th>\n",
       "      <th></th>\n",
       "      <th></th>\n",
       "      <th></th>\n",
       "      <th></th>\n",
       "      <th></th>\n",
       "      <th></th>\n",
       "      <th></th>\n",
       "    </tr>\n",
       "  </thead>\n",
       "  <tbody>\n",
       "    <tr>\n",
       "      <th>14859</th>\n",
       "      <td>13.0</td>\n",
       "      <td>58</td>\n",
       "      <td>1353.74</td>\n",
       "      <td>4</td>\n",
       "      <td>3</td>\n",
       "      <td>3</td>\n",
       "      <td>433</td>\n",
       "      <td>Best Customers</td>\n",
       "    </tr>\n",
       "    <tr>\n",
       "      <th>15725</th>\n",
       "      <td>15.0</td>\n",
       "      <td>32</td>\n",
       "      <td>415.25</td>\n",
       "      <td>4</td>\n",
       "      <td>2</td>\n",
       "      <td>2</td>\n",
       "      <td>422</td>\n",
       "      <td>regular Customers</td>\n",
       "    </tr>\n",
       "    <tr>\n",
       "      <th>13831</th>\n",
       "      <td>16.0</td>\n",
       "      <td>72</td>\n",
       "      <td>2198.45</td>\n",
       "      <td>4</td>\n",
       "      <td>3</td>\n",
       "      <td>4</td>\n",
       "      <td>434</td>\n",
       "      <td>Best Customers</td>\n",
       "    </tr>\n",
       "    <tr>\n",
       "      <th>16224</th>\n",
       "      <td>57.0</td>\n",
       "      <td>96</td>\n",
       "      <td>1295.30</td>\n",
       "      <td>2</td>\n",
       "      <td>3</td>\n",
       "      <td>3</td>\n",
       "      <td>233</td>\n",
       "      <td>need to focus</td>\n",
       "    </tr>\n",
       "    <tr>\n",
       "      <th>15801</th>\n",
       "      <td>46.0</td>\n",
       "      <td>64</td>\n",
       "      <td>1063.95</td>\n",
       "      <td>3</td>\n",
       "      <td>3</td>\n",
       "      <td>3</td>\n",
       "      <td>333</td>\n",
       "      <td>Loyal Customers</td>\n",
       "    </tr>\n",
       "    <tr>\n",
       "      <th>16940</th>\n",
       "      <td>52.0</td>\n",
       "      <td>305</td>\n",
       "      <td>3049.88</td>\n",
       "      <td>2</td>\n",
       "      <td>4</td>\n",
       "      <td>4</td>\n",
       "      <td>244</td>\n",
       "      <td>need to focus</td>\n",
       "    </tr>\n",
       "    <tr>\n",
       "      <th>15117</th>\n",
       "      <td>15.0</td>\n",
       "      <td>79</td>\n",
       "      <td>1551.78</td>\n",
       "      <td>4</td>\n",
       "      <td>3</td>\n",
       "      <td>3</td>\n",
       "      <td>433</td>\n",
       "      <td>Best Customers</td>\n",
       "    </tr>\n",
       "    <tr>\n",
       "      <th>15500</th>\n",
       "      <td>8.0</td>\n",
       "      <td>68</td>\n",
       "      <td>1131.56</td>\n",
       "      <td>4</td>\n",
       "      <td>3</td>\n",
       "      <td>3</td>\n",
       "      <td>433</td>\n",
       "      <td>Best Customers</td>\n",
       "    </tr>\n",
       "    <tr>\n",
       "      <th>15906</th>\n",
       "      <td>20.0</td>\n",
       "      <td>150</td>\n",
       "      <td>1567.69</td>\n",
       "      <td>3</td>\n",
       "      <td>4</td>\n",
       "      <td>3</td>\n",
       "      <td>343</td>\n",
       "      <td>Loyal Customers</td>\n",
       "    </tr>\n",
       "    <tr>\n",
       "      <th>16182</th>\n",
       "      <td>72.0</td>\n",
       "      <td>28</td>\n",
       "      <td>6617.65</td>\n",
       "      <td>2</td>\n",
       "      <td>2</td>\n",
       "      <td>4</td>\n",
       "      <td>224</td>\n",
       "      <td>Needs Attention</td>\n",
       "    </tr>\n",
       "  </tbody>\n",
       "</table>\n",
       "</div>"
      ],
      "text/plain": [
       "            recency  frequency  monetary  R  F  M RFM_Score            Segment\n",
       "CustomerID                                                                    \n",
       "14859          13.0         58   1353.74  4  3  3       433    Best Customers \n",
       "15725          15.0         32    415.25  4  2  2       422  regular Customers\n",
       "13831          16.0         72   2198.45  4  3  4       434    Best Customers \n",
       "16224          57.0         96   1295.30  2  3  3       233      need to focus\n",
       "15801          46.0         64   1063.95  3  3  3       333   Loyal Customers \n",
       "16940          52.0        305   3049.88  2  4  4       244      need to focus\n",
       "15117          15.0         79   1551.78  4  3  3       433    Best Customers \n",
       "15500           8.0         68   1131.56  4  3  3       433    Best Customers \n",
       "15906          20.0        150   1567.69  3  4  3       343   Loyal Customers \n",
       "16182          72.0         28   6617.65  2  2  4       224    Needs Attention"
      ]
     },
     "execution_count": 137,
     "metadata": {},
     "output_type": "execute_result"
    }
   ],
   "source": [
    "rfm_table.sample(10)"
   ]
  },
  {
   "cell_type": "markdown",
   "id": "30211424",
   "metadata": {},
   "source": [
    "# output"
   ]
  },
  {
   "cell_type": "code",
   "execution_count": 138,
   "id": "9566e81e",
   "metadata": {},
   "outputs": [
    {
     "name": "stdout",
     "output_type": "stream",
     "text": [
      "Best Customers:  450\n",
      "Loyal Customers:  1081\n",
      "Big Spenders:  1085\n",
      "Almost Lost:  103\n",
      "Lost Customers:  22\n",
      "Lost Cheap Customers:  381\n"
     ]
    }
   ],
   "source": [
    "print(\"Best Customers: \",len(rfm_table[rfm_table['RFM_Score']=='444']))\n",
    "\n",
    "print('Loyal Customers: ',len(rfm_table[rfm_table['F']==4]))\n",
    "\n",
    "print(\"Big Spenders: \",len(rfm_table[rfm_table['M']==4]))\n",
    "\n",
    "print('Almost Lost: ', len(rfm_table[rfm_table['RFM_Score']=='244']))\n",
    "\n",
    "print('Lost Customers: ',len(rfm_table[rfm_table['RFM_Score']=='144']))\n",
    "\n",
    "print('Lost Cheap Customers: ',len(rfm_table[rfm_table['RFM_Score']=='111']))"
   ]
  },
  {
   "cell_type": "code",
   "execution_count": null,
   "id": "1d8fda49",
   "metadata": {},
   "outputs": [],
   "source": []
  },
  {
   "cell_type": "code",
   "execution_count": null,
   "id": "934659de",
   "metadata": {},
   "outputs": [],
   "source": []
  },
  {
   "cell_type": "markdown",
   "id": "77980ebd",
   "metadata": {},
   "source": [
    "# K-Means method"
   ]
  },
  {
   "cell_type": "code",
   "execution_count": null,
   "id": "8107b7c5",
   "metadata": {},
   "outputs": [],
   "source": []
  },
  {
   "cell_type": "code",
   "execution_count": 148,
   "id": "287473cc",
   "metadata": {},
   "outputs": [
    {
     "data": {
      "text/html": [
       "<div>\n",
       "<style scoped>\n",
       "    .dataframe tbody tr th:only-of-type {\n",
       "        vertical-align: middle;\n",
       "    }\n",
       "\n",
       "    .dataframe tbody tr th {\n",
       "        vertical-align: top;\n",
       "    }\n",
       "\n",
       "    .dataframe thead th {\n",
       "        text-align: right;\n",
       "    }\n",
       "</style>\n",
       "<table border=\"1\" class=\"dataframe\">\n",
       "  <thead>\n",
       "    <tr style=\"text-align: right;\">\n",
       "      <th></th>\n",
       "      <th>recency</th>\n",
       "      <th>frequency</th>\n",
       "      <th>monetary</th>\n",
       "    </tr>\n",
       "    <tr>\n",
       "      <th>CustomerID</th>\n",
       "      <th></th>\n",
       "      <th></th>\n",
       "      <th></th>\n",
       "    </tr>\n",
       "  </thead>\n",
       "  <tbody>\n",
       "    <tr>\n",
       "      <th>12346</th>\n",
       "      <td>326.0</td>\n",
       "      <td>1</td>\n",
       "      <td>77183.60</td>\n",
       "    </tr>\n",
       "    <tr>\n",
       "      <th>12347</th>\n",
       "      <td>2.0</td>\n",
       "      <td>182</td>\n",
       "      <td>4310.00</td>\n",
       "    </tr>\n",
       "    <tr>\n",
       "      <th>12348</th>\n",
       "      <td>75.0</td>\n",
       "      <td>31</td>\n",
       "      <td>1797.24</td>\n",
       "    </tr>\n",
       "    <tr>\n",
       "      <th>12349</th>\n",
       "      <td>19.0</td>\n",
       "      <td>73</td>\n",
       "      <td>1757.55</td>\n",
       "    </tr>\n",
       "    <tr>\n",
       "      <th>12350</th>\n",
       "      <td>310.0</td>\n",
       "      <td>17</td>\n",
       "      <td>334.40</td>\n",
       "    </tr>\n",
       "  </tbody>\n",
       "</table>\n",
       "</div>"
      ],
      "text/plain": [
       "            recency  frequency  monetary\n",
       "CustomerID                              \n",
       "12346         326.0          1  77183.60\n",
       "12347           2.0        182   4310.00\n",
       "12348          75.0         31   1797.24\n",
       "12349          19.0         73   1757.55\n",
       "12350         310.0         17    334.40"
      ]
     },
     "execution_count": 148,
     "metadata": {},
     "output_type": "execute_result"
    }
   ],
   "source": [
    "RFM_Table.head()"
   ]
  },
  {
   "cell_type": "code",
   "execution_count": 149,
   "id": "2f965f99",
   "metadata": {},
   "outputs": [
    {
     "data": {
      "text/html": [
       "<div>\n",
       "<style scoped>\n",
       "    .dataframe tbody tr th:only-of-type {\n",
       "        vertical-align: middle;\n",
       "    }\n",
       "\n",
       "    .dataframe tbody tr th {\n",
       "        vertical-align: top;\n",
       "    }\n",
       "\n",
       "    .dataframe thead th {\n",
       "        text-align: right;\n",
       "    }\n",
       "</style>\n",
       "<table border=\"1\" class=\"dataframe\">\n",
       "  <thead>\n",
       "    <tr style=\"text-align: right;\">\n",
       "      <th></th>\n",
       "      <th>CustomerID</th>\n",
       "      <th>recency</th>\n",
       "      <th>frequency</th>\n",
       "      <th>monetary</th>\n",
       "    </tr>\n",
       "  </thead>\n",
       "  <tbody>\n",
       "    <tr>\n",
       "      <th>0</th>\n",
       "      <td>12346</td>\n",
       "      <td>326.0</td>\n",
       "      <td>1</td>\n",
       "      <td>77183.60</td>\n",
       "    </tr>\n",
       "    <tr>\n",
       "      <th>1</th>\n",
       "      <td>12347</td>\n",
       "      <td>2.0</td>\n",
       "      <td>182</td>\n",
       "      <td>4310.00</td>\n",
       "    </tr>\n",
       "    <tr>\n",
       "      <th>2</th>\n",
       "      <td>12348</td>\n",
       "      <td>75.0</td>\n",
       "      <td>31</td>\n",
       "      <td>1797.24</td>\n",
       "    </tr>\n",
       "    <tr>\n",
       "      <th>3</th>\n",
       "      <td>12349</td>\n",
       "      <td>19.0</td>\n",
       "      <td>73</td>\n",
       "      <td>1757.55</td>\n",
       "    </tr>\n",
       "    <tr>\n",
       "      <th>4</th>\n",
       "      <td>12350</td>\n",
       "      <td>310.0</td>\n",
       "      <td>17</td>\n",
       "      <td>334.40</td>\n",
       "    </tr>\n",
       "    <tr>\n",
       "      <th>...</th>\n",
       "      <td>...</td>\n",
       "      <td>...</td>\n",
       "      <td>...</td>\n",
       "      <td>...</td>\n",
       "    </tr>\n",
       "    <tr>\n",
       "      <th>4334</th>\n",
       "      <td>18280</td>\n",
       "      <td>278.0</td>\n",
       "      <td>10</td>\n",
       "      <td>180.60</td>\n",
       "    </tr>\n",
       "    <tr>\n",
       "      <th>4335</th>\n",
       "      <td>18281</td>\n",
       "      <td>181.0</td>\n",
       "      <td>7</td>\n",
       "      <td>80.82</td>\n",
       "    </tr>\n",
       "    <tr>\n",
       "      <th>4336</th>\n",
       "      <td>18282</td>\n",
       "      <td>8.0</td>\n",
       "      <td>12</td>\n",
       "      <td>178.05</td>\n",
       "    </tr>\n",
       "    <tr>\n",
       "      <th>4337</th>\n",
       "      <td>18283</td>\n",
       "      <td>4.0</td>\n",
       "      <td>721</td>\n",
       "      <td>2045.53</td>\n",
       "    </tr>\n",
       "    <tr>\n",
       "      <th>4338</th>\n",
       "      <td>18287</td>\n",
       "      <td>43.0</td>\n",
       "      <td>70</td>\n",
       "      <td>1837.28</td>\n",
       "    </tr>\n",
       "  </tbody>\n",
       "</table>\n",
       "<p>4339 rows × 4 columns</p>\n",
       "</div>"
      ],
      "text/plain": [
       "      CustomerID  recency  frequency  monetary\n",
       "0          12346    326.0          1  77183.60\n",
       "1          12347      2.0        182   4310.00\n",
       "2          12348     75.0         31   1797.24\n",
       "3          12349     19.0         73   1757.55\n",
       "4          12350    310.0         17    334.40\n",
       "...          ...      ...        ...       ...\n",
       "4334       18280    278.0         10    180.60\n",
       "4335       18281    181.0          7     80.82\n",
       "4336       18282      8.0         12    178.05\n",
       "4337       18283      4.0        721   2045.53\n",
       "4338       18287     43.0         70   1837.28\n",
       "\n",
       "[4339 rows x 4 columns]"
      ]
     },
     "execution_count": 149,
     "metadata": {},
     "output_type": "execute_result"
    }
   ],
   "source": [
    "RFM_Table.reset_index()"
   ]
  },
  {
   "cell_type": "code",
   "execution_count": null,
   "id": "dc48d77a",
   "metadata": {},
   "outputs": [],
   "source": []
  },
  {
   "cell_type": "code",
   "execution_count": 150,
   "id": "c38884d3",
   "metadata": {},
   "outputs": [
    {
     "data": {
      "text/plain": [
       "Text(0.5, 0, 'Attributes')"
      ]
     },
     "execution_count": 150,
     "metadata": {},
     "output_type": "execute_result"
    },
    {
     "data": {
      "image/png": "[encoded data removed]",
      "text/plain": [
       "<Figure size 720x576 with 1 Axes>"
      ]
     },
     "metadata": {
      "needs_background": "light"
     },
     "output_type": "display_data"
    }
   ],
   "source": [
    "# Outlier Analysis of Amount Frequency and Recency\n",
    "\n",
    "attributes = ['recency','frequency','monetary']\n",
    "plt.rcParams['figure.figsize'] = [10,8]\n",
    "sns.boxplot(data = RFM_Table[attributes], orient=\"v\", palette=\"Set2\" ,whis=1.5,saturation=1, width=0.7)\n",
    "plt.title(\"Outliers Variable Distribution\", fontsize = 14, fontweight = 'bold')\n",
    "plt.ylabel(\"Range\", fontweight = 'bold')\n",
    "plt.xlabel(\"Attributes\", fontweight = 'bold')"
   ]
  },
  {
   "cell_type": "code",
   "execution_count": 151,
   "id": "f7283161",
   "metadata": {},
   "outputs": [],
   "source": [
    "# Removing outliers for Recency\n",
    "\n",
    "Q1 = RFM_Table.recency.quantile(0.05)\n",
    "Q3= RFM_Table.recency.quantile(0.95)\n",
    "IQR=(Q3-Q1)\n",
    "RFM_Table = RFM_Table[(RFM_Table.recency >= Q1 - 1.5*IQR) & (RFM_Table.recency <= Q3 + 1.5*IQR)]\n",
    "\n",
    "# Removing outliers for Frequency\n",
    "Q1 = RFM_Table.frequency.quantile(0.05)\n",
    "Q3= RFM_Table.frequency.quantile(0.95)\n",
    "IQR=(Q3-Q1)\n",
    "RFM_Table = RFM_Table[(RFM_Table.frequency >= Q1 - 1.5*IQR) & (RFM_Table.frequency <= Q3 + 1.5*IQR)]\n",
    "\n",
    "# removing outliers for monetary\n",
    "\n",
    "Q1 = RFM_Table.monetary.quantile(0.05)\n",
    "Q3= RFM_Table.monetary.quantile(0.95)\n",
    "IQR=(Q3-Q1)\n",
    "RFM_Table = RFM_Table[(RFM_Table.monetary >= Q1 - 1.5*IQR) & (RFM_Table.monetary <= Q3 + 1.5*IQR)]\n",
    "\n"
   ]
  },
  {
   "cell_type": "code",
   "execution_count": 152,
   "id": "08c1b098",
   "metadata": {},
   "outputs": [
    {
     "data": {
      "text/plain": [
       "(4255, 3)"
      ]
     },
     "execution_count": 152,
     "metadata": {},
     "output_type": "execute_result"
    }
   ],
   "source": [
    "RFM_Table.shape\n",
    "\n",
    "\n",
    "# after removing outlier of quantile 5% and 95%  , out of 4339  rows,  we have 4255 rows remaning"
   ]
  },
  {
   "cell_type": "code",
   "execution_count": null,
   "id": "13a7b5d7",
   "metadata": {},
   "outputs": [],
   "source": []
  },
  {
   "cell_type": "code",
   "execution_count": 153,
   "id": "3818725b",
   "metadata": {},
   "outputs": [],
   "source": [
    "from sklearn.cluster import KMeans\n",
    "from sklearn.preprocessing import StandardScaler\n",
    "from sklearn.metrics import silhouette_score"
   ]
  },
  {
   "cell_type": "code",
   "execution_count": 154,
   "id": "fbe344b7",
   "metadata": {},
   "outputs": [],
   "source": [
    "rfm_new_df=RFM_Table[['recency', 'frequency', 'monetary']]"
   ]
  },
  {
   "cell_type": "code",
   "execution_count": 155,
   "id": "9bb6622e",
   "metadata": {},
   "outputs": [
    {
     "data": {
      "text/plain": [
       "(4255, 3)"
      ]
     },
     "execution_count": 155,
     "metadata": {},
     "output_type": "execute_result"
    }
   ],
   "source": [
    "# Instantiate\n",
    "scaler = StandardScaler()\n",
    "\n",
    "# fit_transform\n",
    "rfm_df_scaled = scaler.fit_transform(rfm_new_df)\n",
    "rfm_df_scaled.shape"
   ]
  },
  {
   "cell_type": "code",
   "execution_count": 156,
   "id": "992ae90b",
   "metadata": {},
   "outputs": [
    {
     "data": {
      "text/html": [
       "<div>\n",
       "<style scoped>\n",
       "    .dataframe tbody tr th:only-of-type {\n",
       "        vertical-align: middle;\n",
       "    }\n",
       "\n",
       "    .dataframe tbody tr th {\n",
       "        vertical-align: top;\n",
       "    }\n",
       "\n",
       "    .dataframe thead th {\n",
       "        text-align: right;\n",
       "    }\n",
       "</style>\n",
       "<table border=\"1\" class=\"dataframe\">\n",
       "  <thead>\n",
       "    <tr style=\"text-align: right;\">\n",
       "      <th></th>\n",
       "      <th>Recency</th>\n",
       "      <th>Frequency</th>\n",
       "      <th>Monetary</th>\n",
       "    </tr>\n",
       "  </thead>\n",
       "  <tbody>\n",
       "    <tr>\n",
       "      <th>0</th>\n",
       "      <td>-0.918166</td>\n",
       "      <td>1.084329</td>\n",
       "      <td>1.692087</td>\n",
       "    </tr>\n",
       "    <tr>\n",
       "      <th>1</th>\n",
       "      <td>-0.189629</td>\n",
       "      <td>-0.455521</td>\n",
       "      <td>0.276173</td>\n",
       "    </tr>\n",
       "    <tr>\n",
       "      <th>2</th>\n",
       "      <td>-0.748507</td>\n",
       "      <td>-0.027219</td>\n",
       "      <td>0.253808</td>\n",
       "    </tr>\n",
       "    <tr>\n",
       "      <th>3</th>\n",
       "      <td>2.155663</td>\n",
       "      <td>-0.598289</td>\n",
       "      <td>-0.548122</td>\n",
       "    </tr>\n",
       "    <tr>\n",
       "      <th>4</th>\n",
       "      <td>-0.578847</td>\n",
       "      <td>0.095154</td>\n",
       "      <td>0.675574</td>\n",
       "    </tr>\n",
       "  </tbody>\n",
       "</table>\n",
       "</div>"
      ],
      "text/plain": [
       "    Recency  Frequency  Monetary\n",
       "0 -0.918166   1.084329  1.692087\n",
       "1 -0.189629  -0.455521  0.276173\n",
       "2 -0.748507  -0.027219  0.253808\n",
       "3  2.155663  -0.598289 -0.548122\n",
       "4 -0.578847   0.095154  0.675574"
      ]
     },
     "execution_count": 156,
     "metadata": {},
     "output_type": "execute_result"
    }
   ],
   "source": [
    "rfm_df_scaled=pd.DataFrame(rfm_df_scaled)\n",
    "\n",
    "rfm_df_scaled.columns = ['Recency', 'Frequency', 'Monetary']\n",
    "rfm_df_scaled.head()"
   ]
  },
  {
   "cell_type": "code",
   "execution_count": null,
   "id": "f45f4ed3",
   "metadata": {},
   "outputs": [],
   "source": []
  },
  {
   "cell_type": "markdown",
   "id": "032be263",
   "metadata": {},
   "source": [
    "# Elbow method\n",
    "\n",
    "- The Elbow method is a technique used to determine the optimal number of clusters in a dataset for a clustering algorithm. It is a heuristic approach that involves plotting the within-cluster sum of squares (WCSS) as a function of the number of clusters, and then selecting the number of clusters at the \"elbow\" of the curve.\n",
    "\n",
    " - The WCSS measures the total squared distance between each point and its assigned cluster center, and is calculated as the sum of the squared distances for all points in all clusters. The WCSS decreases as the number of clusters increases, because with more clusters, each point is closer to its assigned cluster center. However, adding too many clusters can result in overfitting and reduced interpretability of the clusters.\n",
    "\n",
    " - To use the Elbow method, we plot the WCSS as a function of the number of clusters. The resulting curve typically looks like an arm, hence the name \"Elbow\" method. The idea is to choose the number of clusters at the \"elbow\" of the curve, which is the point of diminishing returns where adding more clusters does not lead to a significant decrease in the WCSS.\n",
    "\n",
    " - In practice, the choice of the number of clusters is often somewhat subjective, and depends on the specific problem and goals of the analysis. However, the Elbow method provides a useful heuristic for selecting an appropriate number of clusters."
   ]
  },
  {
   "cell_type": "code",
   "execution_count": null,
   "id": "a6969eef",
   "metadata": {},
   "outputs": [],
   "source": []
  },
  {
   "cell_type": "markdown",
   "id": "7e206df6",
   "metadata": {},
   "source": [
    "# Silhouette score\n",
    "\n",
    " - **Silhouette score** is a metric used to measure the quality of a clustering solution. It quantifies how well each data point fits into its assigned cluster based on two measures:\n",
    "***\n",
    " - **Cohesion:** the average distance between a data point and all other points in the same cluster.\n",
    "\n",
    " - **Separation:** the average distance between a data point in one cluster and all data points in the nearest neighboring cluster.\n",
    "\n",
    "***\n",
    " - The silhouette score ranges from -1 to 1, where a score closer to 1 indicates a better clustering solution. A score of 0 indicates that the data point is on the boundary between two clusters, and a score of -1 indicates that the data point is assigned to the wrong cluster.\n",
    "\n",
    " - In general, a higher silhouette score indicates that the clustering solution is more appropriate for the data. However, the optimal value for the silhouette score can vary depending on the specific problem and data set.\n",
    "\n",
    " - The silhouette score can be calculated using the silhouette_score function from the scikit-learn library in Python. In the context of k-means clustering, the silhouette score can be used to determine the optimal number of clusters, by comparing the scores for different values of k and selecting the value that maximizes the score."
   ]
  },
  {
   "cell_type": "code",
   "execution_count": null,
   "id": "90638081",
   "metadata": {},
   "outputs": [],
   "source": []
  },
  {
   "cell_type": "markdown",
   "id": "64f9a7ac",
   "metadata": {},
   "source": [
    "# K-means++\n",
    "\n",
    " - Place the initial centroids far away from each other via the k-means++ algorithm, which leads to better and more consistent results than the classic k-means.\n",
    " - To use k-means++ with scikit-learn's KMeans object, we just need to set the init parameter to k-means++ (the default setting) instead of random."
   ]
  },
  {
   "cell_type": "code",
   "execution_count": null,
   "id": "d8d31167",
   "metadata": {},
   "outputs": [],
   "source": []
  },
  {
   "cell_type": "code",
   "execution_count": 157,
   "id": "5a1bbee3",
   "metadata": {},
   "outputs": [
    {
     "name": "stdout",
     "output_type": "stream",
     "text": [
      "For n_clusters=39, the silhouette score is [0.5423386323002756, 0.5088781822656095, 0.4815600076545586, 0.46872944419167767, 0.41670428853741975, 0.4152682272117974, 0.40229343246646976, 0.3729458251241511, 0.3794623776897977, 0.3435357268250051, 0.3231631083074592, 0.32323059044028024, 0.31850390882709195, 0.3292550159763165, 0.33181800817888685, 0.33521972727106814, 0.32057727125551, 0.3225861249577001, 0.3217411039150524, 0.3146722541155939, 0.3157498867602806, 0.3177070343841942, 0.3181856577382071, 0.31334806617012395, 0.3152825541992613, 0.3096910135409705, 0.3077501384539852, 0.308280532760447, 0.3006738950852724, 0.3048268713809983, 0.3128386206060266, 0.3178430949868562, 0.298909652508522, 0.30388833719926, 0.29503158868107326, 0.30022728365367224, 0.2931024846315178, 0.2914233818644575]\n"
     ]
    }
   ],
   "source": [
    "# Determine the optimal number of clusters\n",
    "wcss = []\n",
    "silhouette_scores = []\n",
    "for i in range(2, 40):\n",
    "    kmeans = KMeans(n_clusters=i, init='k-means++', random_state=42)\n",
    "    kmeans.fit(rfm_df_scaled)\n",
    "    wcss.append(kmeans.inertia_)\n",
    "    silhouette_scores.append(silhouette_score(rfm_df_scaled, kmeans.labels_))\n",
    "    \n",
    "print(\"For n_clusters={0}, the silhouette score is {1}\".format(i, silhouette_scores))\n",
    "    \n"
   ]
  },
  {
   "cell_type": "code",
   "execution_count": 158,
   "id": "79130b17",
   "metadata": {},
   "outputs": [
    {
     "data": {
      "image/png": "[encoded data removed]",
      "text/plain": [
       "<Figure size 648x1296 with 2 Axes>"
      ]
     },
     "metadata": {
      "needs_background": "light"
     },
     "output_type": "display_data"
    }
   ],
   "source": [
    "# Plot the elbow curve and silhouette scores\n",
    "fig, axs = plt.subplots(2, 1, figsize=(9, 18))\n",
    "axs[0].plot(range(2, 40), wcss,color='red',marker='*')\n",
    "axs[0].set_title('Elbow Curve',fontsize =15)\n",
    "axs[0].set_xlabel('Number of Clusters')\n",
    "axs[0].set_ylabel('WCSS')\n",
    "\n",
    "\n",
    "# Plot silhouette scores\n",
    "\n",
    "axs[1].plot(range(2, 40), silhouette_scores,color='red',marker='*')\n",
    "axs[1].set_title('Silhouette Scores',fontsize =15)\n",
    "axs[1].set_xlabel('Number of Clusters')\n",
    "axs[1].set_ylabel('Silhouette Score')\n",
    "plt.show()\n"
   ]
  },
  {
   "cell_type": "code",
   "execution_count": null,
   "id": "ce9ed423",
   "metadata": {},
   "outputs": [],
   "source": []
  },
  {
   "cell_type": "code",
   "execution_count": null,
   "id": "1434eca1",
   "metadata": {},
   "outputs": [],
   "source": []
  },
  {
   "cell_type": "code",
   "execution_count": 159,
   "id": "1f9c4b5f",
   "metadata": {},
   "outputs": [
    {
     "data": {
      "text/html": [
       "<div>\n",
       "<style scoped>\n",
       "    .dataframe tbody tr th:only-of-type {\n",
       "        vertical-align: middle;\n",
       "    }\n",
       "\n",
       "    .dataframe tbody tr th {\n",
       "        vertical-align: top;\n",
       "    }\n",
       "\n",
       "    .dataframe thead th {\n",
       "        text-align: right;\n",
       "    }\n",
       "</style>\n",
       "<table border=\"1\" class=\"dataframe\">\n",
       "  <thead>\n",
       "    <tr style=\"text-align: right;\">\n",
       "      <th></th>\n",
       "      <th>Cluster_num</th>\n",
       "      <th>silhouette_scores</th>\n",
       "    </tr>\n",
       "  </thead>\n",
       "  <tbody>\n",
       "    <tr>\n",
       "      <th>0</th>\n",
       "      <td>2</td>\n",
       "      <td>0.542339</td>\n",
       "    </tr>\n",
       "    <tr>\n",
       "      <th>1</th>\n",
       "      <td>3</td>\n",
       "      <td>0.508878</td>\n",
       "    </tr>\n",
       "    <tr>\n",
       "      <th>2</th>\n",
       "      <td>4</td>\n",
       "      <td>0.481560</td>\n",
       "    </tr>\n",
       "    <tr>\n",
       "      <th>3</th>\n",
       "      <td>5</td>\n",
       "      <td>0.468729</td>\n",
       "    </tr>\n",
       "    <tr>\n",
       "      <th>4</th>\n",
       "      <td>6</td>\n",
       "      <td>0.416704</td>\n",
       "    </tr>\n",
       "    <tr>\n",
       "      <th>5</th>\n",
       "      <td>7</td>\n",
       "      <td>0.415268</td>\n",
       "    </tr>\n",
       "    <tr>\n",
       "      <th>6</th>\n",
       "      <td>8</td>\n",
       "      <td>0.402293</td>\n",
       "    </tr>\n",
       "    <tr>\n",
       "      <th>7</th>\n",
       "      <td>9</td>\n",
       "      <td>0.372946</td>\n",
       "    </tr>\n",
       "    <tr>\n",
       "      <th>8</th>\n",
       "      <td>10</td>\n",
       "      <td>0.379462</td>\n",
       "    </tr>\n",
       "    <tr>\n",
       "      <th>9</th>\n",
       "      <td>11</td>\n",
       "      <td>0.343536</td>\n",
       "    </tr>\n",
       "    <tr>\n",
       "      <th>10</th>\n",
       "      <td>12</td>\n",
       "      <td>0.323163</td>\n",
       "    </tr>\n",
       "    <tr>\n",
       "      <th>11</th>\n",
       "      <td>13</td>\n",
       "      <td>0.323231</td>\n",
       "    </tr>\n",
       "    <tr>\n",
       "      <th>12</th>\n",
       "      <td>14</td>\n",
       "      <td>0.318504</td>\n",
       "    </tr>\n",
       "    <tr>\n",
       "      <th>13</th>\n",
       "      <td>15</td>\n",
       "      <td>0.329255</td>\n",
       "    </tr>\n",
       "    <tr>\n",
       "      <th>14</th>\n",
       "      <td>16</td>\n",
       "      <td>0.331818</td>\n",
       "    </tr>\n",
       "    <tr>\n",
       "      <th>15</th>\n",
       "      <td>17</td>\n",
       "      <td>0.335220</td>\n",
       "    </tr>\n",
       "    <tr>\n",
       "      <th>16</th>\n",
       "      <td>18</td>\n",
       "      <td>0.320577</td>\n",
       "    </tr>\n",
       "    <tr>\n",
       "      <th>17</th>\n",
       "      <td>19</td>\n",
       "      <td>0.322586</td>\n",
       "    </tr>\n",
       "    <tr>\n",
       "      <th>18</th>\n",
       "      <td>20</td>\n",
       "      <td>0.321741</td>\n",
       "    </tr>\n",
       "    <tr>\n",
       "      <th>19</th>\n",
       "      <td>21</td>\n",
       "      <td>0.314672</td>\n",
       "    </tr>\n",
       "    <tr>\n",
       "      <th>20</th>\n",
       "      <td>22</td>\n",
       "      <td>0.315750</td>\n",
       "    </tr>\n",
       "    <tr>\n",
       "      <th>21</th>\n",
       "      <td>23</td>\n",
       "      <td>0.317707</td>\n",
       "    </tr>\n",
       "    <tr>\n",
       "      <th>22</th>\n",
       "      <td>24</td>\n",
       "      <td>0.318186</td>\n",
       "    </tr>\n",
       "    <tr>\n",
       "      <th>23</th>\n",
       "      <td>25</td>\n",
       "      <td>0.313348</td>\n",
       "    </tr>\n",
       "    <tr>\n",
       "      <th>24</th>\n",
       "      <td>26</td>\n",
       "      <td>0.315283</td>\n",
       "    </tr>\n",
       "    <tr>\n",
       "      <th>25</th>\n",
       "      <td>27</td>\n",
       "      <td>0.309691</td>\n",
       "    </tr>\n",
       "    <tr>\n",
       "      <th>26</th>\n",
       "      <td>28</td>\n",
       "      <td>0.307750</td>\n",
       "    </tr>\n",
       "    <tr>\n",
       "      <th>27</th>\n",
       "      <td>29</td>\n",
       "      <td>0.308281</td>\n",
       "    </tr>\n",
       "    <tr>\n",
       "      <th>28</th>\n",
       "      <td>30</td>\n",
       "      <td>0.300674</td>\n",
       "    </tr>\n",
       "    <tr>\n",
       "      <th>29</th>\n",
       "      <td>31</td>\n",
       "      <td>0.304827</td>\n",
       "    </tr>\n",
       "    <tr>\n",
       "      <th>30</th>\n",
       "      <td>32</td>\n",
       "      <td>0.312839</td>\n",
       "    </tr>\n",
       "    <tr>\n",
       "      <th>31</th>\n",
       "      <td>33</td>\n",
       "      <td>0.317843</td>\n",
       "    </tr>\n",
       "    <tr>\n",
       "      <th>32</th>\n",
       "      <td>34</td>\n",
       "      <td>0.298910</td>\n",
       "    </tr>\n",
       "    <tr>\n",
       "      <th>33</th>\n",
       "      <td>35</td>\n",
       "      <td>0.303888</td>\n",
       "    </tr>\n",
       "    <tr>\n",
       "      <th>34</th>\n",
       "      <td>36</td>\n",
       "      <td>0.295032</td>\n",
       "    </tr>\n",
       "    <tr>\n",
       "      <th>35</th>\n",
       "      <td>37</td>\n",
       "      <td>0.300227</td>\n",
       "    </tr>\n",
       "    <tr>\n",
       "      <th>36</th>\n",
       "      <td>38</td>\n",
       "      <td>0.293102</td>\n",
       "    </tr>\n",
       "    <tr>\n",
       "      <th>37</th>\n",
       "      <td>39</td>\n",
       "      <td>0.291423</td>\n",
       "    </tr>\n",
       "  </tbody>\n",
       "</table>\n",
       "</div>"
      ],
      "text/plain": [
       "    Cluster_num  silhouette_scores\n",
       "0             2           0.542339\n",
       "1             3           0.508878\n",
       "2             4           0.481560\n",
       "3             5           0.468729\n",
       "4             6           0.416704\n",
       "5             7           0.415268\n",
       "6             8           0.402293\n",
       "7             9           0.372946\n",
       "8            10           0.379462\n",
       "9            11           0.343536\n",
       "10           12           0.323163\n",
       "11           13           0.323231\n",
       "12           14           0.318504\n",
       "13           15           0.329255\n",
       "14           16           0.331818\n",
       "15           17           0.335220\n",
       "16           18           0.320577\n",
       "17           19           0.322586\n",
       "18           20           0.321741\n",
       "19           21           0.314672\n",
       "20           22           0.315750\n",
       "21           23           0.317707\n",
       "22           24           0.318186\n",
       "23           25           0.313348\n",
       "24           26           0.315283\n",
       "25           27           0.309691\n",
       "26           28           0.307750\n",
       "27           29           0.308281\n",
       "28           30           0.300674\n",
       "29           31           0.304827\n",
       "30           32           0.312839\n",
       "31           33           0.317843\n",
       "32           34           0.298910\n",
       "33           35           0.303888\n",
       "34           36           0.295032\n",
       "35           37           0.300227\n",
       "36           38           0.293102\n",
       "37           39           0.291423"
      ]
     },
     "execution_count": 159,
     "metadata": {},
     "output_type": "execute_result"
    }
   ],
   "source": [
    "silhouette_scores=pd.DataFrame(silhouette_scores)\n",
    "#silhouette_scores = silhouette_scores.reset_index(drop=True)\n",
    "silhouette_scores.index = silhouette_scores.index + 2\n",
    "\n",
    "#silhouette_scores.reset_index()\n",
    "silhouette_scores.columns=['silhouette_scores']\n",
    "silhouette_scores = silhouette_scores.reset_index()\n",
    "\n",
    "silhouette_scores.columns=['Cluster_num','silhouette_scores']\n",
    "silhouette_scores"
   ]
  },
  {
   "cell_type": "code",
   "execution_count": null,
   "id": "3eb2376f",
   "metadata": {},
   "outputs": [],
   "source": [
    "\n"
   ]
  },
  {
   "cell_type": "code",
   "execution_count": null,
   "id": "4c9f3616",
   "metadata": {},
   "outputs": [],
   "source": []
  },
  {
   "cell_type": "code",
   "execution_count": null,
   "id": "a1fd1d34",
   "metadata": {},
   "outputs": [],
   "source": []
  },
  {
   "cell_type": "code",
   "execution_count": 160,
   "id": "197ef764",
   "metadata": {},
   "outputs": [
    {
     "data": {
      "text/plain": [
       "KMeans(max_iter=50, n_clusters=7, random_state=42)"
      ]
     },
     "execution_count": 160,
     "metadata": {},
     "output_type": "execute_result"
    }
   ],
   "source": [
    "# Perform k-means clustering with the optimal number of clusters\n",
    "kmeans = KMeans(n_clusters=7, init='k-means++',max_iter=50, random_state=42)\n",
    "kmeans.fit(rfm_df_scaled) "
   ]
  },
  {
   "cell_type": "code",
   "execution_count": 161,
   "id": "68e9e99e",
   "metadata": {},
   "outputs": [
    {
     "data": {
      "text/plain": [
       "array([4, 2, 0, ..., 2, 6, 0])"
      ]
     },
     "execution_count": 161,
     "metadata": {},
     "output_type": "execute_result"
    }
   ],
   "source": [
    "kmeans.labels_"
   ]
  },
  {
   "cell_type": "code",
   "execution_count": 162,
   "id": "977e5851",
   "metadata": {},
   "outputs": [],
   "source": [
    "RFM_Table.reset_index(inplace=True)"
   ]
  },
  {
   "cell_type": "code",
   "execution_count": 163,
   "id": "80864e0c",
   "metadata": {},
   "outputs": [],
   "source": [
    "\n",
    "# Add the cluster labels to the original data\n",
    "RFM_Table['Cluster'] = kmeans.labels_"
   ]
  },
  {
   "cell_type": "code",
   "execution_count": 164,
   "id": "7909d4af",
   "metadata": {},
   "outputs": [
    {
     "data": {
      "text/html": [
       "<div>\n",
       "<style scoped>\n",
       "    .dataframe tbody tr th:only-of-type {\n",
       "        vertical-align: middle;\n",
       "    }\n",
       "\n",
       "    .dataframe tbody tr th {\n",
       "        vertical-align: top;\n",
       "    }\n",
       "\n",
       "    .dataframe thead th {\n",
       "        text-align: right;\n",
       "    }\n",
       "</style>\n",
       "<table border=\"1\" class=\"dataframe\">\n",
       "  <thead>\n",
       "    <tr style=\"text-align: right;\">\n",
       "      <th></th>\n",
       "      <th>CustomerID</th>\n",
       "      <th>recency</th>\n",
       "      <th>frequency</th>\n",
       "      <th>monetary</th>\n",
       "      <th>Cluster</th>\n",
       "    </tr>\n",
       "  </thead>\n",
       "  <tbody>\n",
       "    <tr>\n",
       "      <th>3827</th>\n",
       "      <td>17690</td>\n",
       "      <td>30.0</td>\n",
       "      <td>252</td>\n",
       "      <td>4726.80</td>\n",
       "      <td>4</td>\n",
       "    </tr>\n",
       "    <tr>\n",
       "      <th>910</th>\n",
       "      <td>13590</td>\n",
       "      <td>11.0</td>\n",
       "      <td>87</td>\n",
       "      <td>1981.92</td>\n",
       "      <td>0</td>\n",
       "    </tr>\n",
       "    <tr>\n",
       "      <th>1699</th>\n",
       "      <td>14710</td>\n",
       "      <td>14.0</td>\n",
       "      <td>136</td>\n",
       "      <td>599.48</td>\n",
       "      <td>0</td>\n",
       "    </tr>\n",
       "    <tr>\n",
       "      <th>3480</th>\n",
       "      <td>17198</td>\n",
       "      <td>24.0</td>\n",
       "      <td>96</td>\n",
       "      <td>692.22</td>\n",
       "      <td>2</td>\n",
       "    </tr>\n",
       "    <tr>\n",
       "      <th>3187</th>\n",
       "      <td>16780</td>\n",
       "      <td>100.0</td>\n",
       "      <td>59</td>\n",
       "      <td>422.24</td>\n",
       "      <td>2</td>\n",
       "    </tr>\n",
       "  </tbody>\n",
       "</table>\n",
       "</div>"
      ],
      "text/plain": [
       "      CustomerID  recency  frequency  monetary  Cluster\n",
       "3827       17690     30.0        252   4726.80        4\n",
       "910        13590     11.0         87   1981.92        0\n",
       "1699       14710     14.0        136    599.48        0\n",
       "3480       17198     24.0         96    692.22        2\n",
       "3187       16780    100.0         59    422.24        2"
      ]
     },
     "execution_count": 164,
     "metadata": {},
     "output_type": "execute_result"
    }
   ],
   "source": [
    "RFM_Table.sample(5)"
   ]
  },
  {
   "cell_type": "code",
   "execution_count": null,
   "id": "fe58bdd6",
   "metadata": {},
   "outputs": [],
   "source": []
  },
  {
   "cell_type": "code",
   "execution_count": null,
   "id": "a07c0825",
   "metadata": {},
   "outputs": [],
   "source": []
  },
  {
   "cell_type": "code",
   "execution_count": null,
   "id": "9ceb79d8",
   "metadata": {},
   "outputs": [],
   "source": []
  },
  {
   "cell_type": "code",
   "execution_count": 165,
   "id": "a0b14bcc",
   "metadata": {},
   "outputs": [
    {
     "data": {
      "text/plain": [
       "<AxesSubplot:xlabel='Cluster', ylabel='recency'>"
      ]
     },
     "execution_count": 165,
     "metadata": {},
     "output_type": "execute_result"
    },
    {
     "data": {
      "image/png": "[encoded data removed]",
      "text/plain": [
       "<Figure size 720x576 with 1 Axes>"
      ]
     },
     "metadata": {
      "needs_background": "light"
     },
     "output_type": "display_data"
    }
   ],
   "source": [
    "# Box plot to visualize Cluster  vs recency\n",
    "\n",
    "sns.boxplot(x='Cluster', y='recency', data=RFM_Table)\n"
   ]
  },
  {
   "cell_type": "markdown",
   "id": "8828e9e4",
   "metadata": {},
   "source": [
    "By creating a boxplot for 'recency' across different clusters, we can compare the distribution of 'recency' values for each cluster and identify any potential differences between them. For example, if the boxes for different clusters are located at different positions, it may suggest that the clusters differ in terms of how recently customers made a purchase. Alternatively, if the boxes are similar, it may indicate that the clusters have similar purchase patterns in terms of recency."
   ]
  },
  {
   "cell_type": "code",
   "execution_count": null,
   "id": "43709965",
   "metadata": {},
   "outputs": [],
   "source": []
  },
  {
   "cell_type": "code",
   "execution_count": 166,
   "id": "6b584ebc",
   "metadata": {},
   "outputs": [
    {
     "data": {
      "text/plain": [
       "<AxesSubplot:xlabel='Cluster', ylabel='frequency'>"
      ]
     },
     "execution_count": 166,
     "metadata": {},
     "output_type": "execute_result"
    },
    {
     "data": {
      "image/png": "[encoded data removed]",
      "text/plain": [
       "<Figure size 720x576 with 1 Axes>"
      ]
     },
     "metadata": {
      "needs_background": "light"
     },
     "output_type": "display_data"
    }
   ],
   "source": [
    "# Box plot to visualize Cluster  vs recency\n",
    "\n",
    "sns.boxplot(x='Cluster', y='frequency', data=RFM_Table)\n"
   ]
  },
  {
   "cell_type": "markdown",
   "id": "caa6b587",
   "metadata": {},
   "source": [
    "By creating a boxplot for 'frequency' across different clusters, we can compare the distribution of 'frequency' values for each cluster and identify any potential differences between them. For example, if the boxes for different clusters are located at different positions, it may suggest that the clusters differ in terms of how frequently customers make a purchase. Alternatively, if the boxes are similar, it may indicate that the clusters have similar purchase patterns in terms of frequency."
   ]
  },
  {
   "cell_type": "code",
   "execution_count": null,
   "id": "ecf81830",
   "metadata": {},
   "outputs": [],
   "source": []
  },
  {
   "cell_type": "code",
   "execution_count": 167,
   "id": "397f5baa",
   "metadata": {},
   "outputs": [
    {
     "data": {
      "text/plain": [
       "<AxesSubplot:xlabel='Cluster', ylabel='monetary'>"
      ]
     },
     "execution_count": 167,
     "metadata": {},
     "output_type": "execute_result"
    },
    {
     "data": {
      "image/png": "[encoded data removed]",
      "text/plain": [
       "<Figure size 720x576 with 1 Axes>"
      ]
     },
     "metadata": {
      "needs_background": "light"
     },
     "output_type": "display_data"
    }
   ],
   "source": [
    "sns.boxplot(x='Cluster', y='monetary', data=RFM_Table)"
   ]
  },
  {
   "cell_type": "markdown",
   "id": "8de5aab5",
   "metadata": {},
   "source": [
    "By creating a boxplot for 'monetary' across different clusters, we can compare the distribution of 'monetary' values for each cluster and identify any potential differences between them. For example, if the boxes for different clusters are located at different positions, it may suggest that the clusters differ in terms of how much money customers spend on their purchases. Alternatively, if the boxes are similar, it may indicate that the clusters have similar purchase patterns in terms of monetary value."
   ]
  },
  {
   "cell_type": "code",
   "execution_count": null,
   "id": "d272a61c",
   "metadata": {},
   "outputs": [],
   "source": [
    "\n"
   ]
  },
  {
   "cell_type": "code",
   "execution_count": null,
   "id": "8277cd99",
   "metadata": {},
   "outputs": [],
   "source": []
  },
  {
   "cell_type": "markdown",
   "id": "d9d9d6cb",
   "metadata": {},
   "source": [
    "# The Diference b/w Elbow method and the Silhouette method\n",
    "\n",
    "\n",
    " - The **Elbow method** and the Silhouette method are two commonly used techniques to determine the optimal number of clusters in a dataset for a clustering algorithm.\n",
    "\n",
    " - The **Elbow method** involves plotting the **within-cluster sum of squares (WCSS)** as a function of the number of clusters, and then selecting the number of clusters at the \"elbow\" of the curve. The idea is to choose the number of clusters at the point of diminishing returns where adding more clusters does not lead to a significant decrease in the WCSS.\n",
    "\n",
    " - The **Silhouette method** involves computing the Silhouette coefficient for each data point in the clustering solution, which measures how well the data point fits into its assigned cluster compared to other clusters. The Silhouette coefficient ranges from **-1 to 1**, where a score closer to 1 indicates a better clustering solution. The Silhouette curve is then plotted as a function of the number of clusters, and the optimal number of clusters is selected based on the highest Silhouette score.\n",
    "\n",
    " - **Both methods** can be used to **determine the optimal number of clusters for a given dataset**, but they differ in how they evaluate the clustering solution. The Elbow method considers the amount of variance explained by the clusters, whereas the Silhouette method evaluates the quality of the clusters in terms of how well they separate the data points.\n",
    "\n",
    " - The **Elbow method** is useful for identifying the point of diminishing returns where adding more clusters does not lead to a significant decrease in the WCSS. However, it does not consider the quality of the clustering solution beyond the amount of variance explained. The **Silhouette method,** on the other hand, provides a more comprehensive evaluation of the clustering solution, taking into account both the amount of variance explained and the quality of the clusters. However, it can be more computationally intensive and may be less intuitive to interpret than the Elbow method."
   ]
  },
  {
   "cell_type": "code",
   "execution_count": null,
   "id": "8ee862b8",
   "metadata": {},
   "outputs": [],
   "source": []
  },
  {
   "cell_type": "code",
   "execution_count": null,
   "id": "c1b3ce1d",
   "metadata": {},
   "outputs": [],
   "source": []
  },
  {
   "cell_type": "markdown",
   "id": "79d0e231",
   "metadata": {},
   "source": [
    "# Hierarchical clustering\n",
    "\n",
    " - **Hierarchical clustering** is a type of unsupervised machine learning algorithm used to group together similar objects into clusters. It is a bottom-up approach in which the algorithm starts with each data point as its own cluster and iteratively merges the closest pairs of clusters until all data points belong to a single cluster or a predefined number of clusters is reached.\n",
    "***\n",
    "There are two types of hierarchical clustering:\n",
    "\n",
    " - **Agglomerative clustering:** This is the most common approach, in which the algorithm starts with each data point as a separate cluster and iteratively merges the closest pairs of clusters until all data points belong to a single cluster.\n",
    "\n",
    " - **Divisive clustering:** This is a top-down approach in which the algorithm starts with all data points in a single cluster and recursively splits the cluster into smaller subclusters until each data point is in its own cluster.\n",
    "\n",
    "***\n",
    " - Hierarchical clustering can be visualized using a dendrogram, which is a tree-like diagram that shows the hierarchy of clusters. The height of each branch in the dendrogram represents the distance between the clusters being merged.\n",
    "\n",
    " - Hierarchical clustering has many applications, including in market segmentation, image analysis, and bioinformatics."
   ]
  },
  {
   "cell_type": "code",
   "execution_count": null,
   "id": "5a25b98a",
   "metadata": {},
   "outputs": [],
   "source": []
  },
  {
   "cell_type": "markdown",
   "id": "3b2697d9",
   "metadata": {},
   "source": [
    "\n",
    "\n",
    " - In **hierarchical clustering,** the choice of linkage method determines how the distance between two clusters is calculated. The linkage method is used to merge clusters at each step of the algorithm.\n",
    "\n",
    "\n"
   ]
  },
  {
   "cell_type": "code",
   "execution_count": null,
   "id": "61d598c9",
   "metadata": {},
   "outputs": [],
   "source": []
  },
  {
   "cell_type": "markdown",
   "id": "05ae2192",
   "metadata": {},
   "source": [
    " - **Ward's method** is a popular linkage method that minimizes the sum of squared differences within all clusters. It tries to minimize the variance of the clusters being merged, and thus tends to create compact, spherical clusters."
   ]
  },
  {
   "cell_type": "code",
   "execution_count": 168,
   "id": "2302125d",
   "metadata": {},
   "outputs": [
    {
     "data": {
      "image/png": "[encoded data removed]",
      "text/plain": [
       "<Figure size 1080x1296 with 1 Axes>"
      ]
     },
     "metadata": {
      "needs_background": "light"
     },
     "output_type": "display_data"
    }
   ],
   "source": [
    "#Using Dendogram to choose the number of clusters \n",
    "from scipy.cluster.hierarchy import dendrogram,linkage\n",
    "plt.figure(figsize=(15,18))\n",
    "merg=linkage(rfm_df_scaled,method='ward',metric='euclidean')\n",
    "dendrogram(merg,p=30,leaf_rotation=90,color_threshold=25,leaf_font_size=10,truncate_mode='level')\n",
    "plt.plot([125]*2000000, color='r')\n",
    "plt.show()"
   ]
  },
  {
   "cell_type": "code",
   "execution_count": null,
   "id": "555366dd",
   "metadata": {},
   "outputs": [],
   "source": []
  },
  {
   "cell_type": "markdown",
   "id": "9bcd8e3e",
   "metadata": {},
   "source": [
    "- **complete linkage** (also known as maximum linkage) considers the maximum distance between all pairs of points in two clusters when merging them. It tends to produce more elongated clusters and may be more appropriate when dealing with non-spherical clusters."
   ]
  },
  {
   "cell_type": "code",
   "execution_count": 169,
   "id": "989d67d3",
   "metadata": {},
   "outputs": [
    {
     "data": {
      "image/png": "[encoded data removed]",
      "text/plain": [
       "<Figure size 1080x1296 with 1 Axes>"
      ]
     },
     "metadata": {
      "needs_background": "light"
     },
     "output_type": "display_data"
    }
   ],
   "source": [
    "plt.figure(figsize=(15,18))\n",
    "merg=linkage(rfm_df_scaled,method='complete',metric='euclidean')\n",
    "dendrogram(merg)\n",
    "plt.plot([125]*2000000, color='r')\n",
    "plt.show()"
   ]
  },
  {
   "cell_type": "code",
   "execution_count": null,
   "id": "7bacf390",
   "metadata": {},
   "outputs": [],
   "source": []
  },
  {
   "cell_type": "markdown",
   "id": "0a6db2ea",
   "metadata": {},
   "source": [
    " - Dendrograms can provide insights into the hierarchical structure of the data by showing how the data points are grouped based on their similarity. The height of the branches in a dendrogram shows the degree of similarity between the clusters or data points being merged.\n",
    " \n",
    " - The dendrogram can help in identifying natural clusters in the data based on the similarity measure used in clustering. It can also help in deciding the appropriate number of clusters to use in further analysis. The position of the horizontal line where the dendrogram is cut determines the number of clusters. Clusters can be identified by looking at the groups of data points that are formed below the cut-off line\n",
    " \n",
    "  - "
   ]
  },
  {
   "cell_type": "code",
   "execution_count": 170,
   "id": "7e068df1",
   "metadata": {},
   "outputs": [],
   "source": [
    "from scipy.cluster.hierarchy import fcluster"
   ]
  },
  {
   "cell_type": "code",
   "execution_count": 171,
   "id": "714bf224",
   "metadata": {},
   "outputs": [
    {
     "name": "stdout",
     "output_type": "stream",
     "text": [
      "Number of clusters: 7\n"
     ]
    }
   ],
   "source": [
    "# Extract the cluster labels for a distance threshold of 4\n",
    "labels = fcluster(merg, 5, criterion='distance')\n",
    "\n",
    "# Count the unique labels to get the number of clusters\n",
    "n_clusters = len(set(labels))\n",
    "print('Number of clusters:', n_clusters)"
   ]
  },
  {
   "cell_type": "code",
   "execution_count": 172,
   "id": "1501f4c1",
   "metadata": {},
   "outputs": [
    {
     "data": {
      "text/plain": [
       "KMeans(max_iter=50, n_clusters=7)"
      ]
     },
     "execution_count": 172,
     "metadata": {},
     "output_type": "execute_result"
    }
   ],
   "source": [
    "# Final model with k=7\n",
    "kmeans = KMeans(n_clusters=7, max_iter=50)\n",
    "kmeans.fit(rfm_df_scaled)"
   ]
  },
  {
   "cell_type": "code",
   "execution_count": 173,
   "id": "42b5d679",
   "metadata": {},
   "outputs": [
    {
     "data": {
      "text/plain": [
       "array([5, 6, 1, ..., 6, 2, 1])"
      ]
     },
     "execution_count": 173,
     "metadata": {},
     "output_type": "execute_result"
    }
   ],
   "source": [
    "kmeans.labels_"
   ]
  },
  {
   "cell_type": "code",
   "execution_count": null,
   "id": "d671c6c8",
   "metadata": {},
   "outputs": [],
   "source": []
  },
  {
   "cell_type": "code",
   "execution_count": 174,
   "id": "5a7b91e8",
   "metadata": {},
   "outputs": [
    {
     "data": {
      "text/html": [
       "<div>\n",
       "<style scoped>\n",
       "    .dataframe tbody tr th:only-of-type {\n",
       "        vertical-align: middle;\n",
       "    }\n",
       "\n",
       "    .dataframe tbody tr th {\n",
       "        vertical-align: top;\n",
       "    }\n",
       "\n",
       "    .dataframe thead th {\n",
       "        text-align: right;\n",
       "    }\n",
       "</style>\n",
       "<table border=\"1\" class=\"dataframe\">\n",
       "  <thead>\n",
       "    <tr style=\"text-align: right;\">\n",
       "      <th></th>\n",
       "      <th>CustomerID</th>\n",
       "      <th>recency</th>\n",
       "      <th>frequency</th>\n",
       "      <th>monetary</th>\n",
       "      <th>Cluster</th>\n",
       "      <th>Cluster_Labels</th>\n",
       "    </tr>\n",
       "  </thead>\n",
       "  <tbody>\n",
       "    <tr>\n",
       "      <th>0</th>\n",
       "      <td>12347</td>\n",
       "      <td>2.0</td>\n",
       "      <td>182</td>\n",
       "      <td>4310.00</td>\n",
       "      <td>4</td>\n",
       "      <td>5</td>\n",
       "    </tr>\n",
       "    <tr>\n",
       "      <th>1</th>\n",
       "      <td>12348</td>\n",
       "      <td>75.0</td>\n",
       "      <td>31</td>\n",
       "      <td>1797.24</td>\n",
       "      <td>2</td>\n",
       "      <td>6</td>\n",
       "    </tr>\n",
       "    <tr>\n",
       "      <th>2</th>\n",
       "      <td>12349</td>\n",
       "      <td>19.0</td>\n",
       "      <td>73</td>\n",
       "      <td>1757.55</td>\n",
       "      <td>0</td>\n",
       "      <td>1</td>\n",
       "    </tr>\n",
       "    <tr>\n",
       "      <th>3</th>\n",
       "      <td>12350</td>\n",
       "      <td>310.0</td>\n",
       "      <td>17</td>\n",
       "      <td>334.40</td>\n",
       "      <td>1</td>\n",
       "      <td>0</td>\n",
       "    </tr>\n",
       "    <tr>\n",
       "      <th>4</th>\n",
       "      <td>12352</td>\n",
       "      <td>36.0</td>\n",
       "      <td>85</td>\n",
       "      <td>2506.04</td>\n",
       "      <td>0</td>\n",
       "      <td>1</td>\n",
       "    </tr>\n",
       "  </tbody>\n",
       "</table>\n",
       "</div>"
      ],
      "text/plain": [
       "   CustomerID  recency  frequency  monetary  Cluster  Cluster_Labels\n",
       "0       12347      2.0        182   4310.00        4               5\n",
       "1       12348     75.0         31   1797.24        2               6\n",
       "2       12349     19.0         73   1757.55        0               1\n",
       "3       12350    310.0         17    334.40        1               0\n",
       "4       12352     36.0         85   2506.04        0               1"
      ]
     },
     "execution_count": 174,
     "metadata": {},
     "output_type": "execute_result"
    }
   ],
   "source": [
    "# assign the label\n",
    "RFM_Table['Cluster_Labels'] = kmeans.labels_\n",
    "RFM_Table.head()"
   ]
  },
  {
   "cell_type": "code",
   "execution_count": null,
   "id": "6040fb95",
   "metadata": {},
   "outputs": [],
   "source": []
  },
  {
   "cell_type": "code",
   "execution_count": 175,
   "id": "1d085f5e",
   "metadata": {},
   "outputs": [
    {
     "data": {
      "text/plain": [
       "<AxesSubplot:xlabel='Cluster_Labels', ylabel='recency'>"
      ]
     },
     "execution_count": 175,
     "metadata": {},
     "output_type": "execute_result"
    },
    {
     "data": {
      "image/png": "[encoded data removed]",
      "text/plain": [
       "<Figure size 720x576 with 1 Axes>"
      ]
     },
     "metadata": {
      "needs_background": "light"
     },
     "output_type": "display_data"
    }
   ],
   "source": [
    "# Box plot to visualize Cluster  vs recency\n",
    "\n",
    "sns.boxplot(x='Cluster_Labels', y='recency', data=RFM_Table)"
   ]
  },
  {
   "cell_type": "code",
   "execution_count": 176,
   "id": "814af455",
   "metadata": {},
   "outputs": [
    {
     "data": {
      "text/plain": [
       "<AxesSubplot:xlabel='Cluster_Labels', ylabel='frequency'>"
      ]
     },
     "execution_count": 176,
     "metadata": {},
     "output_type": "execute_result"
    },
    {
     "data": {
      "image/png": "[encoded data removed]",
      "text/plain": [
       "<Figure size 720x576 with 1 Axes>"
      ]
     },
     "metadata": {
      "needs_background": "light"
     },
     "output_type": "display_data"
    }
   ],
   "source": [
    "# Box plot to visualize Cluster  vs recency\n",
    "\n",
    "sns.boxplot(x='Cluster_Labels', y='frequency', data=RFM_Table)\n"
   ]
  },
  {
   "cell_type": "code",
   "execution_count": 177,
   "id": "c06da59e",
   "metadata": {},
   "outputs": [
    {
     "data": {
      "text/plain": [
       "<AxesSubplot:xlabel='Cluster_Labels', ylabel='monetary'>"
      ]
     },
     "execution_count": 177,
     "metadata": {},
     "output_type": "execute_result"
    },
    {
     "data": {
      "image/png": "[encoded data removed]",
      "text/plain": [
       "<Figure size 720x576 with 1 Axes>"
      ]
     },
     "metadata": {
      "needs_background": "light"
     },
     "output_type": "display_data"
    }
   ],
   "source": [
    "# Box plot to visualize Cluster  vs monetary\n",
    "\n",
    "sns.boxplot(x='Cluster_Labels', y='monetary', data=RFM_Table)"
   ]
  },
  {
   "cell_type": "code",
   "execution_count": null,
   "id": "87db12f5",
   "metadata": {},
   "outputs": [],
   "source": []
  },
  {
   "cell_type": "code",
   "execution_count": 178,
   "id": "dbeacb45",
   "metadata": {},
   "outputs": [
    {
     "data": {
      "text/html": [
       "<div>\n",
       "<style scoped>\n",
       "    .dataframe tbody tr th:only-of-type {\n",
       "        vertical-align: middle;\n",
       "    }\n",
       "\n",
       "    .dataframe tbody tr th {\n",
       "        vertical-align: top;\n",
       "    }\n",
       "\n",
       "    .dataframe thead th {\n",
       "        text-align: right;\n",
       "    }\n",
       "</style>\n",
       "<table border=\"1\" class=\"dataframe\">\n",
       "  <thead>\n",
       "    <tr style=\"text-align: right;\">\n",
       "      <th></th>\n",
       "      <th>CustomerID</th>\n",
       "      <th>recency</th>\n",
       "      <th>frequency</th>\n",
       "      <th>monetary</th>\n",
       "      <th>Cluster</th>\n",
       "      <th>Cluster_Labels</th>\n",
       "    </tr>\n",
       "  </thead>\n",
       "  <tbody>\n",
       "    <tr>\n",
       "      <th>0</th>\n",
       "      <td>12347</td>\n",
       "      <td>2.0</td>\n",
       "      <td>182</td>\n",
       "      <td>4310.00</td>\n",
       "      <td>4</td>\n",
       "      <td>5</td>\n",
       "    </tr>\n",
       "    <tr>\n",
       "      <th>1</th>\n",
       "      <td>12348</td>\n",
       "      <td>75.0</td>\n",
       "      <td>31</td>\n",
       "      <td>1797.24</td>\n",
       "      <td>2</td>\n",
       "      <td>6</td>\n",
       "    </tr>\n",
       "    <tr>\n",
       "      <th>2</th>\n",
       "      <td>12349</td>\n",
       "      <td>19.0</td>\n",
       "      <td>73</td>\n",
       "      <td>1757.55</td>\n",
       "      <td>0</td>\n",
       "      <td>1</td>\n",
       "    </tr>\n",
       "    <tr>\n",
       "      <th>3</th>\n",
       "      <td>12350</td>\n",
       "      <td>310.0</td>\n",
       "      <td>17</td>\n",
       "      <td>334.40</td>\n",
       "      <td>1</td>\n",
       "      <td>0</td>\n",
       "    </tr>\n",
       "    <tr>\n",
       "      <th>4</th>\n",
       "      <td>12352</td>\n",
       "      <td>36.0</td>\n",
       "      <td>85</td>\n",
       "      <td>2506.04</td>\n",
       "      <td>0</td>\n",
       "      <td>1</td>\n",
       "    </tr>\n",
       "    <tr>\n",
       "      <th>...</th>\n",
       "      <td>...</td>\n",
       "      <td>...</td>\n",
       "      <td>...</td>\n",
       "      <td>...</td>\n",
       "      <td>...</td>\n",
       "      <td>...</td>\n",
       "    </tr>\n",
       "    <tr>\n",
       "      <th>4250</th>\n",
       "      <td>18280</td>\n",
       "      <td>278.0</td>\n",
       "      <td>10</td>\n",
       "      <td>180.60</td>\n",
       "      <td>1</td>\n",
       "      <td>0</td>\n",
       "    </tr>\n",
       "    <tr>\n",
       "      <th>4251</th>\n",
       "      <td>18281</td>\n",
       "      <td>181.0</td>\n",
       "      <td>7</td>\n",
       "      <td>80.82</td>\n",
       "      <td>5</td>\n",
       "      <td>3</td>\n",
       "    </tr>\n",
       "    <tr>\n",
       "      <th>4252</th>\n",
       "      <td>18282</td>\n",
       "      <td>8.0</td>\n",
       "      <td>12</td>\n",
       "      <td>178.05</td>\n",
       "      <td>2</td>\n",
       "      <td>6</td>\n",
       "    </tr>\n",
       "    <tr>\n",
       "      <th>4253</th>\n",
       "      <td>18283</td>\n",
       "      <td>4.0</td>\n",
       "      <td>721</td>\n",
       "      <td>2045.53</td>\n",
       "      <td>6</td>\n",
       "      <td>2</td>\n",
       "    </tr>\n",
       "    <tr>\n",
       "      <th>4254</th>\n",
       "      <td>18287</td>\n",
       "      <td>43.0</td>\n",
       "      <td>70</td>\n",
       "      <td>1837.28</td>\n",
       "      <td>0</td>\n",
       "      <td>1</td>\n",
       "    </tr>\n",
       "  </tbody>\n",
       "</table>\n",
       "<p>4255 rows × 6 columns</p>\n",
       "</div>"
      ],
      "text/plain": [
       "      CustomerID  recency  frequency  monetary  Cluster  Cluster_Labels\n",
       "0          12347      2.0        182   4310.00        4               5\n",
       "1          12348     75.0         31   1797.24        2               6\n",
       "2          12349     19.0         73   1757.55        0               1\n",
       "3          12350    310.0         17    334.40        1               0\n",
       "4          12352     36.0         85   2506.04        0               1\n",
       "...          ...      ...        ...       ...      ...             ...\n",
       "4250       18280    278.0         10    180.60        1               0\n",
       "4251       18281    181.0          7     80.82        5               3\n",
       "4252       18282      8.0         12    178.05        2               6\n",
       "4253       18283      4.0        721   2045.53        6               2\n",
       "4254       18287     43.0         70   1837.28        0               1\n",
       "\n",
       "[4255 rows x 6 columns]"
      ]
     },
     "execution_count": 178,
     "metadata": {},
     "output_type": "execute_result"
    }
   ],
   "source": [
    "RFM_Table"
   ]
  },
  {
   "cell_type": "markdown",
   "id": "c8cbef62",
   "metadata": {},
   "source": [
    "**Recency:** Determine the most recent purchase date of each customer. This could be the date of the last order placed, or the date of the last website visit, or the date of the last interaction with the company. Assign a score based on recency, with the most recent customers receiving the highest score.\n",
    "\n",
    "**Frequency:** Determine the number of purchases made by each customer within a specified time period (usually one year). Assign a score based on frequency, with the most frequent customers receiving the highest score.\n",
    "\n",
    "**Monetary Value:** Determine the total amount of money spent by each customer within the specified time period. Assign a score based on monetary value, with the highest spending customers receiving the highest score."
   ]
  },
  {
   "cell_type": "markdown",
   "id": "d34daee4",
   "metadata": {},
   "source": [
    "# output\n",
    "\n",
    "### K-means\n",
    "\n",
    "##### recency\n",
    "\n",
    " - customer ID in cluster 1 has high recency\n",
    " - customer ID in cluster 3,6 has low recency\n",
    "\n",
    "\n",
    "##### frequent\n",
    "\n",
    "- Determine the number of purchases made by each customer within a specified time period\n",
    "\n",
    " - customer ID in cluster 1 has less freqent(less no. of purchase)\n",
    " - customer ID in cluster 3,6 has more frequent \n",
    "\n",
    " \n",
    "##### monetary\n",
    "\n",
    " - customer ID in cluster 1 spend less amount\n",
    " - customer ID in cluster 3,4,6 spend more amount\n",
    " \n",
    " \n",
    " - customerID in cluster 0 has low recency,low frequency and low monetary -- need to focus on this customer\n",
    " - customerID in cluster 1 has high recency,low frequency and low monetary -- lost customer\n",
    " \n",
    " "
   ]
  },
  {
   "cell_type": "code",
   "execution_count": null,
   "id": "ceb0c099",
   "metadata": {},
   "outputs": [],
   "source": []
  },
  {
   "cell_type": "markdown",
   "id": "824a4c2c",
   "metadata": {},
   "source": [
    "# Hierarchical\n",
    "\n",
    "\n",
    " - customerId in clusterlabel 4 , 5 - low recency , highly frequent and highly expensive - loyal customer"
   ]
  },
  {
   "cell_type": "code",
   "execution_count": null,
   "id": "9da64508",
   "metadata": {},
   "outputs": [],
   "source": []
  }
 ],
 "metadata": {
  "kernelspec": {
   "display_name": "Python 3 (ipykernel)",
   "language": "python",
   "name": "python3"
  },
  "language_info": {
   "codemirror_mode": {
    "name": "ipython",
    "version": 3
   },
   "file_extension": ".py",
   "mimetype": "text/x-python",
   "name": "python",
   "nbconvert_exporter": "python",
   "pygments_lexer": "ipython3",
   "version": "3.9.12"
  }
 },
 "nbformat": 4,
 "nbformat_minor": 5
}
